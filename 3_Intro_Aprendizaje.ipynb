{
 "cells": [
  {
   "cell_type": "markdown",
   "metadata": {},
   "source": [
    "# Mapeando el Universo\n",
    "\n"
   ]
  },
  {
   "cell_type": "markdown",
   "metadata": {},
   "source": [
    "## Introducción al aprendizaje automático"
   ]
  },
  {
   "cell_type": "markdown",
   "metadata": {},
   "source": [
    "  * Tomar el dataset \"limpio\" obtenido del práctico anterior y considerar algunos de los siguientes conjuntos de variables\n",
    "  \n",
    "   + modelMag_*, colores_modelMag, devRad_*\n",
    "   + modelMag_*, colores_modelMag, expRad_*\n",
    "   + petroMag_*, colores_petroMag, petroRad_*, petroR50_*, petroR90_*\n",
    "  \n",
    "  * Emplear el modelo de regresión lineal para estimar la variables _redshift_.\n",
    "   + Considere utilizar o no regulación\n",
    "    \n",
    "  * Utilizar algún método para evaluar la complejidad del/de los modelo/s.\n",
    "  \n",
    "  * Evaluar que sucede si se distrimina por tipo de galaxia.\n",
    "  \n",
    "  * Emplear algunos (más de uno) de los modelos de clasificación (perceptrón, regresión logística, vecinos más cercanos) para clasificar las galaxias en elípticas y espirales a partir de las variables elegidas.\n",
    "  \n",
    "   + Computar las metricas accuracy,precision, recall, F1, matriz de confusión\n",
    " \n",
    "   + Visualización de la frontera de decisión\n",
    "   "
   ]
  },
  {
   "cell_type": "markdown",
   "metadata": {},
   "source": [
    "### Lectura de datos"
   ]
  },
  {
   "cell_type": "markdown",
   "metadata": {},
   "source": [
    "Esto es una manera, pueden utilizar las que más les convenga"
   ]
  },
  {
   "cell_type": "code",
   "execution_count": 1,
   "metadata": {},
   "outputs": [
    {
     "data": {
      "application/javascript": [
       "IPython.OutputArea.prototype._should_scroll = function(lines) {\n",
       "    return false;\n",
       "}\n"
      ],
      "text/plain": [
       "<IPython.core.display.Javascript object>"
      ]
     },
     "metadata": {},
     "output_type": "display_data"
    }
   ],
   "source": [
    "%%javascript\n",
    "IPython.OutputArea.prototype._should_scroll = function(lines) {\n",
    "    return false;\n",
    "}"
   ]
  },
  {
   "cell_type": "code",
   "execution_count": 2,
   "metadata": {},
   "outputs": [],
   "source": [
    "import warnings\n",
    "warnings.filterwarnings('ignore')"
   ]
  },
  {
   "cell_type": "code",
   "execution_count": 3,
   "metadata": {},
   "outputs": [
    {
     "name": "stderr",
     "output_type": "stream",
     "text": [
      "Matplotlib is building the font cache using fc-list. This may take a moment.\n"
     ]
    }
   ],
   "source": [
    "import pandas as pd\n",
    "import numpy as np\n",
    "import matplotlib.pyplot as plt\n",
    "import seaborn as sns\n",
    "from sklearn.linear_model import LinearRegression\n",
    "from sklearn.preprocessing import PolynomialFeatures\n",
    "from sklearn.pipeline import make_pipeline\n",
    "from sklearn.model_selection import train_test_split\n",
    "from sklearn import datasets, linear_model\n",
    "from sklearn.linear_model import SGDClassifier\n",
    "from sklearn.metrics import mean_squared_error, r2_score\n",
    "import numpy as np\n",
    "import matplotlib.pyplot as plt\n",
    "from sklearn.metrics import precision_score\n",
    "from sklearn.metrics import recall_score\n",
    "from sklearn.metrics import f1_score\n",
    "from sklearn.metrics import confusion_matrix"
   ]
  },
  {
   "cell_type": "code",
   "execution_count": 4,
   "metadata": {},
   "outputs": [],
   "source": [
    "filename = \"dataset/data_filter.csv\""
   ]
  },
  {
   "cell_type": "code",
   "execution_count": 5,
   "metadata": {},
   "outputs": [],
   "source": [
    "df = pd.read_csv(filename,index_col=0)"
   ]
  },
  {
   "cell_type": "code",
   "execution_count": 6,
   "metadata": {},
   "outputs": [
    {
     "data": {
      "text/html": [
       "<div>\n",
       "<style scoped>\n",
       "    .dataframe tbody tr th:only-of-type {\n",
       "        vertical-align: middle;\n",
       "    }\n",
       "\n",
       "    .dataframe tbody tr th {\n",
       "        vertical-align: top;\n",
       "    }\n",
       "\n",
       "    .dataframe thead th {\n",
       "        text-align: right;\n",
       "    }\n",
       "</style>\n",
       "<table border=\"1\" class=\"dataframe\">\n",
       "  <thead>\n",
       "    <tr style=\"text-align: right;\">\n",
       "      <th></th>\n",
       "      <th>z</th>\n",
       "      <th>velDisp</th>\n",
       "      <th>ra</th>\n",
       "      <th>dec</th>\n",
       "      <th>modelMag_u</th>\n",
       "      <th>modelMag_g</th>\n",
       "      <th>modelMag_r</th>\n",
       "      <th>modelMag_i</th>\n",
       "      <th>modelMag_z</th>\n",
       "      <th>petroMag_u</th>\n",
       "      <th>...</th>\n",
       "      <th>subClass_STARFORMING_BROADLINE</th>\n",
       "      <th>subClass_null</th>\n",
       "      <th>modelColor_ug</th>\n",
       "      <th>modelColor_gr</th>\n",
       "      <th>modelColor_ri</th>\n",
       "      <th>modelColor_iz</th>\n",
       "      <th>petroColor_ug</th>\n",
       "      <th>petroColor_gr</th>\n",
       "      <th>petroColor_ri</th>\n",
       "      <th>petroColor_iz</th>\n",
       "    </tr>\n",
       "  </thead>\n",
       "  <tbody>\n",
       "    <tr>\n",
       "      <th>count</th>\n",
       "      <td>608921.000000</td>\n",
       "      <td>608921.000000</td>\n",
       "      <td>608921.000000</td>\n",
       "      <td>608921.000000</td>\n",
       "      <td>608921.000000</td>\n",
       "      <td>608921.000000</td>\n",
       "      <td>608921.000000</td>\n",
       "      <td>608921.000000</td>\n",
       "      <td>608921.000000</td>\n",
       "      <td>608921.000000</td>\n",
       "      <td>...</td>\n",
       "      <td>608921.000000</td>\n",
       "      <td>608921.000000</td>\n",
       "      <td>608921.000000</td>\n",
       "      <td>608921.000000</td>\n",
       "      <td>608921.000000</td>\n",
       "      <td>608921.000000</td>\n",
       "      <td>608921.000000</td>\n",
       "      <td>608921.000000</td>\n",
       "      <td>608921.000000</td>\n",
       "      <td>608921.000000</td>\n",
       "    </tr>\n",
       "    <tr>\n",
       "      <th>mean</th>\n",
       "      <td>0.104342</td>\n",
       "      <td>135.548575</td>\n",
       "      <td>184.663017</td>\n",
       "      <td>25.119669</td>\n",
       "      <td>19.486345</td>\n",
       "      <td>17.820442</td>\n",
       "      <td>16.964847</td>\n",
       "      <td>16.554727</td>\n",
       "      <td>16.264905</td>\n",
       "      <td>19.482649</td>\n",
       "      <td>...</td>\n",
       "      <td>0.001363</td>\n",
       "      <td>0.590323</td>\n",
       "      <td>1.665904</td>\n",
       "      <td>0.855595</td>\n",
       "      <td>0.410120</td>\n",
       "      <td>0.289823</td>\n",
       "      <td>1.615551</td>\n",
       "      <td>0.831818</td>\n",
       "      <td>0.386924</td>\n",
       "      <td>0.233235</td>\n",
       "    </tr>\n",
       "    <tr>\n",
       "      <th>std</th>\n",
       "      <td>0.053560</td>\n",
       "      <td>74.773948</td>\n",
       "      <td>58.737151</td>\n",
       "      <td>19.010990</td>\n",
       "      <td>0.960267</td>\n",
       "      <td>0.763514</td>\n",
       "      <td>0.675561</td>\n",
       "      <td>0.673814</td>\n",
       "      <td>0.707239</td>\n",
       "      <td>1.157991</td>\n",
       "      <td>...</td>\n",
       "      <td>0.036895</td>\n",
       "      <td>0.491775</td>\n",
       "      <td>0.458326</td>\n",
       "      <td>0.296790</td>\n",
       "      <td>0.097406</td>\n",
       "      <td>0.179993</td>\n",
       "      <td>0.799674</td>\n",
       "      <td>0.352273</td>\n",
       "      <td>0.220364</td>\n",
       "      <td>0.373315</td>\n",
       "    </tr>\n",
       "    <tr>\n",
       "      <th>min</th>\n",
       "      <td>-0.006568</td>\n",
       "      <td>0.000000</td>\n",
       "      <td>0.001718</td>\n",
       "      <td>-11.252825</td>\n",
       "      <td>14.226100</td>\n",
       "      <td>13.574420</td>\n",
       "      <td>13.890400</td>\n",
       "      <td>13.758980</td>\n",
       "      <td>12.382540</td>\n",
       "      <td>11.984880</td>\n",
       "      <td>...</td>\n",
       "      <td>0.000000</td>\n",
       "      <td>0.000000</td>\n",
       "      <td>-9.993700</td>\n",
       "      <td>-6.423580</td>\n",
       "      <td>-4.947020</td>\n",
       "      <td>-13.819450</td>\n",
       "      <td>-19.256860</td>\n",
       "      <td>-3.612750</td>\n",
       "      <td>-22.090000</td>\n",
       "      <td>-21.056590</td>\n",
       "    </tr>\n",
       "    <tr>\n",
       "      <th>25%</th>\n",
       "      <td>0.066619</td>\n",
       "      <td>83.816160</td>\n",
       "      <td>151.925664</td>\n",
       "      <td>9.675502</td>\n",
       "      <td>18.901570</td>\n",
       "      <td>17.420410</td>\n",
       "      <td>16.635270</td>\n",
       "      <td>16.226100</td>\n",
       "      <td>15.916920</td>\n",
       "      <td>18.858070</td>\n",
       "      <td>...</td>\n",
       "      <td>0.000000</td>\n",
       "      <td>0.000000</td>\n",
       "      <td>1.343030</td>\n",
       "      <td>0.675080</td>\n",
       "      <td>0.373660</td>\n",
       "      <td>0.248440</td>\n",
       "      <td>1.239470</td>\n",
       "      <td>0.639410</td>\n",
       "      <td>0.350710</td>\n",
       "      <td>0.188920</td>\n",
       "    </tr>\n",
       "    <tr>\n",
       "      <th>50%</th>\n",
       "      <td>0.097589</td>\n",
       "      <td>131.624900</td>\n",
       "      <td>185.461795</td>\n",
       "      <td>23.769607</td>\n",
       "      <td>19.528360</td>\n",
       "      <td>17.971860</td>\n",
       "      <td>17.157480</td>\n",
       "      <td>16.737970</td>\n",
       "      <td>16.430190</td>\n",
       "      <td>19.460280</td>\n",
       "      <td>...</td>\n",
       "      <td>0.000000</td>\n",
       "      <td>1.000000</td>\n",
       "      <td>1.718690</td>\n",
       "      <td>0.875560</td>\n",
       "      <td>0.422390</td>\n",
       "      <td>0.315140</td>\n",
       "      <td>1.542990</td>\n",
       "      <td>0.843520</td>\n",
       "      <td>0.404890</td>\n",
       "      <td>0.271040</td>\n",
       "    </tr>\n",
       "    <tr>\n",
       "      <th>75%</th>\n",
       "      <td>0.136380</td>\n",
       "      <td>181.387900</td>\n",
       "      <td>220.488190</td>\n",
       "      <td>39.551447</td>\n",
       "      <td>20.146590</td>\n",
       "      <td>18.358100</td>\n",
       "      <td>17.474630</td>\n",
       "      <td>17.051040</td>\n",
       "      <td>16.752250</td>\n",
       "      <td>20.062810</td>\n",
       "      <td>...</td>\n",
       "      <td>0.000000</td>\n",
       "      <td>1.000000</td>\n",
       "      <td>1.938110</td>\n",
       "      <td>1.022410</td>\n",
       "      <td>0.463140</td>\n",
       "      <td>0.353350</td>\n",
       "      <td>1.817090</td>\n",
       "      <td>0.995580</td>\n",
       "      <td>0.445390</td>\n",
       "      <td>0.324840</td>\n",
       "    </tr>\n",
       "    <tr>\n",
       "      <th>max</th>\n",
       "      <td>1.000208</td>\n",
       "      <td>850.000000</td>\n",
       "      <td>359.997379</td>\n",
       "      <td>70.268882</td>\n",
       "      <td>30.599800</td>\n",
       "      <td>28.401410</td>\n",
       "      <td>25.141300</td>\n",
       "      <td>20.176000</td>\n",
       "      <td>28.553240</td>\n",
       "      <td>41.270800</td>\n",
       "      <td>...</td>\n",
       "      <td>1.000000</td>\n",
       "      <td>1.000000</td>\n",
       "      <td>13.198990</td>\n",
       "      <td>13.050000</td>\n",
       "      <td>9.648550</td>\n",
       "      <td>5.005140</td>\n",
       "      <td>24.066280</td>\n",
       "      <td>19.110600</td>\n",
       "      <td>4.211290</td>\n",
       "      <td>19.374340</td>\n",
       "    </tr>\n",
       "  </tbody>\n",
       "</table>\n",
       "<p>8 rows × 48 columns</p>\n",
       "</div>"
      ],
      "text/plain": [
       "                   z        velDisp             ra            dec  \\\n",
       "count  608921.000000  608921.000000  608921.000000  608921.000000   \n",
       "mean        0.104342     135.548575     184.663017      25.119669   \n",
       "std         0.053560      74.773948      58.737151      19.010990   \n",
       "min        -0.006568       0.000000       0.001718     -11.252825   \n",
       "25%         0.066619      83.816160     151.925664       9.675502   \n",
       "50%         0.097589     131.624900     185.461795      23.769607   \n",
       "75%         0.136380     181.387900     220.488190      39.551447   \n",
       "max         1.000208     850.000000     359.997379      70.268882   \n",
       "\n",
       "          modelMag_u     modelMag_g     modelMag_r     modelMag_i  \\\n",
       "count  608921.000000  608921.000000  608921.000000  608921.000000   \n",
       "mean       19.486345      17.820442      16.964847      16.554727   \n",
       "std         0.960267       0.763514       0.675561       0.673814   \n",
       "min        14.226100      13.574420      13.890400      13.758980   \n",
       "25%        18.901570      17.420410      16.635270      16.226100   \n",
       "50%        19.528360      17.971860      17.157480      16.737970   \n",
       "75%        20.146590      18.358100      17.474630      17.051040   \n",
       "max        30.599800      28.401410      25.141300      20.176000   \n",
       "\n",
       "          modelMag_z     petroMag_u  ...  subClass_STARFORMING_BROADLINE  \\\n",
       "count  608921.000000  608921.000000  ...                   608921.000000   \n",
       "mean       16.264905      19.482649  ...                        0.001363   \n",
       "std         0.707239       1.157991  ...                        0.036895   \n",
       "min        12.382540      11.984880  ...                        0.000000   \n",
       "25%        15.916920      18.858070  ...                        0.000000   \n",
       "50%        16.430190      19.460280  ...                        0.000000   \n",
       "75%        16.752250      20.062810  ...                        0.000000   \n",
       "max        28.553240      41.270800  ...                        1.000000   \n",
       "\n",
       "       subClass_null  modelColor_ug  modelColor_gr  modelColor_ri  \\\n",
       "count  608921.000000  608921.000000  608921.000000  608921.000000   \n",
       "mean        0.590323       1.665904       0.855595       0.410120   \n",
       "std         0.491775       0.458326       0.296790       0.097406   \n",
       "min         0.000000      -9.993700      -6.423580      -4.947020   \n",
       "25%         0.000000       1.343030       0.675080       0.373660   \n",
       "50%         1.000000       1.718690       0.875560       0.422390   \n",
       "75%         1.000000       1.938110       1.022410       0.463140   \n",
       "max         1.000000      13.198990      13.050000       9.648550   \n",
       "\n",
       "       modelColor_iz  petroColor_ug  petroColor_gr  petroColor_ri  \\\n",
       "count  608921.000000  608921.000000  608921.000000  608921.000000   \n",
       "mean        0.289823       1.615551       0.831818       0.386924   \n",
       "std         0.179993       0.799674       0.352273       0.220364   \n",
       "min       -13.819450     -19.256860      -3.612750     -22.090000   \n",
       "25%         0.248440       1.239470       0.639410       0.350710   \n",
       "50%         0.315140       1.542990       0.843520       0.404890   \n",
       "75%         0.353350       1.817090       0.995580       0.445390   \n",
       "max         5.005140      24.066280      19.110600       4.211290   \n",
       "\n",
       "       petroColor_iz  \n",
       "count  608921.000000  \n",
       "mean        0.233235  \n",
       "std         0.373315  \n",
       "min       -21.056590  \n",
       "25%         0.188920  \n",
       "50%         0.271040  \n",
       "75%         0.324840  \n",
       "max        19.374340  \n",
       "\n",
       "[8 rows x 48 columns]"
      ]
     },
     "execution_count": 6,
     "metadata": {},
     "output_type": "execute_result"
    }
   ],
   "source": [
    "df.describe()"
   ]
  },
  {
   "cell_type": "code",
   "execution_count": 7,
   "metadata": {},
   "outputs": [],
   "source": [
    "df = df[0:10000]"
   ]
  },
  {
   "cell_type": "markdown",
   "metadata": {},
   "source": [
    "## Primer set de datos: variables Model"
   ]
  },
  {
   "cell_type": "code",
   "execution_count": 15,
   "metadata": {},
   "outputs": [
    {
     "data": {
      "text/plain": [
       "['modelColor_ug', 'modelColor_gr', 'modelColor_ri', 'modelColor_iz']"
      ]
     },
     "execution_count": 15,
     "metadata": {},
     "output_type": "execute_result"
    }
   ],
   "source": [
    "filter_col = [col for col in df if col.startswith('modelColor')]\n",
    "filter_col"
   ]
  },
  {
   "cell_type": "markdown",
   "metadata": {},
   "source": [
    "### Variables usadas vs redshift"
   ]
  },
  {
   "cell_type": "code",
   "execution_count": 16,
   "metadata": {},
   "outputs": [
    {
     "data": {
      "image/png": "[encoded data removed]",
      "text/plain": [
       "<Figure size 432x288 with 1 Axes>"
      ]
     },
     "metadata": {
      "needs_background": "light"
     },
     "output_type": "display_data"
    },
    {
     "data": {
      "image/png": "[encoded data removed]",
      "text/plain": [
       "<Figure size 432x288 with 1 Axes>"
      ]
     },
     "metadata": {
      "needs_background": "light"
     },
     "output_type": "display_data"
    },
    {
     "data": {
      "image/png": "[encoded data removed]",
      "text/plain": [
       "<Figure size 432x288 with 1 Axes>"
      ]
     },
     "metadata": {
      "needs_background": "light"
     },
     "output_type": "display_data"
    },
    {
     "data": {
      "image/png": "[encoded data removed]",
      "text/plain": [
       "<Figure size 432x288 with 1 Axes>"
      ]
     },
     "metadata": {
      "needs_background": "light"
     },
     "output_type": "display_data"
    }
   ],
   "source": [
    "for i in filter_col:\n",
    "    plt.scatter(df[i],df['z'], facecolor=\"dodgerblue\", edgecolor=\"k\", label=\"datos\")\n",
    "    plt.title(i)\n",
    "    plt.show()"
   ]
  },
  {
   "cell_type": "markdown",
   "metadata": {},
   "source": [
    "### Pruebas con regresión lineal y grados del polinomio"
   ]
  },
  {
   "cell_type": "code",
   "execution_count": 44,
   "metadata": {},
   "outputs": [
    {
     "name": "stdout",
     "output_type": "stream",
     "text": [
      "(8000, 4)\n",
      "[0.0018560325992764332, 0.005211707934302597, 459.3037171939415, 201964.11759078375, 3426359.8996444806]\n"
     ]
    },
    {
     "data": {
      "image/png": "[encoded data removed]",
      "text/plain": [
       "<Figure size 432x288 with 1 Axes>"
      ]
     },
     "metadata": {
      "needs_background": "light"
     },
     "output_type": "display_data"
    },
    {
     "name": "stdout",
     "output_type": "stream",
     "text": [
      "Grado de polinomio con mejor performance: 2\n",
      "Error: 0.001856\n"
     ]
    }
   ],
   "source": [
    "selector =[filter_col]\n",
    "#selector=['modelMag_u']\n",
    "min_selector_error = []\n",
    "min_selector_indx = []\n",
    "# Los grados se prueban desde init hasta degrees\n",
    "init = 2\n",
    "degrees = 6\n",
    "\n",
    "for j in selector:\n",
    "\n",
    "    X, y = df[j], df['z']\n",
    "    X_train, X_test, y_train, y_test = train_test_split(X, y, train_size=0.8, random_state=0)\n",
    "    \n",
    "    print(X_train.shape)\n",
    "\n",
    "    train_error = []\n",
    "    test_error = []\n",
    "    y_test_pred = []\n",
    "\n",
    "    for i in range(init,degrees+1):\n",
    "        # Genero los modelos\n",
    "        model = make_pipeline(PolynomialFeatures(i), LinearRegression())\n",
    "\n",
    "        # Entreno los modelos\n",
    "        model.fit(X_train, y_train)\n",
    "\n",
    "        # Predigo los valores de test\n",
    "        y_train_pred  = model.predict(X_train)\n",
    "\n",
    "        # Predigo los valores de train\n",
    "        y_test_pred.append(model.predict(X_test))\n",
    "\n",
    "        # Error cuadratico medio entrenamiento\n",
    "        train_error.append(mean_squared_error(y_train, y_train_pred))\n",
    "\n",
    "        # Error cuadratico medio test\n",
    "        test_error.append(mean_squared_error(y_test, y_test_pred[i-init]))\n",
    "\n",
    "    print(test_error)\n",
    "    min_selector_error.append(min(test_error))\n",
    "    min_selector_indx.append(test_error.index(min(test_error)))\n",
    "\n",
    "    # Grafico error\n",
    "    plt.plot(range(init,degrees+1), train_error, color=\"blue\", label=\"train_error\", linewidth=3)\n",
    "    plt.plot(range(init,degrees+1), test_error, color=\"red\", label=\"test_error\", linewidth=3)\n",
    "    plt.legend()\n",
    "    plt.show()\n",
    "\n",
    "print(\"Grado de polinomio con mejor performance: %d\"%(min_selector_indx[0]+init))\n",
    "print(\"Error: %f\"%(min_selector_error[0]))"
   ]
  },
  {
   "cell_type": "markdown",
   "metadata": {},
   "source": [
    "### Error cuadrático de cada muestra"
   ]
  },
  {
   "cell_type": "code",
   "execution_count": 19,
   "metadata": {},
   "outputs": [
    {
     "data": {
      "image/png": "[encoded data removed]",
      "text/plain": [
       "<Figure size 432x288 with 1 Axes>"
      ]
     },
     "metadata": {
      "needs_background": "light"
     },
     "output_type": "display_data"
    }
   ],
   "source": [
    "min_indx = test_error.index(min(test_error))\n",
    "difference = (y_test.values - y_test_pred[min_indx])**2\n",
    "plt.plot(difference, \"b\", label=\"error\")\n",
    "plt.title(\"Error cuadrático en cada muestra de test polinomio grado %d\"%(min_indx+init))\n",
    "plt.legend()\n",
    "plt.ylabel(\"error cuadratico\")\n",
    "plt.show()"
   ]
  },
  {
   "cell_type": "code",
   "execution_count": 20,
   "metadata": {},
   "outputs": [
    {
     "name": "stdout",
     "output_type": "stream",
     "text": [
      "(array([584]),)\n"
     ]
    },
    {
     "data": {
      "text/plain": [
       "array([-0.96520185])"
      ]
     },
     "execution_count": 20,
     "metadata": {},
     "output_type": "execute_result"
    }
   ],
   "source": [
    "# Muestra rara, revisar las magnitudes\n",
    "max_error_indx = np.where(difference == max(difference))\n",
    "print(max_error_indx)\n",
    "y_test.values[max_error_indx[0]]\n",
    "y_test_pred[min_indx][max_error_indx[0]]"
   ]
  },
  {
   "cell_type": "markdown",
   "metadata": {},
   "source": [
    "### Regularización  \n",
    "Se ven problemas de overfitting en el grado 3 y 4. Ridge Regression usa una regresión lineal pero le agrega el término de regularización L2 (con la constante alpha).  \n",
    "<img src=\"images/CodeCogsEqn.gif\">\n",
    "\n"
   ]
  },
  {
   "cell_type": "code",
   "execution_count": 48,
   "metadata": {},
   "outputs": [
    {
     "name": "stdout",
     "output_type": "stream",
     "text": [
      "459.1701886868915\n",
      "459.1025971240444\n",
      "0.26467627239411967\n",
      "0.02334576627650916\n"
     ]
    }
   ],
   "source": [
    "from sklearn.linear_model import Ridge\n",
    "\n",
    "degree = 4\n",
    "alphas = [0.0, 1e-5, 1e-1, 0.16]\n",
    "\n",
    "for i in alphas:\n",
    "\n",
    "    model_norm = make_pipeline(PolynomialFeatures(degree), Ridge(alpha=i))\n",
    "    model_norm.fit(X_train, y_train)\n",
    "\n",
    "    # Predigo los valores de test\n",
    "    y_train_pred_norm  = model_norm.predict(X_train)\n",
    "\n",
    "    # Predigo los valores de train\n",
    "    y_test_pred_norm = model_norm.predict(X_test)\n",
    "\n",
    "    # Error cuadratico medio entrenamiento\n",
    "    train_error_norm = mean_squared_error(y_train, y_train_pred_norm)\n",
    "\n",
    "    # Error cuadratico medio test\n",
    "    test_error_norm = mean_squared_error(y_test, y_test_pred_norm)\n",
    "\n",
    "    print(test_error_norm)"
   ]
  },
  {
   "cell_type": "code",
   "execution_count": 49,
   "metadata": {},
   "outputs": [
    {
     "data": {
      "image/png": "[encoded data removed]",
      "text/plain": [
       "<Figure size 432x288 with 1 Axes>"
      ]
     },
     "metadata": {
      "needs_background": "light"
     },
     "output_type": "display_data"
    }
   ],
   "source": [
    "difference = (y_test.values - y_test_pred_norm)**2\n",
    "plt.plot(difference, \"b\", label=\"error\")\n",
    "plt.title(\"Error cuadrático en cada muestra de test polinomio grado %d\"%(min_indx+init))\n",
    "plt.legend()\n",
    "plt.ylabel(\"error cuadratico\")\n",
    "plt.show()"
   ]
  },
  {
   "cell_type": "code",
   "execution_count": 50,
   "metadata": {},
   "outputs": [
    {
     "name": "stdout",
     "output_type": "stream",
     "text": [
      "(array([332]),)\n"
     ]
    },
    {
     "data": {
      "text/plain": [
       "array([-6.37617711])"
      ]
     },
     "execution_count": 50,
     "metadata": {},
     "output_type": "execute_result"
    }
   ],
   "source": [
    "# Muestra rara, revisar las magnitudes\n",
    "max_error_indx = np.where(difference == max(difference))\n",
    "print(max_error_indx)\n",
    "y_test.values[max_error_indx[0]]\n",
    "y_test_pred_norm[max_error_indx[0]]"
   ]
  },
  {
   "cell_type": "markdown",
   "metadata": {},
   "source": [
    "### Evaluación de la complejidad de los modelos"
   ]
  },
  {
   "cell_type": "markdown",
   "metadata": {},
   "source": [
    "## Discriminación por galaxia\n",
    "No se si es por morfología o tipo"
   ]
  },
  {
   "cell_type": "code",
   "execution_count": 59,
   "metadata": {},
   "outputs": [],
   "source": [
    "df_spiral = df[df['spiral'] == 1]\n",
    "df_elliptical = df[df['elliptical'] == 1]"
   ]
  },
  {
   "cell_type": "code",
   "execution_count": 60,
   "metadata": {},
   "outputs": [
    {
     "name": "stdout",
     "output_type": "stream",
     "text": [
      "(1906, 4)\n",
      "[0.0012449189055964243, 0.0013172439696480477, 0.006654824526941024, 0.2001978281445748, 167.8886266072988]\n"
     ]
    },
    {
     "data": {
      "image/png": "[encoded data removed]",
      "text/plain": [
       "<Figure size 432x288 with 1 Axes>"
      ]
     },
     "metadata": {
      "needs_background": "light"
     },
     "output_type": "display_data"
    },
    {
     "name": "stdout",
     "output_type": "stream",
     "text": [
      "Grado de polinomio con mejor performance: 2\n",
      "Error: 0.001245\n"
     ]
    }
   ],
   "source": [
    "selector =[filter_col]\n",
    "#selector=['modelMag_u']\n",
    "min_selector_error = []\n",
    "min_selector_indx = []\n",
    "# Los grados se prueban desde init hasta degrees\n",
    "init = 2\n",
    "degrees = 6\n",
    "\n",
    "for j in selector:\n",
    "\n",
    "    X, y = df_spiral[j], df_spiral['z']\n",
    "    X_train, X_test, y_train, y_test = train_test_split(X, y, train_size=0.8, random_state=0)\n",
    "    \n",
    "    print(X_train.shape)\n",
    "\n",
    "    train_error = []\n",
    "    test_error = []\n",
    "    y_test_pred = []\n",
    "\n",
    "    for i in range(init,degrees+1):\n",
    "        # Genero los modelos\n",
    "        model = make_pipeline(PolynomialFeatures(i), LinearRegression())\n",
    "\n",
    "        # Entreno los modelos\n",
    "        model.fit(X_train, y_train)\n",
    "\n",
    "        # Predigo los valores de test\n",
    "        y_train_pred  = model.predict(X_train)\n",
    "\n",
    "        # Predigo los valores de train\n",
    "        y_test_pred.append(model.predict(X_test))\n",
    "\n",
    "        # Error cuadratico medio entrenamiento\n",
    "        train_error.append(mean_squared_error(y_train, y_train_pred))\n",
    "\n",
    "        # Error cuadratico medio test\n",
    "        test_error.append(mean_squared_error(y_test, y_test_pred[i-init]))\n",
    "\n",
    "    print(test_error)\n",
    "    min_selector_error.append(min(test_error))\n",
    "    min_selector_indx.append(test_error.index(min(test_error)))\n",
    "\n",
    "    # Grafico error\n",
    "    plt.plot(range(init,degrees+1), train_error, color=\"blue\", label=\"train_error\", linewidth=3)\n",
    "    plt.plot(range(init,degrees+1), test_error, color=\"red\", label=\"test_error\", linewidth=3)\n",
    "    plt.legend()\n",
    "    plt.show()\n",
    "\n",
    "print(\"Grado de polinomio con mejor performance: %d\"%(min_selector_indx[0]+init))\n",
    "print(\"Error: %f\"%(min_selector_error[0]))"
   ]
  },
  {
   "cell_type": "code",
   "execution_count": 68,
   "metadata": {},
   "outputs": [
    {
     "name": "stdout",
     "output_type": "stream",
     "text": [
      "0.00665538388131704\n",
      "0.0028070261809180134\n",
      "0.0010021658201803353\n"
     ]
    }
   ],
   "source": [
    "from sklearn.linear_model import Ridge\n",
    "\n",
    "degree = 4\n",
    "alphas = [0.0, 1e-5, 1e-1]\n",
    "\n",
    "for i in alphas:\n",
    "\n",
    "    model_norm = make_pipeline(PolynomialFeatures(degree), Ridge(alpha=i))\n",
    "    model_norm.fit(X_train, y_train)\n",
    "\n",
    "    # Predigo los valores de test\n",
    "    y_train_pred_norm  = model_norm.predict(X_train)\n",
    "\n",
    "    # Predigo los valores de train\n",
    "    y_test_pred_norm = model_norm.predict(X_test)\n",
    "\n",
    "    # Error cuadratico medio entrenamiento\n",
    "    train_error_norm = mean_squared_error(y_train, y_train_pred_norm)\n",
    "\n",
    "    # Error cuadratico medio test\n",
    "    test_error_norm = mean_squared_error(y_test, y_test_pred_norm)\n",
    "\n",
    "    print(test_error_norm)"
   ]
  },
  {
   "cell_type": "code",
   "execution_count": 70,
   "metadata": {},
   "outputs": [
    {
     "name": "stdout",
     "output_type": "stream",
     "text": [
      "(697, 4)\n",
      "[0.0004296338234412457, 0.0006723492119048865, 0.034702994683526764, 1.1084181281582477, 1.3303405450622579]\n"
     ]
    },
    {
     "data": {
      "image/png": "[encoded data removed]",
      "text/plain": [
       "<Figure size 432x288 with 1 Axes>"
      ]
     },
     "metadata": {
      "needs_background": "light"
     },
     "output_type": "display_data"
    },
    {
     "name": "stdout",
     "output_type": "stream",
     "text": [
      "Grado de polinomio con mejor performance: 2\n",
      "Error: 0.000430\n"
     ]
    }
   ],
   "source": [
    "selector =[filter_col]\n",
    "#selector=['modelMag_u']\n",
    "min_selector_error = []\n",
    "min_selector_indx = []\n",
    "# Los grados se prueban desde init hasta degrees\n",
    "init = 2\n",
    "degrees = 6\n",
    "\n",
    "for j in selector:\n",
    "\n",
    "    X, y = df_elliptical[j], df_elliptical['z']\n",
    "    X_train, X_test, y_train, y_test = train_test_split(X, y, train_size=0.8, random_state=0)\n",
    "    \n",
    "    print(X_train.shape)\n",
    "\n",
    "    train_error = []\n",
    "    test_error = []\n",
    "    y_test_pred = []\n",
    "\n",
    "    for i in range(init,degrees+1):\n",
    "        # Genero los modelos\n",
    "        model = make_pipeline(PolynomialFeatures(i), LinearRegression())\n",
    "\n",
    "        # Entreno los modelos\n",
    "        model.fit(X_train, y_train)\n",
    "\n",
    "        # Predigo los valores de test\n",
    "        y_train_pred  = model.predict(X_train)\n",
    "\n",
    "        # Predigo los valores de train\n",
    "        y_test_pred.append(model.predict(X_test))\n",
    "\n",
    "        # Error cuadratico medio entrenamiento\n",
    "        train_error.append(mean_squared_error(y_train, y_train_pred))\n",
    "\n",
    "        # Error cuadratico medio test\n",
    "        test_error.append(mean_squared_error(y_test, y_test_pred[i-init]))\n",
    "\n",
    "    print(test_error)\n",
    "    min_selector_error.append(min(test_error))\n",
    "    min_selector_indx.append(test_error.index(min(test_error)))\n",
    "\n",
    "    # Grafico error\n",
    "    plt.plot(range(init,degrees+1), train_error, color=\"blue\", label=\"train_error\", linewidth=3)\n",
    "    plt.plot(range(init,degrees+1), test_error, color=\"red\", label=\"test_error\", linewidth=3)\n",
    "    plt.legend()\n",
    "    plt.show()\n",
    "\n",
    "print(\"Grado de polinomio con mejor performance: %d\"%(min_selector_indx[0]+init))\n",
    "print(\"Error: %f\"%(min_selector_error[0]))"
   ]
  },
  {
   "cell_type": "code",
   "execution_count": 75,
   "metadata": {},
   "outputs": [
    {
     "name": "stdout",
     "output_type": "stream",
     "text": [
      "0.0006701516800977505\n",
      "0.00046238297397399955\n",
      "0.0003665693116511445\n"
     ]
    }
   ],
   "source": [
    "from sklearn.linear_model import Ridge\n",
    "\n",
    "degree = 3\n",
    "alphas = [0.0, 1e-5, 1e-1]\n",
    "\n",
    "for i in alphas:\n",
    "\n",
    "    model_norm = make_pipeline(PolynomialFeatures(degree), Ridge(alpha=i))\n",
    "    model_norm.fit(X_train, y_train)\n",
    "\n",
    "    # Predigo los valores de test\n",
    "    y_train_pred_norm  = model_norm.predict(X_train)\n",
    "\n",
    "    # Predigo los valores de train\n",
    "    y_test_pred_norm = model_norm.predict(X_test)\n",
    "\n",
    "    # Error cuadratico medio entrenamiento\n",
    "    train_error_norm = mean_squared_error(y_train, y_train_pred_norm)\n",
    "\n",
    "    # Error cuadratico medio test\n",
    "    test_error_norm = mean_squared_error(y_test, y_test_pred_norm)\n",
    "\n",
    "    print(test_error_norm)"
   ]
  },
  {
   "cell_type": "markdown",
   "metadata": {},
   "source": [
    "## Utilización de otros métodos para clasificar en elíptica o espiral\n",
    "\n",
    "Emplear algunos (más de uno) de los modelos de clasificación (perceptrón, regresión logística, vecinos más cercanos) para clasificar las galaxias en elípticas y espirales a partir de las variables elegidas.\n",
    "\n",
    "    Computar las metricas accuracy,precision, recall, F1, matriz de confusión\n",
    "\n",
    "    Visualización de la frontera de decisión\n",
    "\n"
   ]
  },
  {
   "cell_type": "markdown",
   "metadata": {},
   "source": [
    "### Clasificador SDGC "
   ]
  },
  {
   "cell_type": "code",
   "execution_count": 77,
   "metadata": {},
   "outputs": [],
   "source": [
    "df_sp_or_ell = pd.concat([df_spiral, df_elliptical])"
   ]
  },
  {
   "cell_type": "code",
   "execution_count": 78,
   "metadata": {},
   "outputs": [
    {
     "data": {
      "text/html": [
       "<div>\n",
       "<style scoped>\n",
       "    .dataframe tbody tr th:only-of-type {\n",
       "        vertical-align: middle;\n",
       "    }\n",
       "\n",
       "    .dataframe tbody tr th {\n",
       "        vertical-align: top;\n",
       "    }\n",
       "\n",
       "    .dataframe thead th {\n",
       "        text-align: right;\n",
       "    }\n",
       "</style>\n",
       "<table border=\"1\" class=\"dataframe\">\n",
       "  <thead>\n",
       "    <tr style=\"text-align: right;\">\n",
       "      <th></th>\n",
       "      <th>z</th>\n",
       "      <th>velDisp</th>\n",
       "      <th>ra</th>\n",
       "      <th>dec</th>\n",
       "      <th>subClass</th>\n",
       "      <th>modelMag_u</th>\n",
       "      <th>modelMag_g</th>\n",
       "      <th>modelMag_r</th>\n",
       "      <th>modelMag_i</th>\n",
       "      <th>modelMag_z</th>\n",
       "      <th>...</th>\n",
       "      <th>subClass_STARFORMING_BROADLINE</th>\n",
       "      <th>subClass_null</th>\n",
       "      <th>modelColor_ug</th>\n",
       "      <th>modelColor_gr</th>\n",
       "      <th>modelColor_ri</th>\n",
       "      <th>modelColor_iz</th>\n",
       "      <th>petroColor_ug</th>\n",
       "      <th>petroColor_gr</th>\n",
       "      <th>petroColor_ri</th>\n",
       "      <th>petroColor_iz</th>\n",
       "    </tr>\n",
       "    <tr>\n",
       "      <th>specObjID</th>\n",
       "      <th></th>\n",
       "      <th></th>\n",
       "      <th></th>\n",
       "      <th></th>\n",
       "      <th></th>\n",
       "      <th></th>\n",
       "      <th></th>\n",
       "      <th></th>\n",
       "      <th></th>\n",
       "      <th></th>\n",
       "      <th></th>\n",
       "      <th></th>\n",
       "      <th></th>\n",
       "      <th></th>\n",
       "      <th></th>\n",
       "      <th></th>\n",
       "      <th></th>\n",
       "      <th></th>\n",
       "      <th></th>\n",
       "      <th></th>\n",
       "      <th></th>\n",
       "    </tr>\n",
       "  </thead>\n",
       "  <tbody>\n",
       "    <tr>\n",
       "      <th>957065537576265728</th>\n",
       "      <td>0.140137</td>\n",
       "      <td>138.90830</td>\n",
       "      <td>197.473340</td>\n",
       "      <td>4.417710</td>\n",
       "      <td>NaN</td>\n",
       "      <td>19.56201</td>\n",
       "      <td>18.19559</td>\n",
       "      <td>17.34286</td>\n",
       "      <td>16.92395</td>\n",
       "      <td>16.61079</td>\n",
       "      <td>...</td>\n",
       "      <td>0</td>\n",
       "      <td>1</td>\n",
       "      <td>1.36642</td>\n",
       "      <td>0.85273</td>\n",
       "      <td>0.41891</td>\n",
       "      <td>0.31316</td>\n",
       "      <td>1.07275</td>\n",
       "      <td>0.76730</td>\n",
       "      <td>0.36148</td>\n",
       "      <td>0.22301</td>\n",
       "    </tr>\n",
       "    <tr>\n",
       "      <th>637262958233151488</th>\n",
       "      <td>0.098105</td>\n",
       "      <td>135.15380</td>\n",
       "      <td>137.577476</td>\n",
       "      <td>2.613135</td>\n",
       "      <td>NaN</td>\n",
       "      <td>20.37811</td>\n",
       "      <td>18.37596</td>\n",
       "      <td>17.37777</td>\n",
       "      <td>16.95891</td>\n",
       "      <td>16.61865</td>\n",
       "      <td>...</td>\n",
       "      <td>0</td>\n",
       "      <td>1</td>\n",
       "      <td>2.00215</td>\n",
       "      <td>0.99819</td>\n",
       "      <td>0.41886</td>\n",
       "      <td>0.34026</td>\n",
       "      <td>1.87594</td>\n",
       "      <td>1.00148</td>\n",
       "      <td>0.41436</td>\n",
       "      <td>0.36765</td>\n",
       "    </tr>\n",
       "    <tr>\n",
       "      <th>637266806523848704</th>\n",
       "      <td>0.098102</td>\n",
       "      <td>112.93020</td>\n",
       "      <td>137.866935</td>\n",
       "      <td>3.050839</td>\n",
       "      <td>NaN</td>\n",
       "      <td>21.06598</td>\n",
       "      <td>18.83291</td>\n",
       "      <td>17.75186</td>\n",
       "      <td>17.16733</td>\n",
       "      <td>16.69356</td>\n",
       "      <td>...</td>\n",
       "      <td>0</td>\n",
       "      <td>1</td>\n",
       "      <td>2.23307</td>\n",
       "      <td>1.08105</td>\n",
       "      <td>0.58453</td>\n",
       "      <td>0.47377</td>\n",
       "      <td>1.55629</td>\n",
       "      <td>0.93613</td>\n",
       "      <td>0.56206</td>\n",
       "      <td>0.31988</td>\n",
       "    </tr>\n",
       "    <tr>\n",
       "      <th>657534650943563776</th>\n",
       "      <td>0.088232</td>\n",
       "      <td>49.05451</td>\n",
       "      <td>216.967778</td>\n",
       "      <td>4.175325</td>\n",
       "      <td>STARFORMING</td>\n",
       "      <td>18.77377</td>\n",
       "      <td>17.50497</td>\n",
       "      <td>16.98801</td>\n",
       "      <td>16.68087</td>\n",
       "      <td>16.50830</td>\n",
       "      <td>...</td>\n",
       "      <td>0</td>\n",
       "      <td>0</td>\n",
       "      <td>1.26880</td>\n",
       "      <td>0.51696</td>\n",
       "      <td>0.30714</td>\n",
       "      <td>0.17257</td>\n",
       "      <td>1.21089</td>\n",
       "      <td>0.47204</td>\n",
       "      <td>0.26622</td>\n",
       "      <td>0.14915</td>\n",
       "    </tr>\n",
       "    <tr>\n",
       "      <th>477392312498939904</th>\n",
       "      <td>0.127602</td>\n",
       "      <td>116.65900</td>\n",
       "      <td>22.041313</td>\n",
       "      <td>14.228646</td>\n",
       "      <td>STARFORMING</td>\n",
       "      <td>19.81958</td>\n",
       "      <td>18.42553</td>\n",
       "      <td>17.61714</td>\n",
       "      <td>17.16931</td>\n",
       "      <td>16.88651</td>\n",
       "      <td>...</td>\n",
       "      <td>0</td>\n",
       "      <td>0</td>\n",
       "      <td>1.39405</td>\n",
       "      <td>0.80839</td>\n",
       "      <td>0.44783</td>\n",
       "      <td>0.28280</td>\n",
       "      <td>1.10243</td>\n",
       "      <td>0.73495</td>\n",
       "      <td>0.37401</td>\n",
       "      <td>0.32365</td>\n",
       "    </tr>\n",
       "    <tr>\n",
       "      <th>...</th>\n",
       "      <td>...</td>\n",
       "      <td>...</td>\n",
       "      <td>...</td>\n",
       "      <td>...</td>\n",
       "      <td>...</td>\n",
       "      <td>...</td>\n",
       "      <td>...</td>\n",
       "      <td>...</td>\n",
       "      <td>...</td>\n",
       "      <td>...</td>\n",
       "      <td>...</td>\n",
       "      <td>...</td>\n",
       "      <td>...</td>\n",
       "      <td>...</td>\n",
       "      <td>...</td>\n",
       "      <td>...</td>\n",
       "      <td>...</td>\n",
       "      <td>...</td>\n",
       "      <td>...</td>\n",
       "      <td>...</td>\n",
       "      <td>...</td>\n",
       "    </tr>\n",
       "    <tr>\n",
       "      <th>959342077022332928</th>\n",
       "      <td>0.132871</td>\n",
       "      <td>330.24230</td>\n",
       "      <td>200.900242</td>\n",
       "      <td>4.711169</td>\n",
       "      <td>NaN</td>\n",
       "      <td>19.11093</td>\n",
       "      <td>17.13545</td>\n",
       "      <td>16.01391</td>\n",
       "      <td>15.54770</td>\n",
       "      <td>15.13255</td>\n",
       "      <td>...</td>\n",
       "      <td>0</td>\n",
       "      <td>1</td>\n",
       "      <td>1.97548</td>\n",
       "      <td>1.12154</td>\n",
       "      <td>0.46621</td>\n",
       "      <td>0.41515</td>\n",
       "      <td>1.70464</td>\n",
       "      <td>1.06790</td>\n",
       "      <td>0.46388</td>\n",
       "      <td>0.40616</td>\n",
       "    </tr>\n",
       "    <tr>\n",
       "      <th>684589784349304832</th>\n",
       "      <td>0.150769</td>\n",
       "      <td>191.15240</td>\n",
       "      <td>221.542753</td>\n",
       "      <td>59.402123</td>\n",
       "      <td>STARFORMING</td>\n",
       "      <td>19.23890</td>\n",
       "      <td>17.61519</td>\n",
       "      <td>16.61765</td>\n",
       "      <td>16.16645</td>\n",
       "      <td>15.84133</td>\n",
       "      <td>...</td>\n",
       "      <td>0</td>\n",
       "      <td>0</td>\n",
       "      <td>1.62371</td>\n",
       "      <td>0.99754</td>\n",
       "      <td>0.45120</td>\n",
       "      <td>0.32512</td>\n",
       "      <td>1.55378</td>\n",
       "      <td>0.99450</td>\n",
       "      <td>0.42011</td>\n",
       "      <td>0.15183</td>\n",
       "    </tr>\n",
       "    <tr>\n",
       "      <th>862561412130564096</th>\n",
       "      <td>0.224227</td>\n",
       "      <td>243.56510</td>\n",
       "      <td>139.232903</td>\n",
       "      <td>51.654635</td>\n",
       "      <td>NaN</td>\n",
       "      <td>20.75787</td>\n",
       "      <td>18.79548</td>\n",
       "      <td>17.44324</td>\n",
       "      <td>16.92546</td>\n",
       "      <td>16.57029</td>\n",
       "      <td>...</td>\n",
       "      <td>0</td>\n",
       "      <td>1</td>\n",
       "      <td>1.96239</td>\n",
       "      <td>1.35224</td>\n",
       "      <td>0.51778</td>\n",
       "      <td>0.35517</td>\n",
       "      <td>1.76383</td>\n",
       "      <td>1.30432</td>\n",
       "      <td>0.50001</td>\n",
       "      <td>0.32836</td>\n",
       "    </tr>\n",
       "    <tr>\n",
       "      <th>864816236171651072</th>\n",
       "      <td>0.024846</td>\n",
       "      <td>87.50234</td>\n",
       "      <td>145.065418</td>\n",
       "      <td>53.622869</td>\n",
       "      <td>NaN</td>\n",
       "      <td>17.81893</td>\n",
       "      <td>16.07278</td>\n",
       "      <td>15.31584</td>\n",
       "      <td>14.94004</td>\n",
       "      <td>14.65054</td>\n",
       "      <td>...</td>\n",
       "      <td>0</td>\n",
       "      <td>1</td>\n",
       "      <td>1.74615</td>\n",
       "      <td>0.75694</td>\n",
       "      <td>0.37580</td>\n",
       "      <td>0.28950</td>\n",
       "      <td>1.72226</td>\n",
       "      <td>0.74328</td>\n",
       "      <td>0.36946</td>\n",
       "      <td>0.29020</td>\n",
       "    </tr>\n",
       "    <tr>\n",
       "      <th>859186186109872128</th>\n",
       "      <td>0.041073</td>\n",
       "      <td>165.78380</td>\n",
       "      <td>131.844953</td>\n",
       "      <td>46.711096</td>\n",
       "      <td>BROADLINE</td>\n",
       "      <td>17.40076</td>\n",
       "      <td>15.51271</td>\n",
       "      <td>14.67264</td>\n",
       "      <td>14.25101</td>\n",
       "      <td>13.97326</td>\n",
       "      <td>...</td>\n",
       "      <td>0</td>\n",
       "      <td>0</td>\n",
       "      <td>1.88805</td>\n",
       "      <td>0.84007</td>\n",
       "      <td>0.42163</td>\n",
       "      <td>0.27775</td>\n",
       "      <td>1.78505</td>\n",
       "      <td>0.81199</td>\n",
       "      <td>0.43516</td>\n",
       "      <td>0.23560</td>\n",
       "    </tr>\n",
       "  </tbody>\n",
       "</table>\n",
       "<p>3255 rows × 49 columns</p>\n",
       "</div>"
      ],
      "text/plain": [
       "                           z    velDisp          ra        dec     subClass  \\\n",
       "specObjID                                                                     \n",
       "957065537576265728  0.140137  138.90830  197.473340   4.417710          NaN   \n",
       "637262958233151488  0.098105  135.15380  137.577476   2.613135          NaN   \n",
       "637266806523848704  0.098102  112.93020  137.866935   3.050839          NaN   \n",
       "657534650943563776  0.088232   49.05451  216.967778   4.175325  STARFORMING   \n",
       "477392312498939904  0.127602  116.65900   22.041313  14.228646  STARFORMING   \n",
       "...                      ...        ...         ...        ...          ...   \n",
       "959342077022332928  0.132871  330.24230  200.900242   4.711169          NaN   \n",
       "684589784349304832  0.150769  191.15240  221.542753  59.402123  STARFORMING   \n",
       "862561412130564096  0.224227  243.56510  139.232903  51.654635          NaN   \n",
       "864816236171651072  0.024846   87.50234  145.065418  53.622869          NaN   \n",
       "859186186109872128  0.041073  165.78380  131.844953  46.711096    BROADLINE   \n",
       "\n",
       "                    modelMag_u  modelMag_g  modelMag_r  modelMag_i  \\\n",
       "specObjID                                                            \n",
       "957065537576265728    19.56201    18.19559    17.34286    16.92395   \n",
       "637262958233151488    20.37811    18.37596    17.37777    16.95891   \n",
       "637266806523848704    21.06598    18.83291    17.75186    17.16733   \n",
       "657534650943563776    18.77377    17.50497    16.98801    16.68087   \n",
       "477392312498939904    19.81958    18.42553    17.61714    17.16931   \n",
       "...                        ...         ...         ...         ...   \n",
       "959342077022332928    19.11093    17.13545    16.01391    15.54770   \n",
       "684589784349304832    19.23890    17.61519    16.61765    16.16645   \n",
       "862561412130564096    20.75787    18.79548    17.44324    16.92546   \n",
       "864816236171651072    17.81893    16.07278    15.31584    14.94004   \n",
       "859186186109872128    17.40076    15.51271    14.67264    14.25101   \n",
       "\n",
       "                    modelMag_z  ...  subClass_STARFORMING_BROADLINE  \\\n",
       "specObjID                       ...                                   \n",
       "957065537576265728    16.61079  ...                               0   \n",
       "637262958233151488    16.61865  ...                               0   \n",
       "637266806523848704    16.69356  ...                               0   \n",
       "657534650943563776    16.50830  ...                               0   \n",
       "477392312498939904    16.88651  ...                               0   \n",
       "...                        ...  ...                             ...   \n",
       "959342077022332928    15.13255  ...                               0   \n",
       "684589784349304832    15.84133  ...                               0   \n",
       "862561412130564096    16.57029  ...                               0   \n",
       "864816236171651072    14.65054  ...                               0   \n",
       "859186186109872128    13.97326  ...                               0   \n",
       "\n",
       "                    subClass_null  modelColor_ug  modelColor_gr  \\\n",
       "specObjID                                                         \n",
       "957065537576265728              1        1.36642        0.85273   \n",
       "637262958233151488              1        2.00215        0.99819   \n",
       "637266806523848704              1        2.23307        1.08105   \n",
       "657534650943563776              0        1.26880        0.51696   \n",
       "477392312498939904              0        1.39405        0.80839   \n",
       "...                           ...            ...            ...   \n",
       "959342077022332928              1        1.97548        1.12154   \n",
       "684589784349304832              0        1.62371        0.99754   \n",
       "862561412130564096              1        1.96239        1.35224   \n",
       "864816236171651072              1        1.74615        0.75694   \n",
       "859186186109872128              0        1.88805        0.84007   \n",
       "\n",
       "                    modelColor_ri  modelColor_iz  petroColor_ug  \\\n",
       "specObjID                                                         \n",
       "957065537576265728        0.41891        0.31316        1.07275   \n",
       "637262958233151488        0.41886        0.34026        1.87594   \n",
       "637266806523848704        0.58453        0.47377        1.55629   \n",
       "657534650943563776        0.30714        0.17257        1.21089   \n",
       "477392312498939904        0.44783        0.28280        1.10243   \n",
       "...                           ...            ...            ...   \n",
       "959342077022332928        0.46621        0.41515        1.70464   \n",
       "684589784349304832        0.45120        0.32512        1.55378   \n",
       "862561412130564096        0.51778        0.35517        1.76383   \n",
       "864816236171651072        0.37580        0.28950        1.72226   \n",
       "859186186109872128        0.42163        0.27775        1.78505   \n",
       "\n",
       "                    petroColor_gr  petroColor_ri  petroColor_iz  \n",
       "specObjID                                                        \n",
       "957065537576265728        0.76730        0.36148        0.22301  \n",
       "637262958233151488        1.00148        0.41436        0.36765  \n",
       "637266806523848704        0.93613        0.56206        0.31988  \n",
       "657534650943563776        0.47204        0.26622        0.14915  \n",
       "477392312498939904        0.73495        0.37401        0.32365  \n",
       "...                           ...            ...            ...  \n",
       "959342077022332928        1.06790        0.46388        0.40616  \n",
       "684589784349304832        0.99450        0.42011        0.15183  \n",
       "862561412130564096        1.30432        0.50001        0.32836  \n",
       "864816236171651072        0.74328        0.36946        0.29020  \n",
       "859186186109872128        0.81199        0.43516        0.23560  \n",
       "\n",
       "[3255 rows x 49 columns]"
      ]
     },
     "execution_count": 78,
     "metadata": {},
     "output_type": "execute_result"
    }
   ],
   "source": [
    "df_sp_or_ell"
   ]
  },
  {
   "cell_type": "code",
   "execution_count": 87,
   "metadata": {},
   "outputs": [],
   "source": [
    "df_filter = df_sp_or_ell[filter_col]\n",
    "X, y = df_filter.iloc[:,:], df_sp_or_ell['spiral']\n",
    "X_train, X_test, y_train, y_test = train_test_split(X, y, train_size=0.8, random_state=0)\n"
   ]
  },
  {
   "cell_type": "code",
   "execution_count": 145,
   "metadata": {},
   "outputs": [
    {
     "data": {
      "text/plain": [
       "SGDClassifier(random_state=0)"
      ]
     },
     "execution_count": 145,
     "metadata": {},
     "output_type": "execute_result"
    }
   ],
   "source": [
    "from sklearn.metrics import confusion_matrix\n",
    "from sklearn.linear_model import SGDClassifier\n",
    "from sklearn.metrics import precision_score\n",
    "from sklearn.metrics import recall_score\n",
    "from sklearn.metrics import f1_score\n",
    "from sklearn.model_selection import KFold\n",
    "from sklearn.preprocessing import MinMaxScaler\n",
    "from sklearn.model_selection import GridSearchCV\n",
    "#from utils import plot_confusion_matrix\n",
    "\n",
    "model = SGDClassifier(random_state=0, shuffle = True)\n",
    "\n",
    "model.fit(X_train,y_train)"
   ]
  },
  {
   "cell_type": "code",
   "execution_count": 146,
   "metadata": {},
   "outputs": [],
   "source": [
    "y_train_pred = model.predict(X_train)\n",
    "y_test_pred = model.predict(X_test)"
   ]
  },
  {
   "cell_type": "code",
   "execution_count": 147,
   "metadata": {},
   "outputs": [
    {
     "name": "stdout",
     "output_type": "stream",
     "text": [
      "Train Accuracy:  0.8317972350230415\n",
      "Test Accuracy:  0.815668202764977\n"
     ]
    }
   ],
   "source": [
    "print('Train Accuracy: ', np.sum(y_train_pred == y_train)/len(y_train))\n",
    "print('Test Accuracy: ', np.sum(y_test_pred == y_test)/len(y_test))"
   ]
  },
  {
   "cell_type": "code",
   "execution_count": 148,
   "metadata": {},
   "outputs": [
    {
     "name": "stdout",
     "output_type": "stream",
     "text": [
      "Train error:0.168\n",
      "Test error:0.184\n"
     ]
    }
   ],
   "source": [
    "# Evaluación (evaluate):\n",
    "train_error_multiple = mean_squared_error(y_train, y_train_pred)\n",
    "test_error_multiple = mean_squared_error(y_test, y_test_pred)\n",
    "print(f'Train error:{train_error_multiple:0.3}')\n",
    "print(f'Test error:{test_error_multiple:0.3}')"
   ]
  },
  {
   "cell_type": "code",
   "execution_count": 149,
   "metadata": {},
   "outputs": [
    {
     "name": "stdout",
     "output_type": "stream",
     "text": [
      "[0. 1. 1. 1. 1. 1. 1. 0. 0. 1. 1. 1. 1. 1. 1. 1. 1. 1. 1. 0. 0. 1. 0. 1.\n",
      " 0. 1. 1. 1. 1. 1. 1. 0. 1. 1. 1. 1. 0. 0. 1. 0. 1. 0. 1. 1. 1. 0. 0. 0.\n",
      " 1. 0. 0. 1. 0. 1. 0. 1. 0. 0. 1. 1. 1. 0. 1. 0. 1. 1. 1. 1. 1. 1. 1. 1.\n",
      " 0. 0. 1. 1. 1. 1. 1. 1. 1. 1. 0. 0. 1. 0. 1. 1. 1. 1. 0. 1. 1. 1. 1. 1.\n",
      " 0. 1. 1. 1. 0. 0. 1. 0. 0. 0. 1. 1. 0. 0. 1. 0. 1. 0. 1. 1. 1. 0. 1. 1.\n",
      " 1. 1. 0. 1. 1. 1. 1. 1. 1. 1. 1. 1. 0. 0. 0. 1. 1. 0. 1. 1. 0. 1. 1. 1.\n",
      " 1. 1. 0. 1. 0. 1. 1. 1. 0. 0. 1. 1. 1. 1. 1. 0. 1. 1. 1. 1. 1. 1. 0. 1.\n",
      " 0. 0. 1. 1. 0. 1. 1. 1. 0. 0. 0. 1. 1. 0. 1. 1. 1. 0. 1. 0. 0. 1. 1. 1.\n",
      " 1. 1. 1. 1. 1. 1. 0. 0. 1. 1. 0. 0. 1. 1. 1. 0. 1. 1. 1. 1. 1. 1. 1. 1.\n",
      " 0. 1. 1. 0. 1. 1. 1. 1. 1. 1. 1. 1. 1. 1. 1. 0. 0. 1. 0. 1. 1. 1. 1. 0.\n",
      " 1. 0. 1. 1. 0. 1. 1. 1. 0. 0. 1. 1. 1. 1. 1. 1. 1. 1. 1. 1. 0. 1. 1. 1.\n",
      " 0. 1. 1. 0. 1. 1. 1. 0. 1. 1. 1. 1. 1. 1. 1. 1. 0. 1. 1. 1. 0. 1. 1. 1.\n",
      " 0. 1. 1. 1. 1. 1. 1. 1. 1. 1. 1. 0. 1. 1. 1. 1. 1. 1. 1. 1. 1. 0. 0. 1.\n",
      " 0. 0. 0. 1. 0. 1. 1. 1. 1. 1. 0. 1. 1. 0. 1. 1. 1. 0. 0. 1. 1. 0. 1. 1.\n",
      " 1. 1. 1. 1. 1. 1. 1. 1. 1. 0. 1. 1. 1. 1. 1. 0. 1. 1. 1. 1. 1. 1. 1. 1.\n",
      " 0. 1. 1. 1. 1. 1. 1. 0. 1. 1. 1. 1. 0. 1. 0. 1. 1. 0. 1. 0. 0. 1. 0. 1.\n",
      " 0. 1. 0. 1. 1. 0. 1. 0. 0. 1. 1. 1. 1. 1. 1. 1. 1. 1. 1. 0. 1. 1. 1. 1.\n",
      " 1. 1. 0. 1. 1. 0. 1. 0. 1. 1. 1. 1. 1. 1. 1. 1. 1. 1. 0. 0. 1. 1. 1. 0.\n",
      " 1. 0. 0. 1. 1. 1. 1. 1. 1. 0. 1. 1. 1. 0. 1. 1. 1. 0. 1. 1. 0. 1. 0. 1.\n",
      " 1. 0. 1. 1. 1. 1. 1. 1. 0. 1. 1. 1. 1. 1. 1. 1. 1. 1. 1. 0. 1. 0. 1. 1.\n",
      " 1. 0. 1. 1. 1. 1. 1. 1. 1. 1. 1. 0. 1. 0. 0. 1. 1. 1. 0. 1. 1. 0. 1. 0.\n",
      " 0. 1. 1. 1. 1. 1. 0. 1. 1. 1. 0. 1. 1. 1. 0. 0. 1. 1. 0. 1. 0. 1. 1. 1.\n",
      " 1. 1. 1. 1. 1. 1. 1. 1. 1. 1. 1. 0. 0. 0. 0. 0. 1. 1. 1. 1. 1. 1. 1. 1.\n",
      " 1. 1. 0. 1. 1. 0. 1. 1. 1. 1. 1. 1. 1. 1. 1. 0. 1. 0. 1. 0. 1. 0. 0. 1.\n",
      " 1. 1. 0. 1. 1. 1. 0. 1. 0. 1. 1. 0. 0. 0. 0. 0. 1. 1. 0. 1. 0. 1. 1. 1.\n",
      " 1. 1. 1. 0. 0. 1. 1. 1. 1. 0. 1. 1. 1. 1. 0. 1. 1. 1. 0. 1. 1. 1. 1. 1.\n",
      " 0. 1. 1. 1. 1. 1. 1. 0. 1. 1. 1. 0. 1. 1. 1. 1. 1. 1. 0. 0. 1. 1. 1. 1.\n",
      " 1. 1. 1.]\n",
      "[1 1 1 1 1 1 1 0 0 1 1 1 1 1 1 1 1 1 1 0 0 1 0 1 0 1 1 1 1 0 0 0 0 1 0 1 0\n",
      " 0 1 0 1 0 1 1 1 1 1 1 1 0 0 1 1 1 0 1 1 1 1 1 1 1 1 0 1 1 1 1 1 1 1 1 0 1\n",
      " 0 1 0 1 1 1 1 0 0 0 1 0 1 1 1 1 1 1 1 1 1 1 0 1 1 0 0 1 1 1 0 0 1 1 0 0 1\n",
      " 0 1 0 1 0 1 0 1 1 1 1 0 1 0 1 1 1 1 1 1 0 1 0 0 1 1 0 1 1 0 1 1 1 1 0 1 1\n",
      " 1 1 0 0 1 0 1 1 1 1 1 0 1 1 1 1 1 1 0 1 0 0 1 1 1 1 1 1 0 1 1 1 1 0 0 1 1\n",
      " 0 1 0 0 0 1 1 1 1 1 1 1 1 0 0 1 1 0 0 1 1 1 0 0 1 0 1 1 1 1 1 0 1 1 0 1 1\n",
      " 1 0 1 1 1 1 1 1 0 0 1 1 0 1 1 1 1 1 1 0 1 1 0 1 1 1 0 0 1 1 0 1 1 1 1 0 1\n",
      " 1 1 1 1 1 0 1 1 1 1 1 1 0 1 1 1 1 1 1 1 1 1 1 1 0 0 1 1 1 0 0 0 1 1 1 1 1\n",
      " 1 1 1 0 1 1 1 1 1 1 1 1 1 1 0 1 1 0 1 0 0 1 1 1 1 1 1 0 0 0 1 1 1 1 0 1 1\n",
      " 0 1 0 0 0 1 1 1 1 1 1 0 0 1 1 1 1 1 0 1 1 1 1 1 1 1 0 1 1 1 1 1 1 1 0 1 1\n",
      " 1 1 1 1 0 1 1 0 1 0 0 1 1 1 0 1 0 1 1 0 1 0 1 1 1 1 1 1 0 1 1 0 1 1 1 1 1\n",
      " 1 1 1 0 1 1 1 1 1 0 1 1 1 0 1 1 1 1 1 0 0 1 1 1 0 1 0 1 1 1 1 0 1 1 0 1 1\n",
      " 1 0 1 1 1 0 1 1 0 1 1 0 1 0 1 1 1 1 1 1 0 1 1 1 1 1 1 0 1 0 1 0 0 1 0 1 0\n",
      " 0 1 1 1 1 1 0 1 1 1 0 1 1 1 0 1 1 1 1 1 0 1 0 0 1 1 1 1 1 0 1 1 1 0 1 1 1\n",
      " 0 1 0 1 0 1 0 0 1 1 1 1 1 1 1 1 1 1 1 1 1 1 1 1 1 0 1 0 1 1 1 1 0 1 1 1 1\n",
      " 1 1 0 0 1 0 1 1 1 1 1 1 0 1 0 1 0 1 1 1 1 1 1 0 0 1 0 0 1 1 1 1 0 1 0 0 1\n",
      " 1 1 1 1 0 0 1 1 0 0 0 1 0 1 1 1 1 0 1 1 1 1 0 1 1 1 0 1 1 1 1 1 0 1 1 0 1\n",
      " 1 0 0 0 1 0 1 1 1 1 1 1 1 0 0 1 0 1 0 1 1 1]\n"
     ]
    },
    {
     "data": {
      "text/plain": [
       "0.8803418803418803"
      ]
     },
     "execution_count": 149,
     "metadata": {},
     "output_type": "execute_result"
    }
   ],
   "source": [
    "precision_score(y_test, y_test_pred)"
   ]
  },
  {
   "cell_type": "code",
   "execution_count": 95,
   "metadata": {},
   "outputs": [
    {
     "data": {
      "text/plain": [
       "0.865546218487395"
      ]
     },
     "execution_count": 95,
     "metadata": {},
     "output_type": "execute_result"
    }
   ],
   "source": [
    "recall_score(y_test, y_test_pred)"
   ]
  },
  {
   "cell_type": "code",
   "execution_count": 96,
   "metadata": {},
   "outputs": [
    {
     "data": {
      "text/plain": [
       "0.8728813559322035"
      ]
     },
     "execution_count": 96,
     "metadata": {},
     "output_type": "execute_result"
    }
   ],
   "source": [
    "f1_score(y_test, y_test_pred)"
   ]
  },
  {
   "cell_type": "code",
   "execution_count": 97,
   "metadata": {},
   "outputs": [
    {
     "name": "stdout",
     "output_type": "stream",
     "text": [
      "[[119  56]\n",
      " [ 64 412]]\n"
     ]
    }
   ],
   "source": [
    "cm = confusion_matrix(y_test, y_test_pred)\n",
    "print(cm)"
   ]
  },
  {
   "cell_type": "code",
   "execution_count": 101,
   "metadata": {},
   "outputs": [],
   "source": [
    "import itertools\n",
    "def plot_confusion_matrix(cm, classes,\n",
    "                          normalize=False,\n",
    "                          title='Confusion matrix',\n",
    "                          cmap=plt.cm.Blues):\n",
    "    \"\"\"\n",
    "    This function prints and plots the confusion matrix.\n",
    "    Normalization can be applied by setting `normalize=True`.\n",
    "    \"\"\"\n",
    "    if normalize:\n",
    "        cm = cm.astype('float') / cm.sum(axis=1)[:, np.newaxis]\n",
    "\n",
    "    plt.imshow(cm, interpolation='nearest', cmap=cmap)\n",
    "    plt.title(title)\n",
    "    plt.colorbar()\n",
    "    tick_marks = np.arange(len(classes))\n",
    "    plt.xticks(tick_marks, classes, rotation=45)\n",
    "    plt.yticks(tick_marks, classes)\n",
    "\n",
    "    fmt = '.2f' if normalize else 'd'\n",
    "    thresh = cm.max() / 2.\n",
    "    for i, j in itertools.product(range(cm.shape[0]), range(cm.shape[1])):\n",
    "        plt.text(j, i, format(cm[i, j], fmt),\n",
    "                 horizontalalignment=\"center\",\n",
    "                 color=\"white\" if cm[i, j] > thresh else \"black\")\n",
    "\n",
    "    plt.tight_layout()\n",
    "    plt.ylabel('Etiqueta correcta')\n",
    "    plt.xlabel('Etiqueta predicha')"
   ]
  },
  {
   "cell_type": "code",
   "execution_count": 102,
   "metadata": {},
   "outputs": [
    {
     "data": {
      "image/png": "[encoded data removed]",
      "text/plain": [
       "<Figure size 432x288 with 2 Axes>"
      ]
     },
     "metadata": {
      "needs_background": "light"
     },
     "output_type": "display_data"
    }
   ],
   "source": [
    "plot_confusion_matrix(cm, [0,1])"
   ]
  },
  {
   "cell_type": "markdown",
   "metadata": {},
   "source": [
    "### Perceptron"
   ]
  },
  {
   "cell_type": "code",
   "execution_count": 150,
   "metadata": {},
   "outputs": [
    {
     "data": {
      "text/plain": [
       "MLPClassifier(hidden_layer_sizes=35, max_iter=10000, random_state=9,\n",
       "              solver='lbfgs')"
      ]
     },
     "execution_count": 150,
     "metadata": {},
     "output_type": "execute_result"
    }
   ],
   "source": [
    "from sklearn.neural_network import MLPRegressor\n",
    "from sklearn.neural_network import MLPClassifier\n",
    "\n",
    "regr = MLPClassifier(hidden_layer_sizes=(35), max_iter=10000,\n",
    "                   activation='relu', random_state = 9,\n",
    "                   solver='lbfgs')\n",
    "regr.fit(X_train, y_train)"
   ]
  },
  {
   "cell_type": "code",
   "execution_count": 151,
   "metadata": {},
   "outputs": [],
   "source": [
    "#  Predicción (predict):\n",
    "y_train_pred = regr.predict(X_train)\n",
    "y_test_pred = regr.predict(X_test)"
   ]
  },
  {
   "cell_type": "code",
   "execution_count": 152,
   "metadata": {},
   "outputs": [
    {
     "name": "stdout",
     "output_type": "stream",
     "text": [
      "Train error:0.127\n",
      "Test error:0.143\n"
     ]
    }
   ],
   "source": [
    "# Evaluación (evaluate):\n",
    "train_error_multiple = mean_squared_error(y_train, y_train_pred)\n",
    "test_error_multiple = mean_squared_error(y_test, y_test_pred)\n",
    "print(f'Train error:{train_error_multiple:0.3}')\n",
    "print(f'Test error:{test_error_multiple:0.3}')"
   ]
  },
  {
   "cell_type": "code",
   "execution_count": 154,
   "metadata": {},
   "outputs": [
    {
     "data": {
      "text/plain": [
       "0.908315565031983"
      ]
     },
     "execution_count": 154,
     "metadata": {},
     "output_type": "execute_result"
    }
   ],
   "source": [
    "precision_score(y_test.values.astype(np.float), y_test_pred)"
   ]
  },
  {
   "cell_type": "code",
   "execution_count": 156,
   "metadata": {},
   "outputs": [
    {
     "data": {
      "text/plain": [
       "0.8949579831932774"
      ]
     },
     "execution_count": 156,
     "metadata": {},
     "output_type": "execute_result"
    }
   ],
   "source": [
    "recall_score(y_test, y_test_pred)"
   ]
  },
  {
   "cell_type": "code",
   "execution_count": 157,
   "metadata": {},
   "outputs": [
    {
     "data": {
      "text/plain": [
       "0.9015873015873017"
      ]
     },
     "execution_count": 157,
     "metadata": {},
     "output_type": "execute_result"
    }
   ],
   "source": [
    "f1_score(y_test, y_test_pred)"
   ]
  },
  {
   "cell_type": "code",
   "execution_count": 158,
   "metadata": {},
   "outputs": [
    {
     "name": "stdout",
     "output_type": "stream",
     "text": [
      "[[132  43]\n",
      " [ 50 426]]\n"
     ]
    }
   ],
   "source": [
    "cm = confusion_matrix(y_test, y_test_pred)\n",
    "print(cm)"
   ]
  },
  {
   "cell_type": "code",
   "execution_count": 159,
   "metadata": {},
   "outputs": [
    {
     "data": {
      "image/png": "[encoded data removed]",
      "text/plain": [
       "<Figure size 432x288 with 2 Axes>"
      ]
     },
     "metadata": {
      "needs_background": "light"
     },
     "output_type": "display_data"
    }
   ],
   "source": [
    "plot_confusion_matrix(cm, [0,1])"
   ]
  },
  {
   "cell_type": "code",
   "execution_count": 155,
   "metadata": {},
   "outputs": [
    {
     "data": {
      "image/png": "[encoded data removed]",
      "text/plain": [
       "<Figure size 576x432 with 1 Axes>"
      ]
     },
     "metadata": {
      "needs_background": "light"
     },
     "output_type": "display_data"
    },
    {
     "data": {
      "image/png": "[encoded data removed]",
      "text/plain": [
       "<Figure size 432x288 with 1 Axes>"
      ]
     },
     "metadata": {
      "needs_background": "light"
     },
     "output_type": "display_data"
    }
   ],
   "source": [
    "# Gráfico de curvas de error\n",
    "plt.figure(figsize=(8,6))\n",
    "\n",
    "plt.plot(y_test.values, \"bo\", label=\"train\")\n",
    "plt.plot(y_test_pred, \"ro\", label=\"true\")\n",
    "plt.legend()\n",
    "plt.xlabel(\"Muestras del test\")\n",
    "plt.ylabel(\"error cuadratico\")\n",
    "plt.show()\n",
    "\n",
    "difference = (y_test_filter.values - y_test_pred)**2\n",
    "\n",
    "plt.plot(difference, \"b\", label=\"error\")\n",
    "plt.legend()\n",
    "plt.xlabel(\"Muestras del Test\")\n",
    "plt.ylabel(\"error\")\n",
    "plt.show()"
   ]
  },
  {
   "cell_type": "markdown",
   "metadata": {},
   "source": [
    "## Falta plotear la region de decisión de los dos modelos"
   ]
  },
  {
   "cell_type": "code",
   "execution_count": null,
   "metadata": {},
   "outputs": [],
   "source": []
  }
 ],
 "metadata": {
  "kernelspec": {
   "display_name": "Python 3",
   "language": "python",
   "name": "python3"
  },
  "language_info": {
   "codemirror_mode": {
    "name": "ipython",
    "version": 3
   },
   "file_extension": ".py",
   "mimetype": "text/x-python",
   "name": "python",
   "nbconvert_exporter": "python",
   "pygments_lexer": "ipython3",
   "version": "3.6.10"
  }
 },
 "nbformat": 4,
 "nbformat_minor": 2
}
