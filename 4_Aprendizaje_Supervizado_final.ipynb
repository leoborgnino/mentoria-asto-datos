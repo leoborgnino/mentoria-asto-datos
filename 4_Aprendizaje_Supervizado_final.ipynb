{
 "cells": [
  {
   "cell_type": "markdown",
   "metadata": {},
   "source": [
    "# Mapeando el Universo\n",
    "\n"
   ]
  },
  {
   "cell_type": "markdown",
   "metadata": {},
   "source": [
    "## Aprendizaje Supervisado"
   ]
  },
  {
   "cell_type": "markdown",
   "metadata": {},
   "source": [
    "### 01 - Lectura de datos"
   ]
  },
  {
   "cell_type": "code",
   "execution_count": 1,
   "metadata": {},
   "outputs": [],
   "source": [
    "# Iportamos librerìas necesarias\n",
    "import pandas as pd\n",
    "import numpy as np\n",
    "import matplotlib.pyplot as plt\n",
    "import seaborn as sns\n",
    "import psutil\n",
    "from sklearn import datasets, linear_model\n",
    "from sklearn.linear_model import (LinearRegression, SGDClassifier, Ridge, SGDRegressor)\n",
    "from sklearn.preprocessing import (PolynomialFeatures, MinMaxScaler)\n",
    "from sklearn.pipeline import make_pipeline\n",
    "from sklearn.model_selection import (train_test_split, KFold, GridSearchCV)\n",
    "from sklearn.metrics import (mean_squared_error, r2_score, precision_score, recall_score, f1_score, confusion_matrix)\n",
    "from sklearn.preprocessing import StandardScaler\n",
    "import itertools\n",
    "from sklearn.neural_network import MLPRegressor\n",
    "from sklearn.neural_network import MLPClassifier\n",
    "import os\n",
    "import gc\n",
    "import sys\n",
    "import pkg_resources\n",
    "import warnings\n",
    "warnings.filterwarnings('ignore')\n"
   ]
  },
  {
   "cell_type": "code",
   "execution_count": 2,
   "metadata": {},
   "outputs": [],
   "source": [
    "if 'psutil' not in {pkg.key for pkg in pkg_resources.working_set}:\n",
    "    !pip install psutil\n",
    "if 'scikit-learn' not in {pkg.key for pkg in pkg_resources.working_set}:\n",
    "    !pip install scikit-learn\n",
    "in_colab = 'google.colab' in sys.modules\n",
    "\n",
    "def Memory():\n",
    "    \"\"\"Imprime la cantidad de memoria RAM utilizada por el proceso \n",
    "    hasta el momento, en GB\"\"\"\n",
    "    gc.collect()\n",
    "    process = psutil.Process(os.getpid())\n",
    "    print('Memoria actual utilizada: %.2f GB' %(process.memory_full_info().rss*1e-9))\n",
    "    return"
   ]
  },
  {
   "cell_type": "code",
   "execution_count": 3,
   "metadata": {},
   "outputs": [
    {
     "data": {
      "application/javascript": [
       "IPython.OutputArea.prototype._should_scroll = function(lines) {\n",
       "    return false;\n",
       "}\n"
      ],
      "text/plain": [
       "<IPython.core.display.Javascript object>"
      ]
     },
     "metadata": {},
     "output_type": "display_data"
    }
   ],
   "source": [
    "%%javascript\n",
    "IPython.OutputArea.prototype._should_scroll = function(lines) {\n",
    "    return false;\n",
    "}"
   ]
  },
  {
   "cell_type": "code",
   "execution_count": 9,
   "metadata": {},
   "outputs": [],
   "source": [
    "filename = \"../../dataset/data_filter.csv\""
   ]
  },
  {
   "cell_type": "code",
   "execution_count": 10,
   "metadata": {},
   "outputs": [],
   "source": [
    "data = pd.read_csv(filename,index_col=0)"
   ]
  },
  {
   "cell_type": "code",
   "execution_count": 11,
   "metadata": {},
   "outputs": [
    {
     "data": {
      "text/html": [
       "<div>\n",
       "<style scoped>\n",
       "    .dataframe tbody tr th:only-of-type {\n",
       "        vertical-align: middle;\n",
       "    }\n",
       "\n",
       "    .dataframe tbody tr th {\n",
       "        vertical-align: top;\n",
       "    }\n",
       "\n",
       "    .dataframe thead th {\n",
       "        text-align: right;\n",
       "    }\n",
       "</style>\n",
       "<table border=\"1\" class=\"dataframe\">\n",
       "  <thead>\n",
       "    <tr style=\"text-align: right;\">\n",
       "      <th></th>\n",
       "      <th>z</th>\n",
       "      <th>velDisp</th>\n",
       "      <th>ra</th>\n",
       "      <th>dec</th>\n",
       "      <th>modelMag_u</th>\n",
       "      <th>modelMag_g</th>\n",
       "      <th>modelMag_r</th>\n",
       "      <th>modelMag_i</th>\n",
       "      <th>modelMag_z</th>\n",
       "      <th>petroMag_u</th>\n",
       "      <th>...</th>\n",
       "      <th>subClass_STARFORMING</th>\n",
       "      <th>subClass_STARFORMING_BROADLINE</th>\n",
       "      <th>modelColor_ug</th>\n",
       "      <th>modelColor_gr</th>\n",
       "      <th>modelColor_ri</th>\n",
       "      <th>modelColor_iz</th>\n",
       "      <th>petroColor_ug</th>\n",
       "      <th>petroColor_gr</th>\n",
       "      <th>petroColor_ri</th>\n",
       "      <th>petroColor_iz</th>\n",
       "    </tr>\n",
       "  </thead>\n",
       "  <tbody>\n",
       "    <tr>\n",
       "      <th>count</th>\n",
       "      <td>608921.000000</td>\n",
       "      <td>608921.000000</td>\n",
       "      <td>608921.000000</td>\n",
       "      <td>608921.000000</td>\n",
       "      <td>608921.000000</td>\n",
       "      <td>608921.000000</td>\n",
       "      <td>608921.000000</td>\n",
       "      <td>608921.000000</td>\n",
       "      <td>608921.000000</td>\n",
       "      <td>608921.000000</td>\n",
       "      <td>...</td>\n",
       "      <td>608921.000000</td>\n",
       "      <td>608921.000000</td>\n",
       "      <td>608921.000000</td>\n",
       "      <td>608921.000000</td>\n",
       "      <td>608921.000000</td>\n",
       "      <td>608921.000000</td>\n",
       "      <td>608921.000000</td>\n",
       "      <td>608921.000000</td>\n",
       "      <td>608921.000000</td>\n",
       "      <td>608921.000000</td>\n",
       "    </tr>\n",
       "    <tr>\n",
       "      <th>mean</th>\n",
       "      <td>0.104342</td>\n",
       "      <td>135.548575</td>\n",
       "      <td>184.663017</td>\n",
       "      <td>25.119669</td>\n",
       "      <td>19.486345</td>\n",
       "      <td>17.820442</td>\n",
       "      <td>16.964847</td>\n",
       "      <td>16.554727</td>\n",
       "      <td>16.264905</td>\n",
       "      <td>19.482649</td>\n",
       "      <td>...</td>\n",
       "      <td>0.313254</td>\n",
       "      <td>0.001363</td>\n",
       "      <td>1.665904</td>\n",
       "      <td>0.855595</td>\n",
       "      <td>0.410120</td>\n",
       "      <td>0.289823</td>\n",
       "      <td>1.615551</td>\n",
       "      <td>0.831818</td>\n",
       "      <td>0.386924</td>\n",
       "      <td>0.233235</td>\n",
       "    </tr>\n",
       "    <tr>\n",
       "      <th>std</th>\n",
       "      <td>0.053560</td>\n",
       "      <td>74.773948</td>\n",
       "      <td>58.737151</td>\n",
       "      <td>19.010990</td>\n",
       "      <td>0.960267</td>\n",
       "      <td>0.763514</td>\n",
       "      <td>0.675561</td>\n",
       "      <td>0.673814</td>\n",
       "      <td>0.707239</td>\n",
       "      <td>1.157991</td>\n",
       "      <td>...</td>\n",
       "      <td>0.463817</td>\n",
       "      <td>0.036895</td>\n",
       "      <td>0.458326</td>\n",
       "      <td>0.296790</td>\n",
       "      <td>0.097406</td>\n",
       "      <td>0.179993</td>\n",
       "      <td>0.799674</td>\n",
       "      <td>0.352273</td>\n",
       "      <td>0.220364</td>\n",
       "      <td>0.373315</td>\n",
       "    </tr>\n",
       "    <tr>\n",
       "      <th>min</th>\n",
       "      <td>-0.006568</td>\n",
       "      <td>0.000000</td>\n",
       "      <td>0.001718</td>\n",
       "      <td>-11.252825</td>\n",
       "      <td>14.226100</td>\n",
       "      <td>13.574420</td>\n",
       "      <td>13.890400</td>\n",
       "      <td>13.758980</td>\n",
       "      <td>12.382540</td>\n",
       "      <td>11.984880</td>\n",
       "      <td>...</td>\n",
       "      <td>0.000000</td>\n",
       "      <td>0.000000</td>\n",
       "      <td>-9.993700</td>\n",
       "      <td>-6.423580</td>\n",
       "      <td>-4.947020</td>\n",
       "      <td>-13.819450</td>\n",
       "      <td>-19.256860</td>\n",
       "      <td>-3.612750</td>\n",
       "      <td>-22.090000</td>\n",
       "      <td>-21.056590</td>\n",
       "    </tr>\n",
       "    <tr>\n",
       "      <th>25%</th>\n",
       "      <td>0.066619</td>\n",
       "      <td>83.816160</td>\n",
       "      <td>151.925664</td>\n",
       "      <td>9.675502</td>\n",
       "      <td>18.901570</td>\n",
       "      <td>17.420410</td>\n",
       "      <td>16.635270</td>\n",
       "      <td>16.226100</td>\n",
       "      <td>15.916920</td>\n",
       "      <td>18.858070</td>\n",
       "      <td>...</td>\n",
       "      <td>0.000000</td>\n",
       "      <td>0.000000</td>\n",
       "      <td>1.343030</td>\n",
       "      <td>0.675080</td>\n",
       "      <td>0.373660</td>\n",
       "      <td>0.248440</td>\n",
       "      <td>1.239470</td>\n",
       "      <td>0.639410</td>\n",
       "      <td>0.350710</td>\n",
       "      <td>0.188920</td>\n",
       "    </tr>\n",
       "    <tr>\n",
       "      <th>50%</th>\n",
       "      <td>0.097589</td>\n",
       "      <td>131.624900</td>\n",
       "      <td>185.461795</td>\n",
       "      <td>23.769607</td>\n",
       "      <td>19.528360</td>\n",
       "      <td>17.971860</td>\n",
       "      <td>17.157480</td>\n",
       "      <td>16.737970</td>\n",
       "      <td>16.430190</td>\n",
       "      <td>19.460280</td>\n",
       "      <td>...</td>\n",
       "      <td>0.000000</td>\n",
       "      <td>0.000000</td>\n",
       "      <td>1.718690</td>\n",
       "      <td>0.875560</td>\n",
       "      <td>0.422390</td>\n",
       "      <td>0.315140</td>\n",
       "      <td>1.542990</td>\n",
       "      <td>0.843520</td>\n",
       "      <td>0.404890</td>\n",
       "      <td>0.271040</td>\n",
       "    </tr>\n",
       "    <tr>\n",
       "      <th>75%</th>\n",
       "      <td>0.136380</td>\n",
       "      <td>181.387900</td>\n",
       "      <td>220.488190</td>\n",
       "      <td>39.551447</td>\n",
       "      <td>20.146590</td>\n",
       "      <td>18.358100</td>\n",
       "      <td>17.474630</td>\n",
       "      <td>17.051040</td>\n",
       "      <td>16.752250</td>\n",
       "      <td>20.062810</td>\n",
       "      <td>...</td>\n",
       "      <td>1.000000</td>\n",
       "      <td>0.000000</td>\n",
       "      <td>1.938110</td>\n",
       "      <td>1.022410</td>\n",
       "      <td>0.463140</td>\n",
       "      <td>0.353350</td>\n",
       "      <td>1.817090</td>\n",
       "      <td>0.995580</td>\n",
       "      <td>0.445390</td>\n",
       "      <td>0.324840</td>\n",
       "    </tr>\n",
       "    <tr>\n",
       "      <th>max</th>\n",
       "      <td>1.000208</td>\n",
       "      <td>850.000000</td>\n",
       "      <td>359.997379</td>\n",
       "      <td>70.268882</td>\n",
       "      <td>30.599800</td>\n",
       "      <td>28.401410</td>\n",
       "      <td>25.141300</td>\n",
       "      <td>20.176000</td>\n",
       "      <td>28.553240</td>\n",
       "      <td>41.270800</td>\n",
       "      <td>...</td>\n",
       "      <td>1.000000</td>\n",
       "      <td>1.000000</td>\n",
       "      <td>13.198990</td>\n",
       "      <td>13.050000</td>\n",
       "      <td>9.648550</td>\n",
       "      <td>5.005140</td>\n",
       "      <td>24.066280</td>\n",
       "      <td>19.110600</td>\n",
       "      <td>4.211290</td>\n",
       "      <td>19.374340</td>\n",
       "    </tr>\n",
       "  </tbody>\n",
       "</table>\n",
       "<p>8 rows × 48 columns</p>\n",
       "</div>"
      ],
      "text/plain": [
       "                   z        velDisp             ra            dec  \\\n",
       "count  608921.000000  608921.000000  608921.000000  608921.000000   \n",
       "mean        0.104342     135.548575     184.663017      25.119669   \n",
       "std         0.053560      74.773948      58.737151      19.010990   \n",
       "min        -0.006568       0.000000       0.001718     -11.252825   \n",
       "25%         0.066619      83.816160     151.925664       9.675502   \n",
       "50%         0.097589     131.624900     185.461795      23.769607   \n",
       "75%         0.136380     181.387900     220.488190      39.551447   \n",
       "max         1.000208     850.000000     359.997379      70.268882   \n",
       "\n",
       "          modelMag_u     modelMag_g     modelMag_r     modelMag_i  \\\n",
       "count  608921.000000  608921.000000  608921.000000  608921.000000   \n",
       "mean       19.486345      17.820442      16.964847      16.554727   \n",
       "std         0.960267       0.763514       0.675561       0.673814   \n",
       "min        14.226100      13.574420      13.890400      13.758980   \n",
       "25%        18.901570      17.420410      16.635270      16.226100   \n",
       "50%        19.528360      17.971860      17.157480      16.737970   \n",
       "75%        20.146590      18.358100      17.474630      17.051040   \n",
       "max        30.599800      28.401410      25.141300      20.176000   \n",
       "\n",
       "          modelMag_z     petroMag_u  ...  subClass_STARFORMING  \\\n",
       "count  608921.000000  608921.000000  ...         608921.000000   \n",
       "mean       16.264905      19.482649  ...              0.313254   \n",
       "std         0.707239       1.157991  ...              0.463817   \n",
       "min        12.382540      11.984880  ...              0.000000   \n",
       "25%        15.916920      18.858070  ...              0.000000   \n",
       "50%        16.430190      19.460280  ...              0.000000   \n",
       "75%        16.752250      20.062810  ...              1.000000   \n",
       "max        28.553240      41.270800  ...              1.000000   \n",
       "\n",
       "       subClass_STARFORMING_BROADLINE  modelColor_ug  modelColor_gr  \\\n",
       "count                   608921.000000  608921.000000  608921.000000   \n",
       "mean                         0.001363       1.665904       0.855595   \n",
       "std                          0.036895       0.458326       0.296790   \n",
       "min                          0.000000      -9.993700      -6.423580   \n",
       "25%                          0.000000       1.343030       0.675080   \n",
       "50%                          0.000000       1.718690       0.875560   \n",
       "75%                          0.000000       1.938110       1.022410   \n",
       "max                          1.000000      13.198990      13.050000   \n",
       "\n",
       "       modelColor_ri  modelColor_iz  petroColor_ug  petroColor_gr  \\\n",
       "count  608921.000000  608921.000000  608921.000000  608921.000000   \n",
       "mean        0.410120       0.289823       1.615551       0.831818   \n",
       "std         0.097406       0.179993       0.799674       0.352273   \n",
       "min        -4.947020     -13.819450     -19.256860      -3.612750   \n",
       "25%         0.373660       0.248440       1.239470       0.639410   \n",
       "50%         0.422390       0.315140       1.542990       0.843520   \n",
       "75%         0.463140       0.353350       1.817090       0.995580   \n",
       "max         9.648550       5.005140      24.066280      19.110600   \n",
       "\n",
       "       petroColor_ri  petroColor_iz  \n",
       "count  608921.000000  608921.000000  \n",
       "mean        0.386924       0.233235  \n",
       "std         0.220364       0.373315  \n",
       "min       -22.090000     -21.056590  \n",
       "25%         0.350710       0.188920  \n",
       "50%         0.404890       0.271040  \n",
       "75%         0.445390       0.324840  \n",
       "max         4.211290      19.374340  \n",
       "\n",
       "[8 rows x 48 columns]"
      ]
     },
     "execution_count": 11,
     "metadata": {},
     "output_type": "execute_result"
    }
   ],
   "source": [
    "data.describe()"
   ]
  },
  {
   "cell_type": "code",
   "execution_count": 12,
   "metadata": {},
   "outputs": [
    {
     "data": {
      "text/plain": [
       "Index(['z', 'velDisp', 'ra', 'dec', 'subClass', 'modelMag_u', 'modelMag_g',\n",
       "       'modelMag_r', 'modelMag_i', 'modelMag_z', 'petroMag_u', 'petroMag_g',\n",
       "       'petroMag_r', 'petroMag_i', 'petroMag_z', 'deVRad_u', 'deVRad_g',\n",
       "       'deVRad_r', 'deVRad_i', 'deVRad_z', 'expRad_u', 'expRad_g', 'expRad_r',\n",
       "       'expRad_i', 'expRad_z', 'petroRad_u', 'petroRad_g', 'petroRad_r',\n",
       "       'petroRad_i', 'petroRad_z', 'spiral', 'elliptical', 'uncertain',\n",
       "       'subClass_0', 'subClass_AGN', 'subClass_AGN_BROADLINE',\n",
       "       'subClass_BROADLINE', 'subClass_STARBURST',\n",
       "       'subClass_STARBURST_BROADLINE', 'subClass_STARFORMING',\n",
       "       'subClass_STARFORMING_BROADLINE', 'modelColor_ug', 'modelColor_gr',\n",
       "       'modelColor_ri', 'modelColor_iz', 'petroColor_ug', 'petroColor_gr',\n",
       "       'petroColor_ri', 'petroColor_iz'],\n",
       "      dtype='object')"
      ]
     },
     "execution_count": 12,
     "metadata": {},
     "output_type": "execute_result"
    }
   ],
   "source": [
    "data.columns"
   ]
  },
  {
   "cell_type": "code",
   "execution_count": 8,
   "metadata": {
    "scrolled": true
   },
   "outputs": [
    {
     "name": "stdout",
     "output_type": "stream",
     "text": [
      "<class 'pandas.core.frame.DataFrame'>\n",
      "Int64Index: 608921 entries, 957075158303008768 to 957064712942544896\n",
      "Data columns (total 49 columns):\n",
      " #   Column                          Non-Null Count   Dtype  \n",
      "---  ------                          --------------   -----  \n",
      " 0   z                               608921 non-null  float64\n",
      " 1   velDisp                         608921 non-null  float64\n",
      " 2   ra                              608921 non-null  float64\n",
      " 3   dec                             608921 non-null  float64\n",
      " 4   subClass                        249461 non-null  object \n",
      " 5   modelMag_u                      608921 non-null  float64\n",
      " 6   modelMag_g                      608921 non-null  float64\n",
      " 7   modelMag_r                      608921 non-null  float64\n",
      " 8   modelMag_i                      608921 non-null  float64\n",
      " 9   modelMag_z                      608921 non-null  float64\n",
      " 10  petroMag_u                      608921 non-null  float64\n",
      " 11  petroMag_g                      608921 non-null  float64\n",
      " 12  petroMag_r                      608921 non-null  float64\n",
      " 13  petroMag_i                      608921 non-null  float64\n",
      " 14  petroMag_z                      608921 non-null  float64\n",
      " 15  deVRad_u                        608921 non-null  float64\n",
      " 16  deVRad_g                        608921 non-null  float64\n",
      " 17  deVRad_r                        608921 non-null  float64\n",
      " 18  deVRad_i                        608921 non-null  float64\n",
      " 19  deVRad_z                        608921 non-null  float64\n",
      " 20  expRad_u                        608921 non-null  float64\n",
      " 21  expRad_g                        608921 non-null  float64\n",
      " 22  expRad_r                        608921 non-null  float64\n",
      " 23  expRad_i                        608921 non-null  float64\n",
      " 24  expRad_z                        608921 non-null  float64\n",
      " 25  petroRad_u                      608921 non-null  float64\n",
      " 26  petroRad_g                      608921 non-null  float64\n",
      " 27  petroRad_r                      608921 non-null  float64\n",
      " 28  petroRad_i                      608921 non-null  float64\n",
      " 29  petroRad_z                      608921 non-null  float64\n",
      " 30  spiral                          608921 non-null  int64  \n",
      " 31  elliptical                      608921 non-null  int64  \n",
      " 32  uncertain                       608921 non-null  int64  \n",
      " 33  subClass_AGN                    608921 non-null  int64  \n",
      " 34  subClass_AGN_BROADLINE          608921 non-null  int64  \n",
      " 35  subClass_BROADLINE              608921 non-null  int64  \n",
      " 36  subClass_STARBURST              608921 non-null  int64  \n",
      " 37  subClass_STARBURST_BROADLINE    608921 non-null  int64  \n",
      " 38  subClass_STARFORMING            608921 non-null  int64  \n",
      " 39  subClass_STARFORMING_BROADLINE  608921 non-null  int64  \n",
      " 40  subClass_null                   608921 non-null  int64  \n",
      " 41  modelColor_ug                   608921 non-null  float64\n",
      " 42  modelColor_gr                   608921 non-null  float64\n",
      " 43  modelColor_ri                   608921 non-null  float64\n",
      " 44  modelColor_iz                   608921 non-null  float64\n",
      " 45  petroColor_ug                   608921 non-null  float64\n",
      " 46  petroColor_gr                   608921 non-null  float64\n",
      " 47  petroColor_ri                   608921 non-null  float64\n",
      " 48  petroColor_iz                   608921 non-null  float64\n",
      "dtypes: float64(37), int64(11), object(1)\n",
      "memory usage: 232.3+ MB\n"
     ]
    }
   ],
   "source": [
    "data.info()"
   ]
  },
  {
   "cell_type": "code",
   "execution_count": 13,
   "metadata": {},
   "outputs": [
    {
     "data": {
      "text/html": [
       "\n",
       "    <div>\n",
       "        <style>\n",
       "            /* Turns off some styling */\n",
       "            progress {\n",
       "                /* gets rid of default border in Firefox and Opera. */\n",
       "                border: none;\n",
       "                /* Needs to be in here for Safari polyfill so background images work as expected. */\n",
       "                background-size: auto;\n",
       "            }\n",
       "            .progress-bar-interrupted, .progress-bar-interrupted::-webkit-progress-bar {\n",
       "                background: #F44336;\n",
       "            }\n",
       "        </style>\n",
       "      <progress value='49' class='' max='49' style='width:300px; height:20px; vertical-align: middle;'></progress>\n",
       "      100.00% [49/49 00:01<00:00]\n",
       "    </div>\n",
       "    "
      ],
      "text/plain": [
       "<IPython.core.display.HTML object>"
      ]
     },
     "metadata": {},
     "output_type": "display_data"
    },
    {
     "name": "stdout",
     "output_type": "stream",
     "text": [
      "reduced df from 232.2849 MB to 97.5600 MB in 1.20 seconds\n"
     ]
    }
   ],
   "source": [
    "from fail_safe_parallel_memory_reduction import Reducer\n",
    "\n",
    "reducer = Reducer(n_jobs=1)\n",
    "data = reducer.reduce(data)"
   ]
  },
  {
   "cell_type": "markdown",
   "metadata": {},
   "source": [
    "### 02 - Set de datos"
   ]
  },
  {
   "cell_type": "code",
   "execution_count": 14,
   "metadata": {},
   "outputs": [],
   "source": [
    "#-- Jugar con esta lista, agregar o sacar o cambiar las columnas.\n",
    "\n",
    "# Set de 21 variables que incluyen las magnitudes y colores model_mag\n",
    "filter_col_01=[];\n",
    "filter_col_01.extend([col for col in data if col.startswith(('modelMag', 'modelColor','deVRad','expRad','velDisp', 'z'))])\n",
    "\n",
    "# Set de 21 variables que incluyen las magnitudes y colores petro_mag\n",
    "filter_col_02=[]\n",
    "filter_col_02.extend([col for col in data if col.startswith(('petroMag', 'petroColor','petroRad','velDisp', 'z'))])\n",
    "\n",
    "## Set de  11 variables. Es un set reducido respecto del set filter_col_01\n",
    "filter_col_03=[];\n",
    "filter_col_03.extend([col for col in data if col.startswith(('modelMag', 'modelColor','velDisp', 'z'))])\n",
    "\n",
    "# Set de 12 variables diferentes entre los distintos sistemas de magnitudes\n",
    "filter_col_04=[]\n",
    "filter_col_04=[ 'z','petroColor_gr', 'modelColor_ri', 'modelColor_gr','petroMag_r','petroMag_g','petroMag_u',\n",
    "                    'modelMag_i','modelMag_g','modelMag_u','modelMag_r','velDisp']\n"
   ]
  },
  {
   "cell_type": "code",
   "execution_count": 10,
   "metadata": {},
   "outputs": [
    {
     "name": "stdout",
     "output_type": "stream",
     "text": [
      "['z', 'velDisp', 'modelMag_u', 'modelMag_g', 'modelMag_r', 'modelMag_i', 'modelMag_z', 'deVRad_u', 'deVRad_g', 'deVRad_r', 'deVRad_i', 'deVRad_z', 'expRad_u', 'expRad_g', 'expRad_r', 'expRad_i', 'expRad_z', 'modelColor_ug', 'modelColor_gr', 'modelColor_ri', 'modelColor_iz']\n"
     ]
    }
   ],
   "source": [
    "print(filter_col_01)"
   ]
  },
  {
   "cell_type": "code",
   "execution_count": 11,
   "metadata": {},
   "outputs": [
    {
     "name": "stdout",
     "output_type": "stream",
     "text": [
      "['z', 'velDisp', 'petroMag_u', 'petroMag_g', 'petroMag_r', 'petroMag_i', 'petroMag_z', 'petroRad_u', 'petroRad_g', 'petroRad_r', 'petroRad_i', 'petroRad_z', 'petroColor_ug', 'petroColor_gr', 'petroColor_ri', 'petroColor_iz']\n"
     ]
    }
   ],
   "source": [
    "print(filter_col_02)"
   ]
  },
  {
   "cell_type": "code",
   "execution_count": 12,
   "metadata": {},
   "outputs": [
    {
     "name": "stdout",
     "output_type": "stream",
     "text": [
      "['z', 'velDisp', 'modelMag_u', 'modelMag_g', 'modelMag_r', 'modelMag_i', 'modelMag_z', 'modelColor_ug', 'modelColor_gr', 'modelColor_ri', 'modelColor_iz']\n"
     ]
    }
   ],
   "source": [
    "print(filter_col_03)"
   ]
  },
  {
   "cell_type": "code",
   "execution_count": 13,
   "metadata": {},
   "outputs": [
    {
     "name": "stdout",
     "output_type": "stream",
     "text": [
      "['z', 'petroColor_gr', 'modelColor_ri', 'modelColor_gr', 'petroMag_r', 'petroMag_g', 'petroMag_u', 'modelMag_i', 'modelMag_g', 'modelMag_u', 'modelMag_r', 'velDisp']\n"
     ]
    }
   ],
   "source": [
    "print(filter_col_04)"
   ]
  },
  {
   "cell_type": "markdown",
   "metadata": {},
   "source": [
    "### 03- Clasificación del tipo morfológico de galaxias\n",
    "  * Implementar los modelos random forest y redes neuronales para clasificar las galaxias en tipo Elípticas y Espirales e Irregulares\n",
    "    + Utilizar al menos dos subconjuntos diferentes de variables (uno puede ser el mejor conjunto que les resultó del práctico anterior)\n",
    "    + Realizar una búsqueda en grilla de los mejores parámetros de los modelos empleados.\n",
    "    + Comparar la performance con los modelos de:\n",
    "        * perceptrón,\n",
    "        * regresión logística,\n",
    "        * vecinos más cercanos \n",
    "        * o el que hayan utilizado en el práctico anterior."
   ]
  },
  {
   "cell_type": "code",
   "execution_count": 14,
   "metadata": {},
   "outputs": [],
   "source": [
    "# Subsets según el tipo morfológico de las galaxias: data['morfologia']\n",
    "data['morfologia'] = 'uncertain'\n",
    "data.loc[data['elliptical']==1, 'morfologia'] = 'elliptical'\n",
    "data.loc[data['spiral']==1, 'morfologia'] = 'spiral'"
   ]
  },
  {
   "cell_type": "code",
   "execution_count": 15,
   "metadata": {},
   "outputs": [
    {
     "data": {
      "text/plain": [
       "specObjID\n",
       "957075158303008768     uncertain\n",
       "957066087332079616     uncertain\n",
       "957065537576265728        spiral\n",
       "957066911965800448    elliptical\n",
       "693629150375733248     uncertain\n",
       "                         ...    \n",
       "957075708058822656     uncertain\n",
       "957077632204171264     uncertain\n",
       "957077357326264320        spiral\n",
       "957066637087893504        spiral\n",
       "957064712942544896     uncertain\n",
       "Name: morfologia, Length: 608921, dtype: object"
      ]
     },
     "execution_count": 15,
     "metadata": {},
     "output_type": "execute_result"
    }
   ],
   "source": [
    "data['morfologia']"
   ]
  },
  {
   "cell_type": "markdown",
   "metadata": {},
   "source": [
    "### 03-1. Modelo: RandomForest"
   ]
  },
  {
   "cell_type": "code",
   "execution_count": 6,
   "metadata": {},
   "outputs": [],
   "source": [
    "from sklearn.ensemble import RandomForestClassifier\n",
    "from sklearn.model_selection import RandomizedSearchCV\n",
    "from sklearn.model_selection import GridSearchCV"
   ]
  },
  {
   "cell_type": "code",
   "execution_count": 17,
   "metadata": {},
   "outputs": [],
   "source": [
    "# Number of trees in random forest\n",
    "#n_estimators = [int(x) for x in np.linspace(start = 200, stop = 2000, num = 10)]\n",
    "n_estimators = [int(x) for x in np.linspace(start = 150, stop = 200, num = 2)]\n",
    "# Number of features to consider at every split\n",
    "max_features = ['auto', 'sqrt']\n",
    "# Maximum number of levels in tree\n",
    "#max_depth = [int(x) for x in np.linspace(10, 110, num = 11)]\n",
    "max_depth = [int(x) for x in np.linspace(10, 50, num = 2)]\n",
    "max_depth.append(None)\n",
    "# Minimum number of samples required to split a node\n",
    "min_samples_split = [2, 5]\n",
    "# Minimum number of samples required at each leaf node\n",
    "min_samples_leaf = [2, 4]\n",
    "# Method of selecting samples for training each tree\n",
    "bootstrap = [True, False]"
   ]
  },
  {
   "cell_type": "code",
   "execution_count": 18,
   "metadata": {},
   "outputs": [],
   "source": [
    "# Create the random grid\n",
    "random_grid = {'n_estimators': n_estimators,\n",
    "               'max_features': max_features,\n",
    "               'max_depth': max_depth,\n",
    "               'min_samples_split': min_samples_split,\n",
    "               'min_samples_leaf': min_samples_leaf,\n",
    "               'bootstrap': bootstrap}"
   ]
  },
  {
   "cell_type": "markdown",
   "metadata": {},
   "source": [
    "### 03-1-A. Set de datos 1 : filter_col_01"
   ]
  },
  {
   "cell_type": "code",
   "execution_count": 19,
   "metadata": {},
   "outputs": [
    {
     "name": "stdout",
     "output_type": "stream",
     "text": [
      "['z', 'velDisp', 'modelMag_u', 'modelMag_g', 'modelMag_r', 'modelMag_i', 'modelMag_z', 'deVRad_u', 'deVRad_g', 'deVRad_r', 'deVRad_i', 'deVRad_z', 'expRad_u', 'expRad_g', 'expRad_r', 'expRad_i', 'expRad_z', 'modelColor_ug', 'modelColor_gr', 'modelColor_ri', 'modelColor_iz']\n"
     ]
    }
   ],
   "source": [
    "# Set de datos 1: \n",
    "print(filter_col_01)"
   ]
  },
  {
   "cell_type": "code",
   "execution_count": 20,
   "metadata": {},
   "outputs": [
    {
     "name": "stdout",
     "output_type": "stream",
     "text": [
      "487136\n",
      "10000\n"
     ]
    }
   ],
   "source": [
    "X, y = data[filter_col_01[1:]], data['morfologia']\n",
    "\n",
    "X_train, X_test, y_train, y_test = train_test_split(X, y, train_size=0.8, random_state=0)\n",
    "\n",
    "print(len(X_train))\n",
    "\n",
    "X_train_reduced = X_train[0:10000]\n",
    "y_train_reduced = y_train[0:10000]\n",
    "\n",
    "print(len(X_train_reduced))"
   ]
  },
  {
   "cell_type": "code",
   "execution_count": 21,
   "metadata": {
    "scrolled": true
   },
   "outputs": [
    {
     "name": "stdout",
     "output_type": "stream",
     "text": [
      "Fitting 5 folds for each of 96 candidates, totalling 480 fits\n"
     ]
    },
    {
     "name": "stderr",
     "output_type": "stream",
     "text": [
      "[Parallel(n_jobs=-1)]: Using backend LokyBackend with 8 concurrent workers.\n",
      "[Parallel(n_jobs=-1)]: Done   2 tasks      | elapsed:    6.5s\n",
      "[Parallel(n_jobs=-1)]: Done   9 tasks      | elapsed:   10.9s\n",
      "[Parallel(n_jobs=-1)]: Done  16 tasks      | elapsed:   14.2s\n",
      "[Parallel(n_jobs=-1)]: Done  25 tasks      | elapsed:   21.8s\n",
      "[Parallel(n_jobs=-1)]: Done  34 tasks      | elapsed:   28.1s\n",
      "[Parallel(n_jobs=-1)]: Done  45 tasks      | elapsed:   35.3s\n",
      "[Parallel(n_jobs=-1)]: Done  56 tasks      | elapsed:   43.9s\n",
      "[Parallel(n_jobs=-1)]: Done  69 tasks      | elapsed:   53.0s\n",
      "[Parallel(n_jobs=-1)]: Done  82 tasks      | elapsed:  1.1min\n",
      "[Parallel(n_jobs=-1)]: Done  97 tasks      | elapsed:  1.3min\n",
      "[Parallel(n_jobs=-1)]: Done 112 tasks      | elapsed:  1.5min\n",
      "[Parallel(n_jobs=-1)]: Done 129 tasks      | elapsed:  1.8min\n",
      "[Parallel(n_jobs=-1)]: Done 146 tasks      | elapsed:  2.0min\n",
      "[Parallel(n_jobs=-1)]: Done 165 tasks      | elapsed:  2.3min\n",
      "[Parallel(n_jobs=-1)]: Done 184 tasks      | elapsed:  2.6min\n",
      "[Parallel(n_jobs=-1)]: Done 205 tasks      | elapsed:  2.9min\n",
      "[Parallel(n_jobs=-1)]: Done 226 tasks      | elapsed:  3.3min\n",
      "[Parallel(n_jobs=-1)]: Done 249 tasks      | elapsed:  3.6min\n",
      "[Parallel(n_jobs=-1)]: Done 272 tasks      | elapsed:  4.0min\n",
      "[Parallel(n_jobs=-1)]: Done 297 tasks      | elapsed:  4.5min\n",
      "[Parallel(n_jobs=-1)]: Done 322 tasks      | elapsed:  4.9min\n",
      "[Parallel(n_jobs=-1)]: Done 349 tasks      | elapsed:  5.6min\n",
      "[Parallel(n_jobs=-1)]: Done 376 tasks      | elapsed:  6.3min\n",
      "[Parallel(n_jobs=-1)]: Done 405 tasks      | elapsed:  6.9min\n",
      "[Parallel(n_jobs=-1)]: Done 434 tasks      | elapsed:  7.6min\n",
      "[Parallel(n_jobs=-1)]: Done 465 tasks      | elapsed:  8.3min\n",
      "[Parallel(n_jobs=-1)]: Done 480 out of 480 | elapsed:  8.7min finished\n"
     ]
    },
    {
     "data": {
      "text/plain": [
       "GridSearchCV(estimator=RandomForestClassifier(), n_jobs=-1,\n",
       "             param_grid={'bootstrap': [True, False],\n",
       "                         'max_depth': [10, 50, None],\n",
       "                         'max_features': ['auto', 'sqrt'],\n",
       "                         'min_samples_leaf': [2, 4],\n",
       "                         'min_samples_split': [2, 5],\n",
       "                         'n_estimators': [150, 200]},\n",
       "             verbose=10)"
      ]
     },
     "execution_count": 21,
     "metadata": {},
     "output_type": "execute_result"
    }
   ],
   "source": [
    "model_subset_01 = RandomForestClassifier()\n",
    "\n",
    "rf_random_01 = GridSearchCV(model_subset_01, random_grid, n_jobs=-1 , verbose=10 )\n",
    "\n",
    "rf_random_01.fit(X_train_reduced,y_train_reduced)"
   ]
  },
  {
   "cell_type": "code",
   "execution_count": 22,
   "metadata": {},
   "outputs": [
    {
     "name": "stdout",
     "output_type": "stream",
     "text": [
      "{'bootstrap': True, 'max_depth': 50, 'max_features': 'sqrt', 'min_samples_leaf': 2, 'min_samples_split': 2, 'n_estimators': 200}\n"
     ]
    }
   ],
   "source": [
    "best_params_01= rf_random_01.best_params_\n",
    "print(best_params_01)"
   ]
  },
  {
   "cell_type": "code",
   "execution_count": 23,
   "metadata": {},
   "outputs": [],
   "source": [
    "best_estimator_rf_01 = rf_random_01.best_estimator_"
   ]
  },
  {
   "cell_type": "code",
   "execution_count": 24,
   "metadata": {},
   "outputs": [
    {
     "name": "stdout",
     "output_type": "stream",
     "text": [
      "Train Accuracy:  0.9874\n",
      "Test Accuracy:  0.729153836679394\n"
     ]
    }
   ],
   "source": [
    "y_train_pred_01 = best_estimator_rf_01.predict(X_train_reduced)\n",
    "y_test_pred_01 = best_estimator_rf_01.predict(X_test)\n",
    "\n",
    "print('Train Accuracy: ', np.sum(y_train_pred_01 == y_train_reduced)/len(y_train_reduced))\n",
    "print('Test Accuracy: ', np.sum(y_test_pred_01 == y_test)/len(y_test))"
   ]
  },
  {
   "cell_type": "code",
   "execution_count": 25,
   "metadata": {},
   "outputs": [],
   "source": [
    "best_estimator_01_fit= best_estimator_rf_01.fit(X_train, y_train)"
   ]
  },
  {
   "cell_type": "code",
   "execution_count": 26,
   "metadata": {},
   "outputs": [
    {
     "name": "stdout",
     "output_type": "stream",
     "text": [
      "Train Accuracy:  0.9883\n",
      "Test Accuracy:  0.7512665763435563\n"
     ]
    }
   ],
   "source": [
    "y_train_pred_01_fit = best_estimator_01_fit.predict(X_train_reduced)\n",
    "y_test_pred_01_fit = best_estimator_01_fit.predict(X_test)\n",
    "\n",
    "print('Train Accuracy: ', np.sum(y_train_pred_01_fit == y_train_reduced)/len(y_train_reduced))\n",
    "print('Test Accuracy: ', np.sum(y_test_pred_01_fit == y_test)/len(y_test))"
   ]
  },
  {
   "cell_type": "markdown",
   "metadata": {},
   "source": [
    "### 03-1-B. Set de datos 4 : filter_col_04"
   ]
  },
  {
   "cell_type": "code",
   "execution_count": 27,
   "metadata": {},
   "outputs": [
    {
     "name": "stdout",
     "output_type": "stream",
     "text": [
      "['z', 'petroColor_gr', 'modelColor_ri', 'modelColor_gr', 'petroMag_r', 'petroMag_g', 'petroMag_u', 'modelMag_i', 'modelMag_g', 'modelMag_u', 'modelMag_r', 'velDisp']\n"
     ]
    }
   ],
   "source": [
    "# Set de datos 4: filter_col_04\n",
    "print(filter_col_04)"
   ]
  },
  {
   "cell_type": "code",
   "execution_count": 28,
   "metadata": {},
   "outputs": [
    {
     "name": "stdout",
     "output_type": "stream",
     "text": [
      "487136\n"
     ]
    }
   ],
   "source": [
    "X, y = data[filter_col_04[1:]], data['morfologia']\n",
    "\n",
    "X_train, X_test, y_train, y_test = train_test_split(X, y, train_size=0.8, random_state=0)\n",
    "\n",
    "print(len(X_train))\n",
    "X_train_reduced = X_train[0:10000]\n",
    "y_train_reduced = y_train[0:10000]"
   ]
  },
  {
   "cell_type": "code",
   "execution_count": 29,
   "metadata": {},
   "outputs": [
    {
     "name": "stdout",
     "output_type": "stream",
     "text": [
      "Fitting 5 folds for each of 96 candidates, totalling 480 fits\n"
     ]
    },
    {
     "name": "stderr",
     "output_type": "stream",
     "text": [
      "[Parallel(n_jobs=-1)]: Using backend LokyBackend with 8 concurrent workers.\n",
      "[Parallel(n_jobs=-1)]: Done   2 tasks      | elapsed:    5.5s\n",
      "[Parallel(n_jobs=-1)]: Done   9 tasks      | elapsed:    9.2s\n",
      "[Parallel(n_jobs=-1)]: Done  16 tasks      | elapsed:   12.2s\n",
      "[Parallel(n_jobs=-1)]: Done  25 tasks      | elapsed:   18.3s\n",
      "[Parallel(n_jobs=-1)]: Done  34 tasks      | elapsed:   23.5s\n",
      "[Parallel(n_jobs=-1)]: Done  45 tasks      | elapsed:   31.4s\n",
      "[Parallel(n_jobs=-1)]: Done  56 tasks      | elapsed:   39.1s\n",
      "[Parallel(n_jobs=-1)]: Done  69 tasks      | elapsed:   46.8s\n",
      "[Parallel(n_jobs=-1)]: Done  82 tasks      | elapsed:   57.1s\n",
      "[Parallel(n_jobs=-1)]: Done  97 tasks      | elapsed:  1.2min\n",
      "[Parallel(n_jobs=-1)]: Done 112 tasks      | elapsed:  1.4min\n",
      "[Parallel(n_jobs=-1)]: Done 129 tasks      | elapsed:  1.6min\n",
      "[Parallel(n_jobs=-1)]: Done 146 tasks      | elapsed:  1.9min\n",
      "[Parallel(n_jobs=-1)]: Done 165 tasks      | elapsed:  2.1min\n",
      "[Parallel(n_jobs=-1)]: Done 184 tasks      | elapsed:  2.4min\n",
      "[Parallel(n_jobs=-1)]: Done 205 tasks      | elapsed:  2.7min\n",
      "[Parallel(n_jobs=-1)]: Done 226 tasks      | elapsed:  3.0min\n",
      "[Parallel(n_jobs=-1)]: Done 249 tasks      | elapsed:  3.2min\n",
      "[Parallel(n_jobs=-1)]: Done 272 tasks      | elapsed:  3.6min\n",
      "[Parallel(n_jobs=-1)]: Done 297 tasks      | elapsed:  3.9min\n",
      "[Parallel(n_jobs=-1)]: Done 322 tasks      | elapsed:  4.3min\n",
      "[Parallel(n_jobs=-1)]: Done 349 tasks      | elapsed:  4.9min\n",
      "[Parallel(n_jobs=-1)]: Done 376 tasks      | elapsed:  5.5min\n",
      "[Parallel(n_jobs=-1)]: Done 405 tasks      | elapsed:  6.1min\n",
      "[Parallel(n_jobs=-1)]: Done 434 tasks      | elapsed:  6.6min\n",
      "[Parallel(n_jobs=-1)]: Done 465 tasks      | elapsed:  7.2min\n",
      "[Parallel(n_jobs=-1)]: Done 480 out of 480 | elapsed:  7.5min finished\n"
     ]
    },
    {
     "data": {
      "text/plain": [
       "GridSearchCV(estimator=RandomForestClassifier(), n_jobs=-1,\n",
       "             param_grid={'bootstrap': [True, False],\n",
       "                         'max_depth': [10, 50, None],\n",
       "                         'max_features': ['auto', 'sqrt'],\n",
       "                         'min_samples_leaf': [2, 4],\n",
       "                         'min_samples_split': [2, 5],\n",
       "                         'n_estimators': [150, 200]},\n",
       "             verbose=10)"
      ]
     },
     "execution_count": 29,
     "metadata": {},
     "output_type": "execute_result"
    }
   ],
   "source": [
    "model_subset_04 = RandomForestClassifier()\n",
    "\n",
    "rf_random_04 = GridSearchCV(model_subset_04, random_grid, n_jobs=-1 , verbose=10 )\n",
    "\n",
    "rf_random_04.fit(X_train_reduced,y_train_reduced)"
   ]
  },
  {
   "cell_type": "code",
   "execution_count": 30,
   "metadata": {},
   "outputs": [
    {
     "name": "stdout",
     "output_type": "stream",
     "text": [
      "{'bootstrap': True, 'max_depth': None, 'max_features': 'sqrt', 'min_samples_leaf': 4, 'min_samples_split': 5, 'n_estimators': 200}\n"
     ]
    }
   ],
   "source": [
    "best_params_04= rf_random_04.best_params_\n",
    "print(best_params_04)"
   ]
  },
  {
   "cell_type": "code",
   "execution_count": 31,
   "metadata": {},
   "outputs": [],
   "source": [
    "best_estimator_rf_04 = rf_random_04.best_estimator_"
   ]
  },
  {
   "cell_type": "code",
   "execution_count": 32,
   "metadata": {},
   "outputs": [
    {
     "name": "stdout",
     "output_type": "stream",
     "text": [
      "Train Accuracy:  0.9082\n",
      "Test Accuracy:  0.6880403990639241\n"
     ]
    }
   ],
   "source": [
    "y_train_pred_04 = best_estimator_rf_04.predict(X_train_reduced)\n",
    "y_test_pred_04 = best_estimator_rf_04.predict(X_test)\n",
    "\n",
    "print('Train Accuracy: ', np.sum(y_train_pred_04 == y_train_reduced)/len(y_train_reduced))\n",
    "print('Test Accuracy: ', np.sum(y_test_pred_04 == y_test)/len(y_test))"
   ]
  },
  {
   "cell_type": "code",
   "execution_count": 33,
   "metadata": {},
   "outputs": [],
   "source": [
    "best_estimator_04_fit= best_estimator_rf_04.fit(X_train, y_train)"
   ]
  },
  {
   "cell_type": "code",
   "execution_count": 34,
   "metadata": {},
   "outputs": [
    {
     "name": "stdout",
     "output_type": "stream",
     "text": [
      "Train Accuracy:  0.9162\n",
      "Test Accuracy:  0.7087818696883853\n"
     ]
    }
   ],
   "source": [
    "y_train_pred_04_fit = best_estimator_04_fit.predict(X_train_reduced)\n",
    "y_test_pred_04_fit = best_estimator_04_fit.predict(X_test)\n",
    "\n",
    "print('Train Accuracy: ', np.sum(y_train_pred_04_fit == y_train_reduced)/len(y_train_reduced))\n",
    "print('Test Accuracy: ', np.sum(y_test_pred_04_fit == y_test)/len(y_test))"
   ]
  },
  {
   "cell_type": "markdown",
   "metadata": {},
   "source": [
    "### 04-2. Modelo: Red neuronal"
   ]
  },
  {
   "cell_type": "code",
   "execution_count": 35,
   "metadata": {},
   "outputs": [],
   "source": [
    "from sklearn.neural_network import MLPClassifier"
   ]
  },
  {
   "cell_type": "code",
   "execution_count": 36,
   "metadata": {},
   "outputs": [],
   "source": [
    "mlp = MLPClassifier(max_iter=100)\n",
    "\n",
    "parameter_space = {\n",
    "    'hidden_layer_sizes': [(50,50,50), (50,100,50), (100,)],\n",
    "    'activation': ['tanh', 'relu'],\n",
    "    'solver': ['sgd', 'adam'],\n",
    "    'alpha': [0.0001, 0.05],\n",
    "    'learning_rate': ['constant','adaptive'],\n",
    "}"
   ]
  },
  {
   "cell_type": "markdown",
   "metadata": {},
   "source": [
    "### 03-2-A. Set de datos 1 : filter_col_01"
   ]
  },
  {
   "cell_type": "code",
   "execution_count": 37,
   "metadata": {},
   "outputs": [
    {
     "name": "stdout",
     "output_type": "stream",
     "text": [
      "487136\n",
      "10000\n"
     ]
    }
   ],
   "source": [
    "X, y = data[filter_col_01[1:]], data['morfologia']\n",
    "\n",
    "X_train, X_test, y_train, y_test = train_test_split(X, y, train_size=0.8, random_state=0)\n",
    "\n",
    "print(len(X_train))\n",
    "\n",
    "X_train_reduced = X_train[0:10000]\n",
    "y_train_reduced = y_train[0:10000]\n",
    "\n",
    "print(len(X_train_reduced))"
   ]
  },
  {
   "cell_type": "code",
   "execution_count": 38,
   "metadata": {},
   "outputs": [
    {
     "name": "stdout",
     "output_type": "stream",
     "text": [
      "Fitting 3 folds for each of 48 candidates, totalling 144 fits\n"
     ]
    },
    {
     "name": "stderr",
     "output_type": "stream",
     "text": [
      "[Parallel(n_jobs=-1)]: Using backend LokyBackend with 8 concurrent workers.\n",
      "[Parallel(n_jobs=-1)]: Done   2 tasks      | elapsed:    8.9s\n",
      "[Parallel(n_jobs=-1)]: Done   9 tasks      | elapsed:   13.7s\n",
      "[Parallel(n_jobs=-1)]: Done  16 tasks      | elapsed:   23.2s\n",
      "[Parallel(n_jobs=-1)]: Done  25 tasks      | elapsed:   37.4s\n",
      "[Parallel(n_jobs=-1)]: Done  34 tasks      | elapsed:   44.6s\n",
      "[Parallel(n_jobs=-1)]: Done  45 tasks      | elapsed:   55.0s\n",
      "[Parallel(n_jobs=-1)]: Done  56 tasks      | elapsed:  1.2min\n",
      "[Parallel(n_jobs=-1)]: Done  69 tasks      | elapsed:  1.4min\n",
      "[Parallel(n_jobs=-1)]: Done  82 tasks      | elapsed:  1.6min\n",
      "[Parallel(n_jobs=-1)]: Done  97 tasks      | elapsed:  2.0min\n",
      "[Parallel(n_jobs=-1)]: Done 112 tasks      | elapsed:  2.2min\n",
      "[Parallel(n_jobs=-1)]: Done 129 tasks      | elapsed:  2.6min\n",
      "[Parallel(n_jobs=-1)]: Done 144 out of 144 | elapsed:  2.8min remaining:    0.0s\n",
      "[Parallel(n_jobs=-1)]: Done 144 out of 144 | elapsed:  2.8min finished\n"
     ]
    },
    {
     "data": {
      "text/plain": [
       "GridSearchCV(cv=3, estimator=MLPClassifier(max_iter=100), n_jobs=-1,\n",
       "             param_grid={'activation': ['tanh', 'relu'],\n",
       "                         'alpha': [0.0001, 0.05],\n",
       "                         'hidden_layer_sizes': [(50, 50, 50), (50, 100, 50),\n",
       "                                                (100,)],\n",
       "                         'learning_rate': ['constant', 'adaptive'],\n",
       "                         'solver': ['sgd', 'adam']},\n",
       "             verbose=10)"
      ]
     },
     "execution_count": 38,
     "metadata": {},
     "output_type": "execute_result"
    }
   ],
   "source": [
    "clf_01 = GridSearchCV(mlp, parameter_space, n_jobs=-1, cv=3, verbose=10)\n",
    "clf_01.fit(X_train_reduced, y_train_reduced)"
   ]
  },
  {
   "cell_type": "code",
   "execution_count": 39,
   "metadata": {},
   "outputs": [
    {
     "name": "stdout",
     "output_type": "stream",
     "text": [
      "{'activation': 'tanh', 'alpha': 0.0001, 'hidden_layer_sizes': (100,), 'learning_rate': 'adaptive', 'solver': 'adam'}\n"
     ]
    }
   ],
   "source": [
    "print(clf_01.best_params_)"
   ]
  },
  {
   "cell_type": "code",
   "execution_count": 40,
   "metadata": {},
   "outputs": [
    {
     "name": "stdout",
     "output_type": "stream",
     "text": [
      "Train Accuracy:  0.7211\n",
      "Test Accuracy:  0.7136428952662479\n"
     ]
    }
   ],
   "source": [
    "best_random_mlpc_01 = clf_01.best_estimator_\n",
    "y_train_pred_01 = best_random_mlpc_01.predict(X_train_reduced)\n",
    "y_test_pred_01 = best_random_mlpc_01.predict(X_test)\n",
    "\n",
    "print('Train Accuracy: ', np.sum(y_train_pred_01 == y_train_reduced)/len(y_train_reduced))\n",
    "print('Test Accuracy: ', np.sum(y_test_pred_01 == y_test)/len(y_test))"
   ]
  },
  {
   "cell_type": "code",
   "execution_count": 41,
   "metadata": {},
   "outputs": [
    {
     "data": {
      "text/plain": [
       "MLPClassifier(activation='tanh', learning_rate='adaptive', max_iter=100)"
      ]
     },
     "execution_count": 41,
     "metadata": {},
     "output_type": "execute_result"
    }
   ],
   "source": [
    "best_random_mlpc_01.fit(X_train, y_train)"
   ]
  },
  {
   "cell_type": "code",
   "execution_count": 42,
   "metadata": {
    "scrolled": true
   },
   "outputs": [
    {
     "name": "stdout",
     "output_type": "stream",
     "text": [
      "Train Accuracy:  0.7386\n",
      "Test Accuracy:  0.73968058463686\n"
     ]
    }
   ],
   "source": [
    "y_train_pred_01_fit = best_random_mlpc_01.predict(X_train_reduced)\n",
    "y_test_pred_01_fit = best_random_mlpc_01.predict(X_test)\n",
    "\n",
    "print('Train Accuracy: ', np.sum(y_train_pred_01_fit == y_train_reduced)/len(y_train_reduced))\n",
    "print('Test Accuracy: ', np.sum(y_test_pred_01_fit == y_test)/len(y_test))"
   ]
  },
  {
   "cell_type": "markdown",
   "metadata": {},
   "source": [
    "### 03-2-B. Set de datos 4 : filter_col_04"
   ]
  },
  {
   "cell_type": "code",
   "execution_count": 43,
   "metadata": {},
   "outputs": [
    {
     "name": "stdout",
     "output_type": "stream",
     "text": [
      "487136\n",
      "10000\n"
     ]
    }
   ],
   "source": [
    "X, y = data[filter_col_04[1:]], data['morfologia']\n",
    "\n",
    "X_train, X_test, y_train, y_test = train_test_split(X, y, train_size=0.8, random_state=0)\n",
    "\n",
    "print(len(X_train))\n",
    "\n",
    "X_train_reduced = X_train[0:10000]\n",
    "y_train_reduced = y_train[0:10000]\n",
    "\n",
    "print(len(X_train_reduced))"
   ]
  },
  {
   "cell_type": "code",
   "execution_count": null,
   "metadata": {},
   "outputs": [],
   "source": [
    "clf_04 = GridSearchCV(mlp, parameter_space, n_jobs=-1, cv=3, verbose=10)\n",
    "clf_04.fit(X_train_reduced, y_train_reduced)"
   ]
  },
  {
   "cell_type": "code",
   "execution_count": null,
   "metadata": {},
   "outputs": [],
   "source": [
    "print(clf_04.best_params_)"
   ]
  },
  {
   "cell_type": "code",
   "execution_count": 46,
   "metadata": {},
   "outputs": [
    {
     "name": "stdout",
     "output_type": "stream",
     "text": [
      "Train Accuracy:  0.6418\n",
      "Test Accuracy:  0.6435932175555282\n"
     ]
    }
   ],
   "source": [
    "best_random_mlpc_04 = clf_04.best_estimator_\n",
    "y_train_pred_04 = best_random_mlpc_04.predict(X_train_scaled)\n",
    "y_test_pred_04 = best_random_mlpc_04.predict(X_test)\n",
    "\n",
    "print('Train Accuracy: ', np.sum(y_train_pred_04 == y_train_reduced)/len(y_train_reduced))\n",
    "print('Test Accuracy: ', np.sum(y_test_pred_04 == y_test)/len(y_test))"
   ]
  },
  {
   "cell_type": "code",
   "execution_count": 47,
   "metadata": {},
   "outputs": [
    {
     "data": {
      "text/plain": [
       "MLPClassifier(alpha=0.05, hidden_layer_sizes=(50, 100, 50), max_iter=100)"
      ]
     },
     "execution_count": 47,
     "metadata": {},
     "output_type": "execute_result"
    }
   ],
   "source": [
    "best_random_mlpc_04.fit(X_train, y_train)"
   ]
  },
  {
   "cell_type": "code",
   "execution_count": 48,
   "metadata": {},
   "outputs": [
    {
     "name": "stdout",
     "output_type": "stream",
     "text": [
      "Train Accuracy:  0.6922\n",
      "Test Accuracy:  0.6982140657716468\n"
     ]
    }
   ],
   "source": [
    "y_train_pred_04_fit = best_random_mlpc_04.predict(X_train_reduced)\n",
    "y_test_pred_04_fit = best_random_mlpc_04.predict(X_test)\n",
    "\n",
    "print('Train Accuracy: ', np.sum(y_train_pred_04_fit == y_train_reduced)/len(y_train_reduced))\n",
    "print('Test Accuracy: ', np.sum(y_test_pred_04_fit == y_test)/len(y_test))"
   ]
  },
  {
   "cell_type": "markdown",
   "metadata": {},
   "source": [
    "### 04-3. Comparación: respecto a los modelos anteriores"
   ]
  },
  {
   "cell_type": "markdown",
   "metadata": {},
   "source": [
    "## **NOTAS:**\n",
    "#### Modelos implementados para clasificar las galaxias en tipo Elípticas y Espirales e Irregulares.\n",
    "\n",
    "+ **SGDC** (trabajo anterior):   \n",
    "    + subset_01: Test accuracy: 0.7027\n",
    "+ **PERCEPTRÓN** (trabajo anterior):   \n",
    "    + subset_01: Test accuracy: 0.7456\n",
    "* **RF Tree**\n",
    "    + subset_01: Test accuracy: 0.7512  \n",
    "    + subset_04: Test accuracy: 0.7087\n",
    "+ **MLPC**\n",
    "    + subset_01:  Test accuracy: 0.7396\n",
    "    + subset_04:  Test accuracy: 0.6982\n",
    "        \n",
    "CONCLUSIONES    \n",
    "* Los resultados obtenidos para el subset_01 con los modelos corridos en este trabajo, muestran una mejoría respecto al **modelo SGDC** utilizado en el práctico anterior. \n",
    "* El mejor modelo es del **RF Tree** ya que con él obtenemos el mejor valor de accuracy."
   ]
  },
  {
   "cell_type": "markdown",
   "metadata": {},
   "source": [
    "### 05- Determinación del _redshift_ de las galaxias\n",
    "\n",
    "  * Implementar los modelos de random forest, multi-layer perceptron y/o stochastic gradient descent para determinar el _redshift_ de las galaxias a partir de las propiedades fotométricas.\n",
    "  \n",
    "    + Utilizar al menos dos subconjuntos diferentes de variables (uno puede ser el mejor conjunto que les resultó del práctico anterior)\n",
    "    + Determinar cuales son los parámetros de los algoritmos más importantes y realizar una búsqueda en grilla de los mejores parámetros de los modelos empleandos.\n",
    "    + Elijan un métrica para evaluar el rendimiento de los métodos.\n",
    "    \n",
    "**NOTA**: No olviden realizar la división del dataset en un conjunto de entrenamiento y de test.\n",
    "    \n",
    "   "
   ]
  },
  {
   "cell_type": "markdown",
   "metadata": {},
   "source": [
    "### 05-1. Modelo: RandomForest"
   ]
  },
  {
   "cell_type": "code",
   "execution_count": 49,
   "metadata": {},
   "outputs": [],
   "source": [
    "# Number of trees in random forest\n",
    "#n_estimators = [int(x) for x in np.linspace(start = 200, stop = 2000, num = 10)]\n",
    "n_estimators = [int(x) for x in np.linspace(start = 150, stop = 200, num = 2)]\n",
    "\n",
    "# Number of features to consider at every split\n",
    "max_features = ['auto', 'sqrt']\n",
    "\n",
    "# Maximum number of levels in tree\n",
    "#max_depth = [int(x) for x in np.linspace(10, 110, num = 11)]\n",
    "max_depth = [int(x) for x in np.linspace(10, 50, num = 2)]\n",
    "max_depth.append(None)\n",
    "\n",
    "# Minimum number of samples required to split a node\n",
    "min_samples_split = [2, 5]\n",
    "\n",
    "# Minimum number of samples required at each leaf node\n",
    "min_samples_leaf = [2, 4]\n",
    "\n",
    "# Method of selecting samples for training each tree\n",
    "bootstrap = [True, False]"
   ]
  },
  {
   "cell_type": "code",
   "execution_count": 50,
   "metadata": {},
   "outputs": [],
   "source": [
    "# Create the random grid\n",
    "random_grid = {'n_estimators': n_estimators,\n",
    "               'max_features': max_features,\n",
    "               'max_depth': max_depth,\n",
    "               'min_samples_split': min_samples_split,\n",
    "               'min_samples_leaf': min_samples_leaf,\n",
    "               'bootstrap': bootstrap}"
   ]
  },
  {
   "cell_type": "markdown",
   "metadata": {},
   "source": [
    "### 05-1-A. Set de datos 1 : filter_col_01"
   ]
  },
  {
   "cell_type": "code",
   "execution_count": 51,
   "metadata": {},
   "outputs": [
    {
     "name": "stdout",
     "output_type": "stream",
     "text": [
      "['z', 'velDisp', 'modelMag_u', 'modelMag_g', 'modelMag_r', 'modelMag_i', 'modelMag_z', 'deVRad_u', 'deVRad_g', 'deVRad_r', 'deVRad_i', 'deVRad_z', 'expRad_u', 'expRad_g', 'expRad_r', 'expRad_i', 'expRad_z', 'modelColor_ug', 'modelColor_gr', 'modelColor_ri', 'modelColor_iz']\n"
     ]
    }
   ],
   "source": [
    "# Set de datos 1: \n",
    "print(filter_col_01)"
   ]
  },
  {
   "cell_type": "code",
   "execution_count": 52,
   "metadata": {},
   "outputs": [
    {
     "name": "stdout",
     "output_type": "stream",
     "text": [
      "487136\n",
      "10000\n"
     ]
    }
   ],
   "source": [
    "X, y = data[filter_col_01[1:]], data['z']\n",
    "\n",
    "X_train, X_test, y_train, y_test = train_test_split(X, y, train_size=0.8, random_state=0)\n",
    "\n",
    "print(len(X_train))\n",
    "\n",
    "X_train_reduced = X_train[0:10000]\n",
    "y_train_reduced = y_train[0:10000]\n",
    "\n",
    "print(len(X_train_reduced))"
   ]
  },
  {
   "cell_type": "code",
   "execution_count": 53,
   "metadata": {
    "scrolled": true
   },
   "outputs": [
    {
     "name": "stdout",
     "output_type": "stream",
     "text": [
      "Fitting 5 folds for each of 96 candidates, totalling 480 fits\n"
     ]
    },
    {
     "name": "stderr",
     "output_type": "stream",
     "text": [
      "[Parallel(n_jobs=-1)]: Using backend LokyBackend with 8 concurrent workers.\n",
      "[Parallel(n_jobs=-1)]: Done   2 tasks      | elapsed:   20.5s\n",
      "[Parallel(n_jobs=-1)]: Done   9 tasks      | elapsed:   38.2s\n",
      "[Parallel(n_jobs=-1)]: Done  16 tasks      | elapsed:   51.9s\n",
      "[Parallel(n_jobs=-1)]: Done  25 tasks      | elapsed:  1.3min\n",
      "[Parallel(n_jobs=-1)]: Done  34 tasks      | elapsed:  1.7min\n",
      "[Parallel(n_jobs=-1)]: Done  45 tasks      | elapsed:  1.9min\n",
      "[Parallel(n_jobs=-1)]: Done  56 tasks      | elapsed:  2.0min\n",
      "[Parallel(n_jobs=-1)]: Done  69 tasks      | elapsed:  2.1min\n",
      "[Parallel(n_jobs=-1)]: Done  82 tasks      | elapsed:  2.6min\n",
      "[Parallel(n_jobs=-1)]: Done  97 tasks      | elapsed:  3.4min\n",
      "[Parallel(n_jobs=-1)]: Done 112 tasks      | elapsed:  4.0min\n",
      "[Parallel(n_jobs=-1)]: Done 129 tasks      | elapsed:  4.6min\n",
      "[Parallel(n_jobs=-1)]: Done 146 tasks      | elapsed:  4.8min\n",
      "[Parallel(n_jobs=-1)]: Done 165 tasks      | elapsed:  5.3min\n",
      "[Parallel(n_jobs=-1)]: Done 184 tasks      | elapsed:  6.4min\n",
      "[Parallel(n_jobs=-1)]: Done 205 tasks      | elapsed:  7.2min\n",
      "[Parallel(n_jobs=-1)]: Done 226 tasks      | elapsed:  7.5min\n",
      "[Parallel(n_jobs=-1)]: Done 249 tasks      | elapsed:  8.6min\n",
      "[Parallel(n_jobs=-1)]: Done 272 tasks      | elapsed: 10.0min\n",
      "[Parallel(n_jobs=-1)]: Done 297 tasks      | elapsed: 10.8min\n",
      "[Parallel(n_jobs=-1)]: Done 322 tasks      | elapsed: 11.8min\n",
      "[Parallel(n_jobs=-1)]: Done 349 tasks      | elapsed: 14.8min\n",
      "[Parallel(n_jobs=-1)]: Done 376 tasks      | elapsed: 16.2min\n",
      "[Parallel(n_jobs=-1)]: Done 405 tasks      | elapsed: 17.6min\n",
      "[Parallel(n_jobs=-1)]: Done 434 tasks      | elapsed: 21.0min\n",
      "[Parallel(n_jobs=-1)]: Done 465 tasks      | elapsed: 22.0min\n",
      "[Parallel(n_jobs=-1)]: Done 480 out of 480 | elapsed: 22.4min finished\n"
     ]
    },
    {
     "data": {
      "text/plain": [
       "GridSearchCV(estimator=RandomForestRegressor(), n_jobs=-1,\n",
       "             param_grid={'bootstrap': [True, False],\n",
       "                         'max_depth': [10, 50, None],\n",
       "                         'max_features': ['auto', 'sqrt'],\n",
       "                         'min_samples_leaf': [2, 4],\n",
       "                         'min_samples_split': [2, 5],\n",
       "                         'n_estimators': [150, 200]},\n",
       "             verbose=10)"
      ]
     },
     "execution_count": 53,
     "metadata": {},
     "output_type": "execute_result"
    }
   ],
   "source": [
    "from sklearn.ensemble import RandomForestRegressor\n",
    "\n",
    "model_subset_01 = RandomForestRegressor()\n",
    "\n",
    "rf_random_01 = GridSearchCV(model_subset_01, random_grid, n_jobs=-1 , verbose=10 )\n",
    "\n",
    "rf_random_01.fit(X_train_reduced,y_train_reduced)"
   ]
  },
  {
   "cell_type": "code",
   "execution_count": 54,
   "metadata": {},
   "outputs": [
    {
     "name": "stdout",
     "output_type": "stream",
     "text": [
      "{'bootstrap': True, 'max_depth': None, 'max_features': 'auto', 'min_samples_leaf': 4, 'min_samples_split': 5, 'n_estimators': 150}\n"
     ]
    }
   ],
   "source": [
    "best_params_01= rf_random_01.best_params_\n",
    "print(best_params_01)"
   ]
  },
  {
   "cell_type": "code",
   "execution_count": 55,
   "metadata": {},
   "outputs": [],
   "source": [
    "best_estimator_rf_01 = rf_random_01.best_estimator_"
   ]
  },
  {
   "cell_type": "code",
   "execution_count": 56,
   "metadata": {},
   "outputs": [
    {
     "name": "stdout",
     "output_type": "stream",
     "text": [
      "Train Accuracy:  0.0\n",
      "Test Accuracy:  0.0\n"
     ]
    }
   ],
   "source": [
    "y_train_pred_01 = best_estimator_rf_01.predict(X_train_reduced)\n",
    "y_test_pred_01 = best_estimator_rf_01.predict(X_test)\n",
    "\n",
    "print('Train Accuracy: ', np.sum(y_train_pred_01 == y_train_reduced)/len(y_train_reduced))\n",
    "print('Test Accuracy: ', np.sum(y_test_pred_01 == y_test)/len(y_test))"
   ]
  },
  {
   "cell_type": "code",
   "execution_count": 57,
   "metadata": {},
   "outputs": [],
   "source": [
    "best_estimator_01_fit= best_estimator_rf_01.fit(X_train, y_train)"
   ]
  },
  {
   "cell_type": "code",
   "execution_count": 58,
   "metadata": {},
   "outputs": [
    {
     "name": "stdout",
     "output_type": "stream",
     "text": [
      "Train Accuracy:  0.0\n",
      "Test Accuracy:  4.10559592724884e-05\n"
     ]
    }
   ],
   "source": [
    "y_train_pred_01_fit = best_estimator_01_fit.predict(X_train_reduced)\n",
    "y_test_pred_01_fit = best_estimator_01_fit.predict(X_test)\n",
    "\n",
    "print('Train Accuracy: ', np.sum(y_train_pred_01_fit == y_train_reduced)/len(y_train_reduced))\n",
    "print('Test Accuracy: ', np.sum(y_test_pred_01_fit == y_test)/len(y_test))"
   ]
  },
  {
   "cell_type": "markdown",
   "metadata": {},
   "source": [
    "### 05-1-B. Set de datos 4 : filter_col_04"
   ]
  },
  {
   "cell_type": "code",
   "execution_count": 59,
   "metadata": {},
   "outputs": [
    {
     "name": "stdout",
     "output_type": "stream",
     "text": [
      "['z', 'petroColor_gr', 'modelColor_ri', 'modelColor_gr', 'petroMag_r', 'petroMag_g', 'petroMag_u', 'modelMag_i', 'modelMag_g', 'modelMag_u', 'modelMag_r', 'velDisp']\n"
     ]
    }
   ],
   "source": [
    "# Set de datos 4: \n",
    "print(filter_col_04)"
   ]
  },
  {
   "cell_type": "code",
   "execution_count": 60,
   "metadata": {},
   "outputs": [
    {
     "name": "stdout",
     "output_type": "stream",
     "text": [
      "487136\n",
      "10000\n"
     ]
    }
   ],
   "source": [
    "X, y = data[filter_col_04[1:]], data['z']\n",
    "\n",
    "X_train, X_test, y_train, y_test = train_test_split(X, y, train_size=0.8, random_state=0)\n",
    "\n",
    "print(len(X_train))\n",
    "\n",
    "X_train_reduced = X_train[0:10000]\n",
    "y_train_reduced = y_train[0:10000]\n",
    "\n",
    "print(len(X_train_reduced))"
   ]
  },
  {
   "cell_type": "code",
   "execution_count": 61,
   "metadata": {},
   "outputs": [
    {
     "name": "stdout",
     "output_type": "stream",
     "text": [
      "Fitting 5 folds for each of 96 candidates, totalling 480 fits\n"
     ]
    },
    {
     "name": "stderr",
     "output_type": "stream",
     "text": [
      "[Parallel(n_jobs=-1)]: Using backend LokyBackend with 8 concurrent workers.\n",
      "[Parallel(n_jobs=-1)]: Done   2 tasks      | elapsed:   10.6s\n",
      "[Parallel(n_jobs=-1)]: Done   9 tasks      | elapsed:   20.3s\n",
      "[Parallel(n_jobs=-1)]: Done  16 tasks      | elapsed:   27.7s\n",
      "[Parallel(n_jobs=-1)]: Done  25 tasks      | elapsed:   43.0s\n",
      "[Parallel(n_jobs=-1)]: Done  34 tasks      | elapsed:   55.8s\n",
      "[Parallel(n_jobs=-1)]: Done  45 tasks      | elapsed:  1.0min\n",
      "[Parallel(n_jobs=-1)]: Done  56 tasks      | elapsed:  1.1min\n",
      "[Parallel(n_jobs=-1)]: Done  69 tasks      | elapsed:  1.2min\n",
      "[Parallel(n_jobs=-1)]: Done  82 tasks      | elapsed:  1.5min\n",
      "[Parallel(n_jobs=-1)]: Done  97 tasks      | elapsed:  2.0min\n",
      "[Parallel(n_jobs=-1)]: Done 112 tasks      | elapsed:  2.3min\n",
      "[Parallel(n_jobs=-1)]: Done 129 tasks      | elapsed:  2.6min\n",
      "[Parallel(n_jobs=-1)]: Done 146 tasks      | elapsed:  2.8min\n",
      "[Parallel(n_jobs=-1)]: Done 165 tasks      | elapsed:  3.1min\n",
      "[Parallel(n_jobs=-1)]: Done 184 tasks      | elapsed:  3.7min\n",
      "[Parallel(n_jobs=-1)]: Done 205 tasks      | elapsed:  4.2min\n",
      "[Parallel(n_jobs=-1)]: Done 226 tasks      | elapsed:  4.4min\n",
      "[Parallel(n_jobs=-1)]: Done 249 tasks      | elapsed:  5.0min\n",
      "[Parallel(n_jobs=-1)]: Done 272 tasks      | elapsed:  5.7min\n",
      "[Parallel(n_jobs=-1)]: Done 297 tasks      | elapsed:  6.2min\n",
      "[Parallel(n_jobs=-1)]: Done 322 tasks      | elapsed:  6.8min\n",
      "[Parallel(n_jobs=-1)]: Done 349 tasks      | elapsed:  8.1min\n",
      "[Parallel(n_jobs=-1)]: Done 376 tasks      | elapsed:  8.7min\n",
      "[Parallel(n_jobs=-1)]: Done 405 tasks      | elapsed:  9.4min\n",
      "[Parallel(n_jobs=-1)]: Done 434 tasks      | elapsed: 10.9min\n",
      "[Parallel(n_jobs=-1)]: Done 465 tasks      | elapsed: 11.4min\n",
      "[Parallel(n_jobs=-1)]: Done 480 out of 480 | elapsed: 11.6min finished\n"
     ]
    },
    {
     "data": {
      "text/plain": [
       "GridSearchCV(estimator=RandomForestRegressor(), n_jobs=-1,\n",
       "             param_grid={'bootstrap': [True, False],\n",
       "                         'max_depth': [10, 50, None],\n",
       "                         'max_features': ['auto', 'sqrt'],\n",
       "                         'min_samples_leaf': [2, 4],\n",
       "                         'min_samples_split': [2, 5],\n",
       "                         'n_estimators': [150, 200]},\n",
       "             verbose=10)"
      ]
     },
     "execution_count": 61,
     "metadata": {},
     "output_type": "execute_result"
    }
   ],
   "source": [
    "model_subset_04 = RandomForestRegressor()\n",
    "\n",
    "rf_random_04 = GridSearchCV(model_subset_04, random_grid, n_jobs=-1 , verbose=10 )\n",
    "\n",
    "rf_random_04.fit(X_train_reduced,y_train_reduced)"
   ]
  },
  {
   "cell_type": "code",
   "execution_count": 62,
   "metadata": {},
   "outputs": [
    {
     "name": "stdout",
     "output_type": "stream",
     "text": [
      "{'bootstrap': True, 'max_depth': None, 'max_features': 'auto', 'min_samples_leaf': 4, 'min_samples_split': 2, 'n_estimators': 200}\n"
     ]
    }
   ],
   "source": [
    "best_params_04= rf_random_04.best_params_\n",
    "print(best_params_04)"
   ]
  },
  {
   "cell_type": "code",
   "execution_count": 63,
   "metadata": {},
   "outputs": [],
   "source": [
    "best_estimator_rf_04 = rf_random_04.best_estimator_"
   ]
  },
  {
   "cell_type": "code",
   "execution_count": 64,
   "metadata": {},
   "outputs": [
    {
     "name": "stdout",
     "output_type": "stream",
     "text": [
      "Train Accuracy:  0.0\n",
      "Test Accuracy:  0.0\n"
     ]
    }
   ],
   "source": [
    "y_train_pred_04 = best_estimator_rf_04.predict(X_train_reduced)\n",
    "y_test_pred_04 = best_estimator_rf_04.predict(X_test)\n",
    "\n",
    "print('Train Accuracy: ', np.sum(y_train_pred_04 == y_train_reduced)/len(y_train_reduced))\n",
    "print('Test Accuracy: ', np.sum(y_test_pred_04 == y_test)/len(y_test))"
   ]
  },
  {
   "cell_type": "code",
   "execution_count": 65,
   "metadata": {},
   "outputs": [],
   "source": [
    "best_estimator_04_fit= best_estimator_rf_04.fit(X_train, y_train)"
   ]
  },
  {
   "cell_type": "code",
   "execution_count": 66,
   "metadata": {},
   "outputs": [
    {
     "name": "stdout",
     "output_type": "stream",
     "text": [
      "Train Accuracy:  0.0\n",
      "Test Accuracy:  8.21119185449768e-06\n"
     ]
    }
   ],
   "source": [
    "y_train_pred_04_fit = best_estimator_04_fit.predict(X_train_reduced)\n",
    "y_test_pred_04_fit = best_estimator_04_fit.predict(X_test)\n",
    "\n",
    "print('Train Accuracy: ', np.sum(y_train_pred_04_fit == y_train_reduced)/len(y_train_reduced))\n",
    "print('Test Accuracy: ', np.sum(y_test_pred_04_fit == y_test)/len(y_test))"
   ]
  },
  {
   "cell_type": "markdown",
   "metadata": {},
   "source": [
    "### 05-2. Modelo: Red neuronal"
   ]
  },
  {
   "cell_type": "code",
   "execution_count": 15,
   "metadata": {},
   "outputs": [],
   "source": [
    "mlp = MLPRegressor(max_iter=100)\n",
    "\n",
    "parameter_space = {\n",
    "    'hidden_layer_sizes': [(50,50,50), (50,100,50), (100,)],\n",
    "    'activation': ['tanh', 'relu'],\n",
    "    'solver': ['sgd', 'adam'],\n",
    "    'alpha': [0.0001, 0.05],\n",
    "    'learning_rate': ['constant','adaptive'],\n",
    "}"
   ]
  },
  {
   "cell_type": "markdown",
   "metadata": {},
   "source": [
    "### 05-2-A. Set de datos 1 : filter_col_01"
   ]
  },
  {
   "cell_type": "code",
   "execution_count": 20,
   "metadata": {},
   "outputs": [
    {
     "name": "stdout",
     "output_type": "stream",
     "text": [
      "10400\n"
     ]
    }
   ],
   "source": [
    "#X, y = data[filter_col_01[1:]], data['z']\n",
    "\n",
    "#X_train, X_test, y_train, y_test = train_test_split(X, y, train_size=0.8, random_state=0)\n",
    "\n",
    "#print(len(X_train))\n",
    "\n",
    "#X_train_reduced = X_train[0:10000]\n",
    "#y_train_reduced = y_train[0:10000]\n",
    "\n",
    "X, y = data[filter_col_01[1:]][0:13000], data['z'][0:13000]\n",
    "X_train, X_test, y_train, y_test = train_test_split(X, y, train_size=0.8, random_state=0)\n",
    "\n",
    "scaler = MinMaxScaler()\n",
    "\n",
    "X_train_scaled = scaler.fit_transform(X_train)\n",
    "X_test_scaled  = scaler.transform(X_test)\n",
    "print(len(X_train_scaled))"
   ]
  },
  {
   "cell_type": "code",
   "execution_count": 21,
   "metadata": {},
   "outputs": [
    {
     "name": "stdout",
     "output_type": "stream",
     "text": [
      "Fitting 3 folds for each of 48 candidates, totalling 144 fits\n"
     ]
    },
    {
     "name": "stderr",
     "output_type": "stream",
     "text": [
      "[Parallel(n_jobs=-1)]: Using backend LokyBackend with 4 concurrent workers.\n",
      "[Parallel(n_jobs=-1)]: Done   5 tasks      | elapsed:    6.9s\n",
      "[Parallel(n_jobs=-1)]: Done  10 tasks      | elapsed:   22.8s\n",
      "[Parallel(n_jobs=-1)]: Done  17 tasks      | elapsed:   30.8s\n",
      "[Parallel(n_jobs=-1)]: Done  24 tasks      | elapsed:   53.6s\n",
      "[Parallel(n_jobs=-1)]: Done  33 tasks      | elapsed:  1.1min\n",
      "[Parallel(n_jobs=-1)]: Done  42 tasks      | elapsed:  1.5min\n",
      "[Parallel(n_jobs=-1)]: Done  53 tasks      | elapsed:  2.3min\n",
      "[Parallel(n_jobs=-1)]: Done  64 tasks      | elapsed:  3.1min\n",
      "[Parallel(n_jobs=-1)]: Done  77 tasks      | elapsed:  3.4min\n",
      "[Parallel(n_jobs=-1)]: Done  90 tasks      | elapsed:  3.8min\n",
      "[Parallel(n_jobs=-1)]: Done 105 tasks      | elapsed:  4.3min\n",
      "[Parallel(n_jobs=-1)]: Done 120 tasks      | elapsed:  4.7min\n",
      "[Parallel(n_jobs=-1)]: Done 137 tasks      | elapsed:  5.3min\n",
      "[Parallel(n_jobs=-1)]: Done 144 out of 144 | elapsed:  5.5min finished\n"
     ]
    },
    {
     "data": {
      "text/plain": [
       "GridSearchCV(cv=3, estimator=MLPRegressor(max_iter=100), n_jobs=-1,\n",
       "             param_grid={'activation': ['tanh', 'relu'],\n",
       "                         'alpha': [0.0001, 0.05],\n",
       "                         'hidden_layer_sizes': [(50, 50, 50), (50, 100, 50),\n",
       "                                                (100,)],\n",
       "                         'learning_rate': ['constant', 'adaptive'],\n",
       "                         'solver': ['sgd', 'adam']},\n",
       "             verbose=10)"
      ]
     },
     "execution_count": 21,
     "metadata": {},
     "output_type": "execute_result"
    }
   ],
   "source": [
    "clf_01 = GridSearchCV(mlp, parameter_space, n_jobs=-1, cv=3, verbose=10)\n",
    "clf_01.fit(X_train_scaled, y_train)"
   ]
  },
  {
   "cell_type": "code",
   "execution_count": 25,
   "metadata": {},
   "outputs": [
    {
     "name": "stdout",
     "output_type": "stream",
     "text": [
      "{'activation': 'relu', 'alpha': 0.0001, 'hidden_layer_sizes': (50, 100, 50), 'learning_rate': 'constant', 'solver': 'adam'}\n"
     ]
    }
   ],
   "source": [
    "print(clf_01.best_params_)"
   ]
  },
  {
   "cell_type": "code",
   "execution_count": 26,
   "metadata": {},
   "outputs": [
    {
     "name": "stdout",
     "output_type": "stream",
     "text": [
      "Train Accuracy:  0.0\n",
      "Test Accuracy:  0.0\n"
     ]
    }
   ],
   "source": [
    "best_random_mlpc_01 = clf_01.best_estimator_\n",
    "\n",
    "y_train_pred_01 = best_random_mlpc_01.predict(X_train_scaled)\n",
    "\n",
    "y_test_pred_01 = best_random_mlpc_01.predict(X_test_scaled)\n",
    "\n",
    "print('Train Accuracy: ', np.sum(y_train_pred_01 == y_train)/len(y_train))\n",
    "print('Test Accuracy: ', np.sum(y_test_pred_01 == y_test)/len(y_test))"
   ]
  },
  {
   "cell_type": "code",
   "execution_count": 27,
   "metadata": {},
   "outputs": [
    {
     "data": {
      "text/plain": [
       "MLPRegressor(hidden_layer_sizes=(50, 100, 50), max_iter=100)"
      ]
     },
     "execution_count": 27,
     "metadata": {},
     "output_type": "execute_result"
    }
   ],
   "source": [
    "best_random_mlpc_01.fit(X_train_scaled, y_train)"
   ]
  },
  {
   "cell_type": "code",
   "execution_count": 28,
   "metadata": {
    "scrolled": true
   },
   "outputs": [
    {
     "name": "stdout",
     "output_type": "stream",
     "text": [
      "Train Accuracy:  0.0\n",
      "Test Accuracy:  0.0\n"
     ]
    }
   ],
   "source": [
    "y_train_pred_01_fit = best_random_mlpc_01.predict(X_train_scaled)\n",
    "y_test_pred_01_fit = best_random_mlpc_01.predict(X_test_scaled)\n",
    "\n",
    "print('Train Accuracy: ', np.sum(y_train_pred_01_fit == y_train)/len(y_train))\n",
    "print('Test Accuracy: ', np.sum(y_test_pred_01_fit == y_test)/len(y_test))"
   ]
  },
  {
   "cell_type": "code",
   "execution_count": 39,
   "metadata": {},
   "outputs": [],
   "source": [
    "#def rmsle(y_pred, y_test) : \n",
    "    #clip zero values\n",
    "#    assert len(y_test) == len(y_pred)\n",
    "#    return np.sqrt(np.mean((np.log(list(np.asarray(y_pred).clip(min=0) + 1)) \n",
    "#                            - np.log(list(np.asarray(y_test).clip(min=0) + 1)))**2))"
   ]
  },
  {
   "cell_type": "code",
   "execution_count": 40,
   "metadata": {},
   "outputs": [
    {
     "name": "stdout",
     "output_type": "stream",
     "text": [
      "0.02676353865703673\n"
     ]
    }
   ],
   "source": [
    "#print(rmsle(y_test_pred_01_fit, y_test))"
   ]
  },
  {
   "cell_type": "code",
   "execution_count": 48,
   "metadata": {},
   "outputs": [
    {
     "data": {
      "text/plain": [
       "<matplotlib.legend.Legend at 0x7f250c6b07f0>"
      ]
     },
     "execution_count": 48,
     "metadata": {},
     "output_type": "execute_result"
    },
    {
     "data": {
      "image/png": "[encoded data removed]",
      "text/plain": [
       "<Figure size 720x648 with 1 Axes>"
      ]
     },
     "metadata": {
      "needs_background": "light"
     },
     "output_type": "display_data"
    }
   ],
   "source": [
    "f, ax = plt.subplots(nrows=1, ncols=1,figsize=(10,9))\n",
    "ax.plot(y_train, y_train_pred_01_fit, 'b.', label='Train')\n",
    "\n",
    "ax.plot(y_test, y_test_pred_01_fit, 'r.', label='Test')\n",
    "ax.plot([0,0.25], [0,0.25], 'k-')\n",
    "ax.set_xlabel('Y_test', fontsize=17)\n",
    "ax.set_ylabel('Y_pred', fontsize=17)\n",
    "ax.tick_params(axis='both',  labelsize=17)\n",
    "ax.legend(fontsize=15)"
   ]
  },
  {
   "cell_type": "markdown",
   "metadata": {},
   "source": [
    "### 05-2-B. Set de datos 4 : filter_col_04"
   ]
  },
  {
   "cell_type": "code",
   "execution_count": 30,
   "metadata": {},
   "outputs": [
    {
     "name": "stdout",
     "output_type": "stream",
     "text": [
      "10400\n"
     ]
    }
   ],
   "source": [
    "#X, y = data[filter_col_04[1:]], data['z']\n",
    "\n",
    "#X_train, X_test, y_train, y_test = train_test_split(X, y, train_size=0.8, random_state=0)\n",
    "\n",
    "#print(len(X_train))\n",
    "\n",
    "#X_train_reduced = X_train[0:10000]\n",
    "#y_train_reduced = y_train[0:10000]\n",
    "\n",
    "#print(len(X_train_reduced))\n",
    "\n",
    "X, y = data[filter_col_04[1:]][0:13000], data['z'][0:13000]\n",
    "X_train, X_test, y_train, y_test = train_test_split(X, y, train_size=0.8, random_state=0)\n",
    "\n",
    "scaler = MinMaxScaler()\n",
    "\n",
    "X_train_scaled = scaler.fit_transform(X_train)\n",
    "X_test_scaled  = scaler.transform(X_test)\n",
    "print(len(X_train_scaled))"
   ]
  },
  {
   "cell_type": "code",
   "execution_count": 31,
   "metadata": {},
   "outputs": [
    {
     "name": "stdout",
     "output_type": "stream",
     "text": [
      "Fitting 3 folds for each of 48 candidates, totalling 144 fits\n"
     ]
    },
    {
     "name": "stderr",
     "output_type": "stream",
     "text": [
      "[Parallel(n_jobs=-1)]: Using backend LokyBackend with 4 concurrent workers.\n",
      "[Parallel(n_jobs=-1)]: Done   5 tasks      | elapsed:   16.8s\n",
      "[Parallel(n_jobs=-1)]: Done  10 tasks      | elapsed:   30.9s\n",
      "[Parallel(n_jobs=-1)]: Done  17 tasks      | elapsed:   39.1s\n",
      "[Parallel(n_jobs=-1)]: Done  24 tasks      | elapsed:  1.1min\n",
      "[Parallel(n_jobs=-1)]: Done  33 tasks      | elapsed:  1.3min\n",
      "[Parallel(n_jobs=-1)]: Done  42 tasks      | elapsed:  1.6min\n",
      "[Parallel(n_jobs=-1)]: Done  53 tasks      | elapsed:  2.5min\n",
      "[Parallel(n_jobs=-1)]: Done  64 tasks      | elapsed:  3.1min\n",
      "[Parallel(n_jobs=-1)]: Done  77 tasks      | elapsed:  3.4min\n",
      "[Parallel(n_jobs=-1)]: Done  90 tasks      | elapsed:  3.8min\n",
      "[Parallel(n_jobs=-1)]: Done 105 tasks      | elapsed:  4.2min\n",
      "[Parallel(n_jobs=-1)]: Done 120 tasks      | elapsed:  4.6min\n",
      "[Parallel(n_jobs=-1)]: Done 137 tasks      | elapsed:  5.2min\n",
      "[Parallel(n_jobs=-1)]: Done 144 out of 144 | elapsed:  5.3min finished\n"
     ]
    },
    {
     "data": {
      "text/plain": [
       "GridSearchCV(cv=3, estimator=MLPRegressor(max_iter=100), n_jobs=-1,\n",
       "             param_grid={'activation': ['tanh', 'relu'],\n",
       "                         'alpha': [0.0001, 0.05],\n",
       "                         'hidden_layer_sizes': [(50, 50, 50), (50, 100, 50),\n",
       "                                                (100,)],\n",
       "                         'learning_rate': ['constant', 'adaptive'],\n",
       "                         'solver': ['sgd', 'adam']},\n",
       "             verbose=10)"
      ]
     },
     "execution_count": 31,
     "metadata": {},
     "output_type": "execute_result"
    }
   ],
   "source": [
    "clf_04 = GridSearchCV(mlp, parameter_space, n_jobs=-1, cv=3, verbose=10)\n",
    "clf_04.fit(X_train_scaled, y_train)"
   ]
  },
  {
   "cell_type": "code",
   "execution_count": 32,
   "metadata": {},
   "outputs": [
    {
     "name": "stdout",
     "output_type": "stream",
     "text": [
      "{'activation': 'relu', 'alpha': 0.0001, 'hidden_layer_sizes': (50, 100, 50), 'learning_rate': 'constant', 'solver': 'adam'}\n"
     ]
    }
   ],
   "source": [
    "print(clf_04.best_params_)"
   ]
  },
  {
   "cell_type": "code",
   "execution_count": 34,
   "metadata": {},
   "outputs": [
    {
     "name": "stdout",
     "output_type": "stream",
     "text": [
      "Train Accuracy:  0.0\n",
      "Test Accuracy:  0.0\n"
     ]
    }
   ],
   "source": [
    "best_random_mlpc_04 = clf_04.best_estimator_\n",
    "y_train_pred_04 = best_random_mlpc_04.predict(X_train_scaled)\n",
    "y_test_pred_04 = best_random_mlpc_04.predict(X_test_scaled)\n",
    "\n",
    "print('Train Accuracy: ', np.sum(y_train_pred_04 == y_train)/len(y_train))\n",
    "print('Test Accuracy: ', np.sum(y_test_pred_04 == y_test)/len(y_test))"
   ]
  },
  {
   "cell_type": "code",
   "execution_count": 35,
   "metadata": {},
   "outputs": [
    {
     "data": {
      "text/plain": [
       "MLPRegressor(hidden_layer_sizes=(50, 100, 50), max_iter=100)"
      ]
     },
     "execution_count": 35,
     "metadata": {},
     "output_type": "execute_result"
    }
   ],
   "source": [
    "best_random_mlpc_04.fit(X_train_scaled, y_train)"
   ]
  },
  {
   "cell_type": "code",
   "execution_count": 36,
   "metadata": {},
   "outputs": [
    {
     "name": "stdout",
     "output_type": "stream",
     "text": [
      "Train Accuracy:  0.0\n",
      "Test Accuracy:  0.0\n"
     ]
    }
   ],
   "source": [
    "y_train_pred_04_fit = best_random_mlpc_04.predict(X_train_scaled)\n",
    "y_test_pred_04_fit = best_random_mlpc_04.predict(X_test_scaled)\n",
    "\n",
    "print('Train Accuracy: ', np.sum(y_train_pred_04_fit == y_train)/len(y_train))\n",
    "print('Test Accuracy: ', np.sum(y_test_pred_04_fit == y_test)/len(y_test))"
   ]
  },
  {
   "cell_type": "code",
   "execution_count": 41,
   "metadata": {},
   "outputs": [
    {
     "name": "stdout",
     "output_type": "stream",
     "text": [
      "0.026039906232452736\n"
     ]
    }
   ],
   "source": [
    "#print(rmsle(y_test_pred_04_fit, y_test))"
   ]
  },
  {
   "cell_type": "code",
   "execution_count": 50,
   "metadata": {},
   "outputs": [
    {
     "data": {
      "text/plain": [
       "<matplotlib.legend.Legend at 0x7f250c597198>"
      ]
     },
     "execution_count": 50,
     "metadata": {},
     "output_type": "execute_result"
    },
    {
     "data": {
      "image/png": "[encoded data removed]",
      "text/plain": [
       "<Figure size 720x648 with 1 Axes>"
      ]
     },
     "metadata": {
      "needs_background": "light"
     },
     "output_type": "display_data"
    }
   ],
   "source": [
    "f, ax = plt.subplots(nrows=1, ncols=1,figsize=(10,9))\n",
    "ax.plot(y_train, y_train_pred_04_fit, 'b.', label='Train')\n",
    "\n",
    "ax.plot(y_test, y_test_pred_04_fit, 'r.', label='Test')\n",
    "ax.plot([0,0.25], [0,0.25], 'k-')\n",
    "ax.set_xlabel('Y_test', fontsize=17)\n",
    "ax.set_ylabel('Y_pred', fontsize=17)\n",
    "ax.tick_params(axis='both',  labelsize=17)\n",
    "ax.legend(fontsize=15)"
   ]
  },
  {
   "cell_type": "markdown",
   "metadata": {},
   "source": [
    "## **NOTAS:** \n",
    "#### Modelos implementados con una búsqueda en grilla, para determinar el redshift de las galaxias a partir de las propiedades fotométricas.\n",
    "\n",
    "* **RF Tree**\n",
    "    + subset_01: Test accuracy: 4.10559592724884e-05\n",
    "    + subset_04: Test accuracy: 8.21119185449768e-06\n",
    "+ **MLPC**\n",
    "    + subset_01:  Test accuracy: \n",
    "    + subset_04:  Test accuracy: \n",
    "        \n",
    "CONCLUSIONES    \n",
    "* Los mejores resultados se observan para el modelo _______ con el subset_"
   ]
  }
 ],
 "metadata": {
  "kernelspec": {
   "display_name": "Python 3",
   "language": "python",
   "name": "python3"
  },
  "language_info": {
   "codemirror_mode": {
    "name": "ipython",
    "version": 3
   },
   "file_extension": ".py",
   "mimetype": "text/x-python",
   "name": "python",
   "nbconvert_exporter": "python",
   "pygments_lexer": "ipython3",
   "version": "3.6.10"
  }
 },
 "nbformat": 4,
 "nbformat_minor": 4
}
