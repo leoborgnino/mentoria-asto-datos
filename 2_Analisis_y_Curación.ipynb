{
 "cells": [
  {
   "cell_type": "markdown",
   "metadata": {},
   "source": [
    "# Mapeando el Universo\n",
    "\n"
   ]
  },
  {
   "cell_type": "markdown",
   "metadata": {},
   "source": [
    "## Análisis y Curación"
   ]
  },
  {
   "cell_type": "markdown",
   "metadata": {},
   "source": [
    "### Lectura de datos"
   ]
  },
  {
   "cell_type": "code",
   "execution_count": 1,
   "metadata": {},
   "outputs": [
    {
     "data": {
      "application/javascript": [
       "IPython.OutputArea.prototype._should_scroll = function(lines) {\n",
       "    return false;\n",
       "}\n"
      ],
      "text/plain": [
       "<IPython.core.display.Javascript object>"
      ]
     },
     "metadata": {},
     "output_type": "display_data"
    }
   ],
   "source": [
    "%%javascript\n",
    "IPython.OutputArea.prototype._should_scroll = function(lines) {\n",
    "    return false;\n",
    "}"
   ]
  },
  {
   "cell_type": "code",
   "execution_count": 2,
   "metadata": {},
   "outputs": [],
   "source": [
    "import warnings\n",
    "warnings.filterwarnings('ignore')"
   ]
  },
  {
   "cell_type": "code",
   "execution_count": 3,
   "metadata": {},
   "outputs": [],
   "source": [
    "import pandas as pd # data processing\n",
    "import numpy as np # linear algebra\n",
    "import matplotlib.pyplot as plt\n",
    "import seaborn"
   ]
  },
  {
   "cell_type": "code",
   "execution_count": 4,
   "metadata": {},
   "outputs": [],
   "source": [
    "filename = \"dataset/DiploDatos.csv\""
   ]
  },
  {
   "cell_type": "code",
   "execution_count": 5,
   "metadata": {},
   "outputs": [],
   "source": [
    "df = pd.read_csv(filename,index_col=0)"
   ]
  },
  {
   "cell_type": "markdown",
   "metadata": {},
   "source": [
    "### Uniendo dataframes\n",
    "\n",
    "* Vamos a unir la tabla anterior con otra donde para algunas de las galaxias la gente a votado si se corresponde con una galaxia espiral, eliptica o irregular."
   ]
  },
  {
   "cell_type": "code",
   "execution_count": 6,
   "metadata": {},
   "outputs": [],
   "source": [
    "filename = 'dataset/DiploDatos_Zoo.csv'"
   ]
  },
  {
   "cell_type": "code",
   "execution_count": 7,
   "metadata": {},
   "outputs": [],
   "source": [
    "zoo = pd.read_csv(filename,index_col=0)"
   ]
  },
  {
   "cell_type": "code",
   "execution_count": 8,
   "metadata": {},
   "outputs": [],
   "source": [
    "dd = df.join(zoo)"
   ]
  },
  {
   "cell_type": "code",
   "execution_count": 9,
   "metadata": {},
   "outputs": [
    {
     "data": {
      "text/html": [
       "<div>\n",
       "<style>\n",
       "    .dataframe thead tr:only-child th {\n",
       "        text-align: right;\n",
       "    }\n",
       "\n",
       "    .dataframe thead th {\n",
       "        text-align: left;\n",
       "    }\n",
       "\n",
       "    .dataframe tbody tr th {\n",
       "        vertical-align: top;\n",
       "    }\n",
       "</style>\n",
       "<table border=\"1\" class=\"dataframe\">\n",
       "  <thead>\n",
       "    <tr style=\"text-align: right;\">\n",
       "      <th></th>\n",
       "      <th>z</th>\n",
       "      <th>zErr</th>\n",
       "      <th>zWarning</th>\n",
       "      <th>subClass</th>\n",
       "      <th>velDisp</th>\n",
       "      <th>velDispErr</th>\n",
       "      <th>ra</th>\n",
       "      <th>dec</th>\n",
       "      <th>raErr</th>\n",
       "      <th>decErr</th>\n",
       "      <th>...</th>\n",
       "      <th>expPhi_i</th>\n",
       "      <th>expPhi_z</th>\n",
       "      <th>extinction_u</th>\n",
       "      <th>extinction_g</th>\n",
       "      <th>extinction_r</th>\n",
       "      <th>extinction_i</th>\n",
       "      <th>extinction_z</th>\n",
       "      <th>spiral</th>\n",
       "      <th>elliptical</th>\n",
       "      <th>uncertain</th>\n",
       "    </tr>\n",
       "    <tr>\n",
       "      <th>specObjID</th>\n",
       "      <th></th>\n",
       "      <th></th>\n",
       "      <th></th>\n",
       "      <th></th>\n",
       "      <th></th>\n",
       "      <th></th>\n",
       "      <th></th>\n",
       "      <th></th>\n",
       "      <th></th>\n",
       "      <th></th>\n",
       "      <th></th>\n",
       "      <th></th>\n",
       "      <th></th>\n",
       "      <th></th>\n",
       "      <th></th>\n",
       "      <th></th>\n",
       "      <th></th>\n",
       "      <th></th>\n",
       "      <th></th>\n",
       "      <th></th>\n",
       "      <th></th>\n",
       "    </tr>\n",
       "  </thead>\n",
       "  <tbody>\n",
       "    <tr>\n",
       "      <th>957075158303008768</th>\n",
       "      <td>0.012095</td>\n",
       "      <td>0.000006</td>\n",
       "      <td>0</td>\n",
       "      <td>STARBURST</td>\n",
       "      <td>60.39996</td>\n",
       "      <td>30.544140</td>\n",
       "      <td>197.448850</td>\n",
       "      <td>4.249896</td>\n",
       "      <td>0.011085</td>\n",
       "      <td>0.011415</td>\n",
       "      <td>...</td>\n",
       "      <td>139.46250</td>\n",
       "      <td>137.47360</td>\n",
       "      <td>0.127639</td>\n",
       "      <td>0.099456</td>\n",
       "      <td>0.068803</td>\n",
       "      <td>0.051128</td>\n",
       "      <td>0.038030</td>\n",
       "      <td>0.0</td>\n",
       "      <td>0.0</td>\n",
       "      <td>1.0</td>\n",
       "    </tr>\n",
       "    <tr>\n",
       "      <th>957066087332079616</th>\n",
       "      <td>0.141718</td>\n",
       "      <td>0.000031</td>\n",
       "      <td>0</td>\n",
       "      <td>null</td>\n",
       "      <td>217.80020</td>\n",
       "      <td>12.076850</td>\n",
       "      <td>197.458925</td>\n",
       "      <td>4.451149</td>\n",
       "      <td>0.009319</td>\n",
       "      <td>0.007280</td>\n",
       "      <td>...</td>\n",
       "      <td>71.49205</td>\n",
       "      <td>72.21062</td>\n",
       "      <td>0.127611</td>\n",
       "      <td>0.099434</td>\n",
       "      <td>0.068788</td>\n",
       "      <td>0.051117</td>\n",
       "      <td>0.038022</td>\n",
       "      <td>0.0</td>\n",
       "      <td>0.0</td>\n",
       "      <td>1.0</td>\n",
       "    </tr>\n",
       "    <tr>\n",
       "      <th>957065537576265728</th>\n",
       "      <td>0.140137</td>\n",
       "      <td>0.000023</td>\n",
       "      <td>0</td>\n",
       "      <td>null</td>\n",
       "      <td>138.90830</td>\n",
       "      <td>13.126220</td>\n",
       "      <td>197.473340</td>\n",
       "      <td>4.417710</td>\n",
       "      <td>0.007592</td>\n",
       "      <td>0.008524</td>\n",
       "      <td>...</td>\n",
       "      <td>24.82063</td>\n",
       "      <td>24.60648</td>\n",
       "      <td>0.128181</td>\n",
       "      <td>0.099878</td>\n",
       "      <td>0.069095</td>\n",
       "      <td>0.051345</td>\n",
       "      <td>0.038191</td>\n",
       "      <td>1.0</td>\n",
       "      <td>0.0</td>\n",
       "      <td>0.0</td>\n",
       "    </tr>\n",
       "    <tr>\n",
       "      <th>957066911965800448</th>\n",
       "      <td>0.066672</td>\n",
       "      <td>0.000016</td>\n",
       "      <td>0</td>\n",
       "      <td>null</td>\n",
       "      <td>241.28300</td>\n",
       "      <td>7.109093</td>\n",
       "      <td>197.583262</td>\n",
       "      <td>4.300230</td>\n",
       "      <td>0.003696</td>\n",
       "      <td>0.003337</td>\n",
       "      <td>...</td>\n",
       "      <td>76.89522</td>\n",
       "      <td>78.38448</td>\n",
       "      <td>0.133984</td>\n",
       "      <td>0.104400</td>\n",
       "      <td>0.072223</td>\n",
       "      <td>0.053670</td>\n",
       "      <td>0.039920</td>\n",
       "      <td>0.0</td>\n",
       "      <td>1.0</td>\n",
       "      <td>0.0</td>\n",
       "    </tr>\n",
       "    <tr>\n",
       "      <th>957067186843707392</th>\n",
       "      <td>0.183667</td>\n",
       "      <td>0.000007</td>\n",
       "      <td>0</td>\n",
       "      <td>STARFORMING</td>\n",
       "      <td>118.87630</td>\n",
       "      <td>22.979400</td>\n",
       "      <td>197.601252</td>\n",
       "      <td>4.397977</td>\n",
       "      <td>0.023678</td>\n",
       "      <td>0.015545</td>\n",
       "      <td>...</td>\n",
       "      <td>96.26978</td>\n",
       "      <td>95.24163</td>\n",
       "      <td>0.129051</td>\n",
       "      <td>0.100555</td>\n",
       "      <td>0.069564</td>\n",
       "      <td>0.051693</td>\n",
       "      <td>0.038450</td>\n",
       "      <td>NaN</td>\n",
       "      <td>NaN</td>\n",
       "      <td>NaN</td>\n",
       "    </tr>\n",
       "  </tbody>\n",
       "</table>\n",
       "<p>5 rows × 118 columns</p>\n",
       "</div>"
      ],
      "text/plain": [
       "                           z      zErr  zWarning     subClass    velDisp  \\\n",
       "specObjID                                                                  \n",
       "957075158303008768  0.012095  0.000006         0    STARBURST   60.39996   \n",
       "957066087332079616  0.141718  0.000031         0         null  217.80020   \n",
       "957065537576265728  0.140137  0.000023         0         null  138.90830   \n",
       "957066911965800448  0.066672  0.000016         0         null  241.28300   \n",
       "957067186843707392  0.183667  0.000007         0  STARFORMING  118.87630   \n",
       "\n",
       "                    velDispErr          ra       dec     raErr    decErr  \\\n",
       "specObjID                                                                  \n",
       "957075158303008768   30.544140  197.448850  4.249896  0.011085  0.011415   \n",
       "957066087332079616   12.076850  197.458925  4.451149  0.009319  0.007280   \n",
       "957065537576265728   13.126220  197.473340  4.417710  0.007592  0.008524   \n",
       "957066911965800448    7.109093  197.583262  4.300230  0.003696  0.003337   \n",
       "957067186843707392   22.979400  197.601252  4.397977  0.023678  0.015545   \n",
       "\n",
       "                      ...       expPhi_i   expPhi_z  extinction_u  \\\n",
       "specObjID             ...                                           \n",
       "957075158303008768    ...      139.46250  137.47360      0.127639   \n",
       "957066087332079616    ...       71.49205   72.21062      0.127611   \n",
       "957065537576265728    ...       24.82063   24.60648      0.128181   \n",
       "957066911965800448    ...       76.89522   78.38448      0.133984   \n",
       "957067186843707392    ...       96.26978   95.24163      0.129051   \n",
       "\n",
       "                    extinction_g  extinction_r  extinction_i  extinction_z  \\\n",
       "specObjID                                                                    \n",
       "957075158303008768      0.099456      0.068803      0.051128      0.038030   \n",
       "957066087332079616      0.099434      0.068788      0.051117      0.038022   \n",
       "957065537576265728      0.099878      0.069095      0.051345      0.038191   \n",
       "957066911965800448      0.104400      0.072223      0.053670      0.039920   \n",
       "957067186843707392      0.100555      0.069564      0.051693      0.038450   \n",
       "\n",
       "                    spiral  elliptical  uncertain  \n",
       "specObjID                                          \n",
       "957075158303008768     0.0         0.0        1.0  \n",
       "957066087332079616     0.0         0.0        1.0  \n",
       "957065537576265728     1.0         0.0        0.0  \n",
       "957066911965800448     0.0         1.0        0.0  \n",
       "957067186843707392     NaN         NaN        NaN  \n",
       "\n",
       "[5 rows x 118 columns]"
      ]
     },
     "execution_count": 9,
     "metadata": {},
     "output_type": "execute_result"
    }
   ],
   "source": [
    "dd[:5]"
   ]
  },
  {
   "cell_type": "markdown",
   "metadata": {},
   "source": [
    "-----------------------------------------------------"
   ]
  },
  {
   "cell_type": "markdown",
   "metadata": {},
   "source": [
    "# **Resolución Punto 1 - Análisis general**\n",
    " \n",
    "### **1.1)** Describir el conjunto de datos."
   ]
  },
  {
   "cell_type": "code",
   "execution_count": 10,
   "metadata": {},
   "outputs": [],
   "source": [
    "# Seleccionamos 33 variables con las que vamos a trabajar\n",
    "\n",
    "important_cols = ['z', 'velDisp', 'ra', 'dec', 'subClass',\n",
    "                  'modelMag_u', 'modelMag_g','modelMag_r','modelMag_i', 'modelMag_z', \n",
    "                  'petroMag_u', 'petroMag_g', 'petroMag_r', 'petroMag_i', 'petroMag_z',\n",
    "                  'deVRad_u', 'deVRad_g', 'deVRad_r', 'deVRad_i', 'deVRad_z',\n",
    "                  'expRad_u', 'expRad_g', 'expRad_r', 'expRad_i', 'expRad_z',\n",
    "                  'petroRad_u','petroRad_g','petroRad_r','petroRad_i','petroRad_z',\n",
    "                  'spiral', 'elliptical', 'uncertain',]"
   ]
  },
  {
   "cell_type": "code",
   "execution_count": 11,
   "metadata": {},
   "outputs": [],
   "source": [
    "data= dd[important_cols]"
   ]
  },
  {
   "cell_type": "code",
   "execution_count": 12,
   "metadata": {},
   "outputs": [
    {
     "data": {
      "text/plain": [
       "z             float64\n",
       "velDisp       float64\n",
       "ra            float64\n",
       "dec           float64\n",
       "subClass       object\n",
       "modelMag_u    float64\n",
       "modelMag_g    float64\n",
       "modelMag_r    float64\n",
       "modelMag_i    float64\n",
       "modelMag_z    float64\n",
       "petroMag_u    float64\n",
       "petroMag_g    float64\n",
       "petroMag_r    float64\n",
       "petroMag_i    float64\n",
       "petroMag_z    float64\n",
       "deVRad_u      float64\n",
       "deVRad_g      float64\n",
       "deVRad_r      float64\n",
       "deVRad_i      float64\n",
       "deVRad_z      float64\n",
       "expRad_u      float64\n",
       "expRad_g      float64\n",
       "expRad_r      float64\n",
       "expRad_i      float64\n",
       "expRad_z      float64\n",
       "petroRad_u    float64\n",
       "petroRad_g    float64\n",
       "petroRad_r    float64\n",
       "petroRad_i    float64\n",
       "petroRad_z    float64\n",
       "spiral        float64\n",
       "elliptical    float64\n",
       "uncertain     float64\n",
       "dtype: object"
      ]
     },
     "execution_count": 12,
     "metadata": {},
     "output_type": "execute_result"
    }
   ],
   "source": [
    "data.dtypes"
   ]
  },
  {
   "cell_type": "code",
   "execution_count": 13,
   "metadata": {},
   "outputs": [
    {
     "data": {
      "text/html": [
       "<div>\n",
       "<style>\n",
       "    .dataframe thead tr:only-child th {\n",
       "        text-align: right;\n",
       "    }\n",
       "\n",
       "    .dataframe thead th {\n",
       "        text-align: left;\n",
       "    }\n",
       "\n",
       "    .dataframe tbody tr th {\n",
       "        vertical-align: top;\n",
       "    }\n",
       "</style>\n",
       "<table border=\"1\" class=\"dataframe\">\n",
       "  <thead>\n",
       "    <tr style=\"text-align: right;\">\n",
       "      <th></th>\n",
       "      <th>z</th>\n",
       "      <th>velDisp</th>\n",
       "      <th>ra</th>\n",
       "      <th>dec</th>\n",
       "      <th>modelMag_u</th>\n",
       "      <th>modelMag_g</th>\n",
       "      <th>modelMag_r</th>\n",
       "      <th>modelMag_i</th>\n",
       "      <th>modelMag_z</th>\n",
       "      <th>petroMag_u</th>\n",
       "      <th>...</th>\n",
       "      <th>expRad_i</th>\n",
       "      <th>expRad_z</th>\n",
       "      <th>petroRad_u</th>\n",
       "      <th>petroRad_g</th>\n",
       "      <th>petroRad_r</th>\n",
       "      <th>petroRad_i</th>\n",
       "      <th>petroRad_z</th>\n",
       "      <th>spiral</th>\n",
       "      <th>elliptical</th>\n",
       "      <th>uncertain</th>\n",
       "    </tr>\n",
       "  </thead>\n",
       "  <tbody>\n",
       "    <tr>\n",
       "      <th>count</th>\n",
       "      <td>864064.000</td>\n",
       "      <td>864064.000</td>\n",
       "      <td>864064.000</td>\n",
       "      <td>864064.000</td>\n",
       "      <td>864064.000</td>\n",
       "      <td>864064.000</td>\n",
       "      <td>864064.000</td>\n",
       "      <td>864064.000</td>\n",
       "      <td>864064.000</td>\n",
       "      <td>864064.000</td>\n",
       "      <td>...</td>\n",
       "      <td>864064.000</td>\n",
       "      <td>864064.000</td>\n",
       "      <td>864064.000</td>\n",
       "      <td>864064.000</td>\n",
       "      <td>864064.000</td>\n",
       "      <td>864064.000</td>\n",
       "      <td>864064.000</td>\n",
       "      <td>621957.000</td>\n",
       "      <td>621957.000</td>\n",
       "      <td>621957.000</td>\n",
       "    </tr>\n",
       "    <tr>\n",
       "      <th>mean</th>\n",
       "      <td>0.147</td>\n",
       "      <td>152.105</td>\n",
       "      <td>180.985</td>\n",
       "      <td>23.170</td>\n",
       "      <td>19.357</td>\n",
       "      <td>17.631</td>\n",
       "      <td>16.840</td>\n",
       "      <td>16.340</td>\n",
       "      <td>15.969</td>\n",
       "      <td>19.320</td>\n",
       "      <td>...</td>\n",
       "      <td>1.578</td>\n",
       "      <td>1.309</td>\n",
       "      <td>10.571</td>\n",
       "      <td>5.773</td>\n",
       "      <td>5.586</td>\n",
       "      <td>5.507</td>\n",
       "      <td>5.777</td>\n",
       "      <td>0.286</td>\n",
       "      <td>0.094</td>\n",
       "      <td>0.620</td>\n",
       "    </tr>\n",
       "    <tr>\n",
       "      <th>std</th>\n",
       "      <td>0.113</td>\n",
       "      <td>99.785</td>\n",
       "      <td>68.994</td>\n",
       "      <td>19.353</td>\n",
       "      <td>87.577</td>\n",
       "      <td>86.220</td>\n",
       "      <td>75.435</td>\n",
       "      <td>79.185</td>\n",
       "      <td>83.465</td>\n",
       "      <td>87.580</td>\n",
       "      <td>...</td>\n",
       "      <td>79.088</td>\n",
       "      <td>83.358</td>\n",
       "      <td>18.943</td>\n",
       "      <td>5.313</td>\n",
       "      <td>4.180</td>\n",
       "      <td>4.708</td>\n",
       "      <td>5.663</td>\n",
       "      <td>0.452</td>\n",
       "      <td>0.291</td>\n",
       "      <td>0.485</td>\n",
       "    </tr>\n",
       "    <tr>\n",
       "      <th>min</th>\n",
       "      <td>-0.011</td>\n",
       "      <td>0.000</td>\n",
       "      <td>0.001</td>\n",
       "      <td>-11.253</td>\n",
       "      <td>-9999.000</td>\n",
       "      <td>-9999.000</td>\n",
       "      <td>-9999.000</td>\n",
       "      <td>-9999.000</td>\n",
       "      <td>-9999.000</td>\n",
       "      <td>-9999.000</td>\n",
       "      <td>...</td>\n",
       "      <td>-9999.000</td>\n",
       "      <td>-9999.000</td>\n",
       "      <td>0.000</td>\n",
       "      <td>0.000</td>\n",
       "      <td>0.036</td>\n",
       "      <td>0.000</td>\n",
       "      <td>0.002</td>\n",
       "      <td>0.000</td>\n",
       "      <td>0.000</td>\n",
       "      <td>0.000</td>\n",
       "    </tr>\n",
       "    <tr>\n",
       "      <th>25%</th>\n",
       "      <td>0.074</td>\n",
       "      <td>87.723</td>\n",
       "      <td>145.631</td>\n",
       "      <td>6.391</td>\n",
       "      <td>19.137</td>\n",
       "      <td>17.663</td>\n",
       "      <td>16.867</td>\n",
       "      <td>16.455</td>\n",
       "      <td>16.146</td>\n",
       "      <td>19.083</td>\n",
       "      <td>...</td>\n",
       "      <td>1.156</td>\n",
       "      <td>1.008</td>\n",
       "      <td>3.096</td>\n",
       "      <td>3.572</td>\n",
       "      <td>3.676</td>\n",
       "      <td>3.588</td>\n",
       "      <td>3.540</td>\n",
       "      <td>0.000</td>\n",
       "      <td>0.000</td>\n",
       "      <td>0.000</td>\n",
       "    </tr>\n",
       "    <tr>\n",
       "      <th>50%</th>\n",
       "      <td>0.115</td>\n",
       "      <td>142.108</td>\n",
       "      <td>183.556</td>\n",
       "      <td>21.064</td>\n",
       "      <td>19.879</td>\n",
       "      <td>18.257</td>\n",
       "      <td>17.414</td>\n",
       "      <td>16.989</td>\n",
       "      <td>16.684</td>\n",
       "      <td>19.797</td>\n",
       "      <td>...</td>\n",
       "      <td>1.611</td>\n",
       "      <td>1.496</td>\n",
       "      <td>5.494</td>\n",
       "      <td>4.864</td>\n",
       "      <td>4.811</td>\n",
       "      <td>4.657</td>\n",
       "      <td>4.626</td>\n",
       "      <td>0.000</td>\n",
       "      <td>0.000</td>\n",
       "      <td>1.000</td>\n",
       "    </tr>\n",
       "    <tr>\n",
       "      <th>75%</th>\n",
       "      <td>0.175</td>\n",
       "      <td>202.606</td>\n",
       "      <td>221.971</td>\n",
       "      <td>37.826</td>\n",
       "      <td>20.718</td>\n",
       "      <td>18.820</td>\n",
       "      <td>17.780</td>\n",
       "      <td>17.367</td>\n",
       "      <td>17.111</td>\n",
       "      <td>20.608</td>\n",
       "      <td>...</td>\n",
       "      <td>2.724</td>\n",
       "      <td>2.426</td>\n",
       "      <td>9.854</td>\n",
       "      <td>6.585</td>\n",
       "      <td>6.388</td>\n",
       "      <td>6.183</td>\n",
       "      <td>6.212</td>\n",
       "      <td>1.000</td>\n",
       "      <td>0.000</td>\n",
       "      <td>1.000</td>\n",
       "    </tr>\n",
       "    <tr>\n",
       "      <th>max</th>\n",
       "      <td>1.002</td>\n",
       "      <td>850.000</td>\n",
       "      <td>359.998</td>\n",
       "      <td>71.767</td>\n",
       "      <td>31.771</td>\n",
       "      <td>32.297</td>\n",
       "      <td>33.846</td>\n",
       "      <td>32.102</td>\n",
       "      <td>29.184</td>\n",
       "      <td>41.271</td>\n",
       "      <td>...</td>\n",
       "      <td>59.372</td>\n",
       "      <td>63.406</td>\n",
       "      <td>258.573</td>\n",
       "      <td>258.476</td>\n",
       "      <td>258.465</td>\n",
       "      <td>258.462</td>\n",
       "      <td>258.535</td>\n",
       "      <td>1.000</td>\n",
       "      <td>1.000</td>\n",
       "      <td>1.000</td>\n",
       "    </tr>\n",
       "  </tbody>\n",
       "</table>\n",
       "<p>8 rows × 32 columns</p>\n",
       "</div>"
      ],
      "text/plain": [
       "                z     velDisp          ra         dec  modelMag_u  modelMag_g  \\\n",
       "count  864064.000  864064.000  864064.000  864064.000  864064.000  864064.000   \n",
       "mean        0.147     152.105     180.985      23.170      19.357      17.631   \n",
       "std         0.113      99.785      68.994      19.353      87.577      86.220   \n",
       "min        -0.011       0.000       0.001     -11.253   -9999.000   -9999.000   \n",
       "25%         0.074      87.723     145.631       6.391      19.137      17.663   \n",
       "50%         0.115     142.108     183.556      21.064      19.879      18.257   \n",
       "75%         0.175     202.606     221.971      37.826      20.718      18.820   \n",
       "max         1.002     850.000     359.998      71.767      31.771      32.297   \n",
       "\n",
       "       modelMag_r  modelMag_i  modelMag_z  petroMag_u     ...        expRad_i  \\\n",
       "count  864064.000  864064.000  864064.000  864064.000     ...      864064.000   \n",
       "mean       16.840      16.340      15.969      19.320     ...           1.578   \n",
       "std        75.435      79.185      83.465      87.580     ...          79.088   \n",
       "min     -9999.000   -9999.000   -9999.000   -9999.000     ...       -9999.000   \n",
       "25%        16.867      16.455      16.146      19.083     ...           1.156   \n",
       "50%        17.414      16.989      16.684      19.797     ...           1.611   \n",
       "75%        17.780      17.367      17.111      20.608     ...           2.724   \n",
       "max        33.846      32.102      29.184      41.271     ...          59.372   \n",
       "\n",
       "         expRad_z  petroRad_u  petroRad_g  petroRad_r  petroRad_i  petroRad_z  \\\n",
       "count  864064.000  864064.000  864064.000  864064.000  864064.000  864064.000   \n",
       "mean        1.309      10.571       5.773       5.586       5.507       5.777   \n",
       "std        83.358      18.943       5.313       4.180       4.708       5.663   \n",
       "min     -9999.000       0.000       0.000       0.036       0.000       0.002   \n",
       "25%         1.008       3.096       3.572       3.676       3.588       3.540   \n",
       "50%         1.496       5.494       4.864       4.811       4.657       4.626   \n",
       "75%         2.426       9.854       6.585       6.388       6.183       6.212   \n",
       "max        63.406     258.573     258.476     258.465     258.462     258.535   \n",
       "\n",
       "           spiral  elliptical   uncertain  \n",
       "count  621957.000  621957.000  621957.000  \n",
       "mean        0.286       0.094       0.620  \n",
       "std         0.452       0.291       0.485  \n",
       "min         0.000       0.000       0.000  \n",
       "25%         0.000       0.000       0.000  \n",
       "50%         0.000       0.000       1.000  \n",
       "75%         1.000       0.000       1.000  \n",
       "max         1.000       1.000       1.000  \n",
       "\n",
       "[8 rows x 32 columns]"
      ]
     },
     "execution_count": 13,
     "metadata": {},
     "output_type": "execute_result"
    }
   ],
   "source": [
    "# Descripción del conjunto de datos numéricos\n",
    "\n",
    "data.describe().round(3)"
   ]
  },
  {
   "cell_type": "code",
   "execution_count": 14,
   "metadata": {},
   "outputs": [
    {
     "data": {
      "text/html": [
       "<div>\n",
       "<style>\n",
       "    .dataframe thead tr:only-child th {\n",
       "        text-align: right;\n",
       "    }\n",
       "\n",
       "    .dataframe thead th {\n",
       "        text-align: left;\n",
       "    }\n",
       "\n",
       "    .dataframe tbody tr th {\n",
       "        vertical-align: top;\n",
       "    }\n",
       "</style>\n",
       "<table border=\"1\" class=\"dataframe\">\n",
       "  <thead>\n",
       "    <tr style=\"text-align: right;\">\n",
       "      <th></th>\n",
       "      <th>subClass</th>\n",
       "    </tr>\n",
       "  </thead>\n",
       "  <tbody>\n",
       "    <tr>\n",
       "      <th>count</th>\n",
       "      <td>864064</td>\n",
       "    </tr>\n",
       "    <tr>\n",
       "      <th>unique</th>\n",
       "      <td>8</td>\n",
       "    </tr>\n",
       "    <tr>\n",
       "      <th>top</th>\n",
       "      <td>null</td>\n",
       "    </tr>\n",
       "    <tr>\n",
       "      <th>freq</th>\n",
       "      <td>543479</td>\n",
       "    </tr>\n",
       "  </tbody>\n",
       "</table>\n",
       "</div>"
      ],
      "text/plain": [
       "       subClass\n",
       "count    864064\n",
       "unique        8\n",
       "top        null\n",
       "freq     543479"
      ]
     },
     "execution_count": 14,
     "metadata": {},
     "output_type": "execute_result"
    }
   ],
   "source": [
    "# Descripción del conjunto de datos no numéricos\n",
    "\n",
    "data.describe(include=['object'])"
   ]
  },
  {
   "cell_type": "code",
   "execution_count": 15,
   "metadata": {},
   "outputs": [
    {
     "data": {
      "text/plain": [
       "Index([], dtype='object')"
      ]
     },
     "execution_count": 15,
     "metadata": {},
     "output_type": "execute_result"
    }
   ],
   "source": [
    "# Chequeamos que no haya caracteres fuera de a-Z, 0-9 y _ \n",
    "# en los nombres de las variables/columnas\n",
    "\n",
    "data.columns[~data.columns.str.match(r'^(\\w+)$')]"
   ]
  },
  {
   "cell_type": "markdown",
   "metadata": {},
   "source": [
    "**NOTA:**    \n",
    "* Tenemos una base de datos con 864.064 registros\n",
    "* No tenemos valores raros en los nombres de las variables."
   ]
  },
  {
   "cell_type": "markdown",
   "metadata": {},
   "source": [
    "### **1.2)** Tratamiento de datos duplicados"
   ]
  },
  {
   "cell_type": "code",
   "execution_count": 16,
   "metadata": {},
   "outputs": [
    {
     "data": {
      "text/html": [
       "<div>\n",
       "<style>\n",
       "    .dataframe thead tr:only-child th {\n",
       "        text-align: right;\n",
       "    }\n",
       "\n",
       "    .dataframe thead th {\n",
       "        text-align: left;\n",
       "    }\n",
       "\n",
       "    .dataframe tbody tr th {\n",
       "        vertical-align: top;\n",
       "    }\n",
       "</style>\n",
       "<table border=\"1\" class=\"dataframe\">\n",
       "  <thead>\n",
       "    <tr style=\"text-align: right;\">\n",
       "      <th></th>\n",
       "      <th>z</th>\n",
       "      <th>velDisp</th>\n",
       "      <th>ra</th>\n",
       "      <th>dec</th>\n",
       "      <th>subClass</th>\n",
       "      <th>modelMag_u</th>\n",
       "      <th>modelMag_g</th>\n",
       "      <th>modelMag_r</th>\n",
       "      <th>modelMag_i</th>\n",
       "      <th>modelMag_z</th>\n",
       "      <th>...</th>\n",
       "      <th>expRad_i</th>\n",
       "      <th>expRad_z</th>\n",
       "      <th>petroRad_u</th>\n",
       "      <th>petroRad_g</th>\n",
       "      <th>petroRad_r</th>\n",
       "      <th>petroRad_i</th>\n",
       "      <th>petroRad_z</th>\n",
       "      <th>spiral</th>\n",
       "      <th>elliptical</th>\n",
       "      <th>uncertain</th>\n",
       "    </tr>\n",
       "    <tr>\n",
       "      <th>specObjID</th>\n",
       "      <th></th>\n",
       "      <th></th>\n",
       "      <th></th>\n",
       "      <th></th>\n",
       "      <th></th>\n",
       "      <th></th>\n",
       "      <th></th>\n",
       "      <th></th>\n",
       "      <th></th>\n",
       "      <th></th>\n",
       "      <th></th>\n",
       "      <th></th>\n",
       "      <th></th>\n",
       "      <th></th>\n",
       "      <th></th>\n",
       "      <th></th>\n",
       "      <th></th>\n",
       "      <th></th>\n",
       "      <th></th>\n",
       "      <th></th>\n",
       "      <th></th>\n",
       "    </tr>\n",
       "  </thead>\n",
       "  <tbody>\n",
       "  </tbody>\n",
       "</table>\n",
       "<p>0 rows × 33 columns</p>\n",
       "</div>"
      ],
      "text/plain": [
       "Empty DataFrame\n",
       "Columns: [z, velDisp, ra, dec, subClass, modelMag_u, modelMag_g, modelMag_r, modelMag_i, modelMag_z, petroMag_u, petroMag_g, petroMag_r, petroMag_i, petroMag_z, deVRad_u, deVRad_g, deVRad_r, deVRad_i, deVRad_z, expRad_u, expRad_g, expRad_r, expRad_i, expRad_z, petroRad_u, petroRad_g, petroRad_r, petroRad_i, petroRad_z, spiral, elliptical, uncertain]\n",
       "Index: []\n",
       "\n",
       "[0 rows x 33 columns]"
      ]
     },
     "execution_count": 16,
     "metadata": {},
     "output_type": "execute_result"
    }
   ],
   "source": [
    "# Buscamos datos duplicados\n",
    "\n",
    "data[data.duplicated(keep=False)]"
   ]
  },
  {
   "cell_type": "code",
   "execution_count": 17,
   "metadata": {},
   "outputs": [
    {
     "data": {
      "text/plain": [
       "count    8.640640e+05\n",
       "mean     1.631710e+18\n",
       "std      8.177153e+17\n",
       "min      2.994897e+17\n",
       "25%      9.143824e+17\n",
       "50%      1.597679e+18\n",
       "75%      2.275515e+18\n",
       "max      3.383417e+18\n",
       "Name: specObjID, dtype: float64"
      ]
     },
     "execution_count": 17,
     "metadata": {},
     "output_type": "execute_result"
    }
   ],
   "source": [
    "# Estadísticos descriptivos del índice= specObjID\n",
    "\n",
    "pd.Series(data.index,dtype=str).describe()"
   ]
  },
  {
   "cell_type": "markdown",
   "metadata": {},
   "source": [
    "**NOTA:**    \n",
    "* No se detectaron registros duplicados buscando por el índice."
   ]
  },
  {
   "cell_type": "markdown",
   "metadata": {},
   "source": [
    "### **1.3)** Tratamiento de datos faltantes."
   ]
  },
  {
   "cell_type": "code",
   "execution_count": 18,
   "metadata": {},
   "outputs": [
    {
     "data": {
      "text/plain": [
       "spiral        242107\n",
       "elliptical    242107\n",
       "uncertain     242107\n",
       "dtype: int64"
      ]
     },
     "execution_count": 18,
     "metadata": {},
     "output_type": "execute_result"
    }
   ],
   "source": [
    "# Obtenemos el número de valores faltantes por columna \n",
    "\n",
    "missing_values_count = data.isnull().sum()\n",
    "missing_values_count[missing_values_count > 0]"
   ]
  },
  {
   "cell_type": "code",
   "execution_count": 19,
   "metadata": {},
   "outputs": [
    {
     "data": {
      "text/plain": [
       "0.7198043200503667"
      ]
     },
     "execution_count": 19,
     "metadata": {},
     "output_type": "execute_result"
    }
   ],
   "source": [
    "# Calculamos el impacto en términos relativos que tienen los valores nulos\n",
    "\n",
    "len(data.dropna())/len(data)"
   ]
  },
  {
   "cell_type": "code",
   "execution_count": 20,
   "metadata": {},
   "outputs": [],
   "source": [
    "# Completamos con 0 los valores faltantes\n",
    "\n",
    "data_full = data.fillna('0')"
   ]
  },
  {
   "cell_type": "code",
   "execution_count": 21,
   "metadata": {},
   "outputs": [
    {
     "data": {
      "text/plain": [
       "Series([], dtype: int64)"
      ]
     },
     "execution_count": 21,
     "metadata": {},
     "output_type": "execute_result"
    }
   ],
   "source": [
    "missing_values_count = data_full.isnull().sum()\n",
    "missing_values_count[missing_values_count > 0]"
   ]
  },
  {
   "cell_type": "markdown",
   "metadata": {},
   "source": [
    "**NOTA:**   \n",
    "* Tenemos 242.107 filas sin valor en las columnas: **spiral**, **elliptical** y **uncertain**.\n",
    "* Eliminar valores nulos siempre es la ultima opción.\n",
    "* Elegimos la opción de rellenar los valores faltantes con 0."
   ]
  },
  {
   "cell_type": "markdown",
   "metadata": {},
   "source": [
    "### **1.4)** Tratamiento de outliers."
   ]
  },
  {
   "cell_type": "code",
   "execution_count": 22,
   "metadata": {},
   "outputs": [],
   "source": [
    "# PRIMER PASO: Codificamos las variables categóricas como variables numéricas\n",
    "\n",
    "from sklearn.preprocessing import LabelBinarizer\n",
    "\n",
    "other_column = 'subClass'\n",
    "lb = LabelBinarizer()\n",
    "\n",
    "data_cod=pd.DataFrame(lb.fit_transform(data_full[other_column]),\n",
    "                      columns=((other_column + '_') + pd.Series(lb.classes_)),\n",
    "                      index=data_full.index)"
   ]
  },
  {
   "cell_type": "code",
   "execution_count": 23,
   "metadata": {},
   "outputs": [
    {
     "data": {
      "text/plain": [
       "(864064, 8)"
      ]
     },
     "execution_count": 23,
     "metadata": {},
     "output_type": "execute_result"
    }
   ],
   "source": [
    "data_cod.shape"
   ]
  },
  {
   "cell_type": "code",
   "execution_count": 24,
   "metadata": {},
   "outputs": [
    {
     "data": {
      "text/plain": [
       "Index(['subClass_AGN BROADLINE', 'subClass_STARBURST BROADLINE',\n",
       "       'subClass_STARFORMING BROADLINE'],\n",
       "      dtype='object')"
      ]
     },
     "execution_count": 24,
     "metadata": {},
     "output_type": "execute_result"
    }
   ],
   "source": [
    "# Chequeamos que no haya caracteres fuera de a-Z, 0-9 y _ \n",
    "# en los nombres de las variables/columnas\n",
    "\n",
    "data_cod.columns[~data_cod.columns.str.match(r'^(\\w+)$')]"
   ]
  },
  {
   "cell_type": "code",
   "execution_count": 25,
   "metadata": {},
   "outputs": [
    {
     "data": {
      "text/html": [
       "<div>\n",
       "<style>\n",
       "    .dataframe thead tr:only-child th {\n",
       "        text-align: right;\n",
       "    }\n",
       "\n",
       "    .dataframe thead th {\n",
       "        text-align: left;\n",
       "    }\n",
       "\n",
       "    .dataframe tbody tr th {\n",
       "        vertical-align: top;\n",
       "    }\n",
       "</style>\n",
       "<table border=\"1\" class=\"dataframe\">\n",
       "  <thead>\n",
       "    <tr style=\"text-align: right;\">\n",
       "      <th></th>\n",
       "      <th>subClass_AGN</th>\n",
       "      <th>subClass_AGN_BROADLINE</th>\n",
       "      <th>subClass_BROADLINE</th>\n",
       "      <th>subClass_STARBURST</th>\n",
       "      <th>subClass_STARBURST_BROADLINE</th>\n",
       "      <th>subClass_STARFORMING</th>\n",
       "      <th>subClass_STARFORMING_BROADLINE</th>\n",
       "      <th>subClass_null</th>\n",
       "    </tr>\n",
       "    <tr>\n",
       "      <th>specObjID</th>\n",
       "      <th></th>\n",
       "      <th></th>\n",
       "      <th></th>\n",
       "      <th></th>\n",
       "      <th></th>\n",
       "      <th></th>\n",
       "      <th></th>\n",
       "      <th></th>\n",
       "    </tr>\n",
       "  </thead>\n",
       "  <tbody>\n",
       "    <tr>\n",
       "      <th>957075158303008768</th>\n",
       "      <td>0</td>\n",
       "      <td>0</td>\n",
       "      <td>0</td>\n",
       "      <td>1</td>\n",
       "      <td>0</td>\n",
       "      <td>0</td>\n",
       "      <td>0</td>\n",
       "      <td>0</td>\n",
       "    </tr>\n",
       "    <tr>\n",
       "      <th>957066087332079616</th>\n",
       "      <td>0</td>\n",
       "      <td>0</td>\n",
       "      <td>0</td>\n",
       "      <td>0</td>\n",
       "      <td>0</td>\n",
       "      <td>0</td>\n",
       "      <td>0</td>\n",
       "      <td>1</td>\n",
       "    </tr>\n",
       "    <tr>\n",
       "      <th>957065537576265728</th>\n",
       "      <td>0</td>\n",
       "      <td>0</td>\n",
       "      <td>0</td>\n",
       "      <td>0</td>\n",
       "      <td>0</td>\n",
       "      <td>0</td>\n",
       "      <td>0</td>\n",
       "      <td>1</td>\n",
       "    </tr>\n",
       "    <tr>\n",
       "      <th>957066911965800448</th>\n",
       "      <td>0</td>\n",
       "      <td>0</td>\n",
       "      <td>0</td>\n",
       "      <td>0</td>\n",
       "      <td>0</td>\n",
       "      <td>0</td>\n",
       "      <td>0</td>\n",
       "      <td>1</td>\n",
       "    </tr>\n",
       "    <tr>\n",
       "      <th>957067186843707392</th>\n",
       "      <td>0</td>\n",
       "      <td>0</td>\n",
       "      <td>0</td>\n",
       "      <td>0</td>\n",
       "      <td>0</td>\n",
       "      <td>1</td>\n",
       "      <td>0</td>\n",
       "      <td>0</td>\n",
       "    </tr>\n",
       "  </tbody>\n",
       "</table>\n",
       "</div>"
      ],
      "text/plain": [
       "                    subClass_AGN  subClass_AGN_BROADLINE  subClass_BROADLINE  \\\n",
       "specObjID                                                                      \n",
       "957075158303008768             0                       0                   0   \n",
       "957066087332079616             0                       0                   0   \n",
       "957065537576265728             0                       0                   0   \n",
       "957066911965800448             0                       0                   0   \n",
       "957067186843707392             0                       0                   0   \n",
       "\n",
       "                    subClass_STARBURST  subClass_STARBURST_BROADLINE  \\\n",
       "specObjID                                                              \n",
       "957075158303008768                   1                             0   \n",
       "957066087332079616                   0                             0   \n",
       "957065537576265728                   0                             0   \n",
       "957066911965800448                   0                             0   \n",
       "957067186843707392                   0                             0   \n",
       "\n",
       "                    subClass_STARFORMING  subClass_STARFORMING_BROADLINE  \\\n",
       "specObjID                                                                  \n",
       "957075158303008768                     0                               0   \n",
       "957066087332079616                     0                               0   \n",
       "957065537576265728                     0                               0   \n",
       "957066911965800448                     0                               0   \n",
       "957067186843707392                     1                               0   \n",
       "\n",
       "                    subClass_null  \n",
       "specObjID                          \n",
       "957075158303008768              0  \n",
       "957066087332079616              1  \n",
       "957065537576265728              1  \n",
       "957066911965800448              1  \n",
       "957067186843707392              0  "
      ]
     },
     "execution_count": 25,
     "metadata": {},
     "output_type": "execute_result"
    }
   ],
   "source": [
    "# Reemplazamos el espacio vacío detectado en el nombre de las variables por un guión bajo\n",
    "\n",
    "data_cod.columns = data_cod.columns.str.replace(' ', '_')\n",
    "data_cod.head()"
   ]
  },
  {
   "cell_type": "code",
   "execution_count": 26,
   "metadata": {},
   "outputs": [
    {
     "data": {
      "text/plain": [
       "subClass_AGN                      int32\n",
       "subClass_AGN_BROADLINE            int32\n",
       "subClass_BROADLINE                int32\n",
       "subClass_STARBURST                int32\n",
       "subClass_STARBURST_BROADLINE      int32\n",
       "subClass_STARFORMING              int32\n",
       "subClass_STARFORMING_BROADLINE    int32\n",
       "subClass_null                     int32\n",
       "dtype: object"
      ]
     },
     "execution_count": 26,
     "metadata": {},
     "output_type": "execute_result"
    }
   ],
   "source": [
    "data_cod.dtypes"
   ]
  },
  {
   "cell_type": "code",
   "execution_count": 27,
   "metadata": {},
   "outputs": [
    {
     "data": {
      "text/html": [
       "<div>\n",
       "<style>\n",
       "    .dataframe thead tr:only-child th {\n",
       "        text-align: right;\n",
       "    }\n",
       "\n",
       "    .dataframe thead th {\n",
       "        text-align: left;\n",
       "    }\n",
       "\n",
       "    .dataframe tbody tr th {\n",
       "        vertical-align: top;\n",
       "    }\n",
       "</style>\n",
       "<table border=\"1\" class=\"dataframe\">\n",
       "  <thead>\n",
       "    <tr style=\"text-align: right;\">\n",
       "      <th></th>\n",
       "      <th>z</th>\n",
       "      <th>velDisp</th>\n",
       "      <th>ra</th>\n",
       "      <th>dec</th>\n",
       "      <th>subClass</th>\n",
       "      <th>modelMag_u</th>\n",
       "      <th>modelMag_g</th>\n",
       "      <th>modelMag_r</th>\n",
       "      <th>modelMag_i</th>\n",
       "      <th>modelMag_z</th>\n",
       "      <th>...</th>\n",
       "      <th>elliptical</th>\n",
       "      <th>uncertain</th>\n",
       "      <th>subClass_AGN</th>\n",
       "      <th>subClass_AGN_BROADLINE</th>\n",
       "      <th>subClass_BROADLINE</th>\n",
       "      <th>subClass_STARBURST</th>\n",
       "      <th>subClass_STARBURST_BROADLINE</th>\n",
       "      <th>subClass_STARFORMING</th>\n",
       "      <th>subClass_STARFORMING_BROADLINE</th>\n",
       "      <th>subClass_null</th>\n",
       "    </tr>\n",
       "    <tr>\n",
       "      <th>specObjID</th>\n",
       "      <th></th>\n",
       "      <th></th>\n",
       "      <th></th>\n",
       "      <th></th>\n",
       "      <th></th>\n",
       "      <th></th>\n",
       "      <th></th>\n",
       "      <th></th>\n",
       "      <th></th>\n",
       "      <th></th>\n",
       "      <th></th>\n",
       "      <th></th>\n",
       "      <th></th>\n",
       "      <th></th>\n",
       "      <th></th>\n",
       "      <th></th>\n",
       "      <th></th>\n",
       "      <th></th>\n",
       "      <th></th>\n",
       "      <th></th>\n",
       "      <th></th>\n",
       "    </tr>\n",
       "  </thead>\n",
       "  <tbody>\n",
       "    <tr>\n",
       "      <th>957075158303008768</th>\n",
       "      <td>0.012095</td>\n",
       "      <td>60.39996</td>\n",
       "      <td>197.448850</td>\n",
       "      <td>4.249896</td>\n",
       "      <td>STARBURST</td>\n",
       "      <td>18.10708</td>\n",
       "      <td>17.34184</td>\n",
       "      <td>17.08753</td>\n",
       "      <td>16.99253</td>\n",
       "      <td>16.87547</td>\n",
       "      <td>...</td>\n",
       "      <td>0</td>\n",
       "      <td>1</td>\n",
       "      <td>0</td>\n",
       "      <td>0</td>\n",
       "      <td>0</td>\n",
       "      <td>1</td>\n",
       "      <td>0</td>\n",
       "      <td>0</td>\n",
       "      <td>0</td>\n",
       "      <td>0</td>\n",
       "    </tr>\n",
       "    <tr>\n",
       "      <th>957066087332079616</th>\n",
       "      <td>0.141718</td>\n",
       "      <td>217.80020</td>\n",
       "      <td>197.458925</td>\n",
       "      <td>4.451149</td>\n",
       "      <td>null</td>\n",
       "      <td>19.56142</td>\n",
       "      <td>17.60611</td>\n",
       "      <td>16.52897</td>\n",
       "      <td>16.07807</td>\n",
       "      <td>15.72277</td>\n",
       "      <td>...</td>\n",
       "      <td>0</td>\n",
       "      <td>1</td>\n",
       "      <td>0</td>\n",
       "      <td>0</td>\n",
       "      <td>0</td>\n",
       "      <td>0</td>\n",
       "      <td>0</td>\n",
       "      <td>0</td>\n",
       "      <td>0</td>\n",
       "      <td>1</td>\n",
       "    </tr>\n",
       "    <tr>\n",
       "      <th>957065537576265728</th>\n",
       "      <td>0.140137</td>\n",
       "      <td>138.90830</td>\n",
       "      <td>197.473340</td>\n",
       "      <td>4.417710</td>\n",
       "      <td>null</td>\n",
       "      <td>19.56201</td>\n",
       "      <td>18.19559</td>\n",
       "      <td>17.34286</td>\n",
       "      <td>16.92395</td>\n",
       "      <td>16.61079</td>\n",
       "      <td>...</td>\n",
       "      <td>0</td>\n",
       "      <td>0</td>\n",
       "      <td>0</td>\n",
       "      <td>0</td>\n",
       "      <td>0</td>\n",
       "      <td>0</td>\n",
       "      <td>0</td>\n",
       "      <td>0</td>\n",
       "      <td>0</td>\n",
       "      <td>1</td>\n",
       "    </tr>\n",
       "    <tr>\n",
       "      <th>957066911965800448</th>\n",
       "      <td>0.066672</td>\n",
       "      <td>241.28300</td>\n",
       "      <td>197.583262</td>\n",
       "      <td>4.300230</td>\n",
       "      <td>null</td>\n",
       "      <td>18.38973</td>\n",
       "      <td>16.40218</td>\n",
       "      <td>15.47812</td>\n",
       "      <td>15.05008</td>\n",
       "      <td>14.72299</td>\n",
       "      <td>...</td>\n",
       "      <td>1</td>\n",
       "      <td>0</td>\n",
       "      <td>0</td>\n",
       "      <td>0</td>\n",
       "      <td>0</td>\n",
       "      <td>0</td>\n",
       "      <td>0</td>\n",
       "      <td>0</td>\n",
       "      <td>0</td>\n",
       "      <td>1</td>\n",
       "    </tr>\n",
       "    <tr>\n",
       "      <th>957067186843707392</th>\n",
       "      <td>0.183667</td>\n",
       "      <td>118.87630</td>\n",
       "      <td>197.601252</td>\n",
       "      <td>4.397977</td>\n",
       "      <td>STARFORMING</td>\n",
       "      <td>19.44434</td>\n",
       "      <td>18.39804</td>\n",
       "      <td>17.81157</td>\n",
       "      <td>17.45442</td>\n",
       "      <td>17.30775</td>\n",
       "      <td>...</td>\n",
       "      <td>0</td>\n",
       "      <td>0</td>\n",
       "      <td>0</td>\n",
       "      <td>0</td>\n",
       "      <td>0</td>\n",
       "      <td>0</td>\n",
       "      <td>0</td>\n",
       "      <td>1</td>\n",
       "      <td>0</td>\n",
       "      <td>0</td>\n",
       "    </tr>\n",
       "  </tbody>\n",
       "</table>\n",
       "<p>5 rows × 41 columns</p>\n",
       "</div>"
      ],
      "text/plain": [
       "                           z    velDisp          ra       dec     subClass  \\\n",
       "specObjID                                                                    \n",
       "957075158303008768  0.012095   60.39996  197.448850  4.249896    STARBURST   \n",
       "957066087332079616  0.141718  217.80020  197.458925  4.451149         null   \n",
       "957065537576265728  0.140137  138.90830  197.473340  4.417710         null   \n",
       "957066911965800448  0.066672  241.28300  197.583262  4.300230         null   \n",
       "957067186843707392  0.183667  118.87630  197.601252  4.397977  STARFORMING   \n",
       "\n",
       "                    modelMag_u  modelMag_g  modelMag_r  modelMag_i  \\\n",
       "specObjID                                                            \n",
       "957075158303008768    18.10708    17.34184    17.08753    16.99253   \n",
       "957066087332079616    19.56142    17.60611    16.52897    16.07807   \n",
       "957065537576265728    19.56201    18.19559    17.34286    16.92395   \n",
       "957066911965800448    18.38973    16.40218    15.47812    15.05008   \n",
       "957067186843707392    19.44434    18.39804    17.81157    17.45442   \n",
       "\n",
       "                    modelMag_z      ...        elliptical  uncertain  \\\n",
       "specObjID                           ...                                \n",
       "957075158303008768    16.87547      ...                 0          1   \n",
       "957066087332079616    15.72277      ...                 0          1   \n",
       "957065537576265728    16.61079      ...                 0          0   \n",
       "957066911965800448    14.72299      ...                 1          0   \n",
       "957067186843707392    17.30775      ...                 0          0   \n",
       "\n",
       "                    subClass_AGN  subClass_AGN_BROADLINE  subClass_BROADLINE  \\\n",
       "specObjID                                                                      \n",
       "957075158303008768             0                       0                   0   \n",
       "957066087332079616             0                       0                   0   \n",
       "957065537576265728             0                       0                   0   \n",
       "957066911965800448             0                       0                   0   \n",
       "957067186843707392             0                       0                   0   \n",
       "\n",
       "                    subClass_STARBURST  subClass_STARBURST_BROADLINE  \\\n",
       "specObjID                                                              \n",
       "957075158303008768                   1                             0   \n",
       "957066087332079616                   0                             0   \n",
       "957065537576265728                   0                             0   \n",
       "957066911965800448                   0                             0   \n",
       "957067186843707392                   0                             0   \n",
       "\n",
       "                    subClass_STARFORMING  subClass_STARFORMING_BROADLINE  \\\n",
       "specObjID                                                                  \n",
       "957075158303008768                     0                               0   \n",
       "957066087332079616                     0                               0   \n",
       "957065537576265728                     0                               0   \n",
       "957066911965800448                     0                               0   \n",
       "957067186843707392                     1                               0   \n",
       "\n",
       "                    subClass_null  \n",
       "specObjID                          \n",
       "957075158303008768              0  \n",
       "957066087332079616              1  \n",
       "957065537576265728              1  \n",
       "957066911965800448              1  \n",
       "957067186843707392              0  \n",
       "\n",
       "[5 rows x 41 columns]"
      ]
     },
     "execution_count": 27,
     "metadata": {},
     "output_type": "execute_result"
    }
   ],
   "source": [
    "# SEGUNDO PASO: Unimos los dataframes \n",
    "\n",
    "data_join = data_full.join(data_cod)\n",
    "data_join[:5]"
   ]
  },
  {
   "cell_type": "code",
   "execution_count": 28,
   "metadata": {},
   "outputs": [
    {
     "data": {
      "text/plain": [
       "(864064, 41)"
      ]
     },
     "execution_count": 28,
     "metadata": {},
     "output_type": "execute_result"
    }
   ],
   "source": [
    "data_join.shape"
   ]
  },
  {
   "cell_type": "code",
   "execution_count": 29,
   "metadata": {},
   "outputs": [
    {
     "data": {
      "text/plain": [
       "z                                 float64\n",
       "velDisp                           float64\n",
       "ra                                float64\n",
       "dec                               float64\n",
       "subClass                           object\n",
       "modelMag_u                        float64\n",
       "modelMag_g                        float64\n",
       "modelMag_r                        float64\n",
       "modelMag_i                        float64\n",
       "modelMag_z                        float64\n",
       "petroMag_u                        float64\n",
       "petroMag_g                        float64\n",
       "petroMag_r                        float64\n",
       "petroMag_i                        float64\n",
       "petroMag_z                        float64\n",
       "deVRad_u                          float64\n",
       "deVRad_g                          float64\n",
       "deVRad_r                          float64\n",
       "deVRad_i                          float64\n",
       "deVRad_z                          float64\n",
       "expRad_u                          float64\n",
       "expRad_g                          float64\n",
       "expRad_r                          float64\n",
       "expRad_i                          float64\n",
       "expRad_z                          float64\n",
       "petroRad_u                        float64\n",
       "petroRad_g                        float64\n",
       "petroRad_r                        float64\n",
       "petroRad_i                        float64\n",
       "petroRad_z                        float64\n",
       "spiral                             object\n",
       "elliptical                         object\n",
       "uncertain                          object\n",
       "subClass_AGN                        int32\n",
       "subClass_AGN_BROADLINE              int32\n",
       "subClass_BROADLINE                  int32\n",
       "subClass_STARBURST                  int32\n",
       "subClass_STARBURST_BROADLINE        int32\n",
       "subClass_STARFORMING                int32\n",
       "subClass_STARFORMING_BROADLINE      int32\n",
       "subClass_null                       int32\n",
       "dtype: object"
      ]
     },
     "execution_count": 29,
     "metadata": {},
     "output_type": "execute_result"
    }
   ],
   "source": [
    "data_join.dtypes"
   ]
  },
  {
   "cell_type": "code",
   "execution_count": 30,
   "metadata": {},
   "outputs": [],
   "source": [
    "# pasamos a int las variables `spiral`, `elliptical`y `uncertain`\n",
    "data_join['spiral'] = data_join['spiral'].astype(str).astype(float).astype(int)\n",
    "data_join['elliptical'] = data_join['elliptical'].astype(str).astype(float).astype(int)\n",
    "data_join['uncertain'] = data_join['uncertain'].astype(str).astype(float).astype(int)"
   ]
  },
  {
   "cell_type": "code",
   "execution_count": 31,
   "metadata": {},
   "outputs": [],
   "source": [
    "# TERCER PASO: \n",
    "# A) Buscamos los outliers de la variable redshift \"z\"\n",
    "# Consideramos los valores que se encuentren a más-menos 3 desviaciones estándares de la media\n",
    "\n",
    "# Filtrado de outliers \n",
    "\n",
    "def clean_outliers(dataset, column_name):\n",
    "    interesting_col = dataset[column_name]\n",
    "    mask_outlier = (\n",
    "        np.abs(interesting_col - interesting_col.mean()) <= (3 * interesting_col.std()))\n",
    "    return dataset[mask_outlier]"
   ]
  },
  {
   "cell_type": "code",
   "execution_count": 32,
   "metadata": {},
   "outputs": [
    {
     "name": "stdout",
     "output_type": "stream",
     "text": [
      "Filas removidas 11164\n"
     ]
    }
   ],
   "source": [
    "data_clean_z = clean_outliers(data_join, \"z\")\n",
    "print(\"Filas removidas\", len(data_join) - len(data_clean_z))"
   ]
  },
  {
   "cell_type": "code",
   "execution_count": 33,
   "metadata": {},
   "outputs": [
    {
     "data": {
      "text/plain": [
       "0.9870796607658692"
      ]
     },
     "execution_count": 33,
     "metadata": {},
     "output_type": "execute_result"
    }
   ],
   "source": [
    "# Calculamos el impacto en términos relativos que tiene remover los outliers de \"z\"\n",
    "\n",
    "len(data_clean_z)/len(data_join)"
   ]
  },
  {
   "cell_type": "code",
   "execution_count": 34,
   "metadata": {},
   "outputs": [
    {
     "data": {
      "image/png": "[encoded data removed]",
      "text/plain": [
       "<Figure size 1080x360 with 2 Axes>"
      ]
     },
     "metadata": {
      "needs_background": "light"
     },
     "output_type": "display_data"
    }
   ],
   "source": [
    "# Gráfico boxplot para identificar outlaiers en la variable \"redshift\"\n",
    "\n",
    "plt.figure (figsize=(15,5))\n",
    "\n",
    "plt.subplot(121)\n",
    "plt1=seaborn.boxplot(data=data_join, color='lightcoral', y='z', x='subClass')\n",
    "plt.ylim(0,1)\n",
    "plt.title('Redshift: Data Frame Completo')\n",
    "plt.ylabel('z')\n",
    "plt.xlabel('subClass')\n",
    "plt.xticks(rotation=45)\n",
    "seaborn.despine()\n",
    "\n",
    "plt.subplot(122)\n",
    "plt2=seaborn.boxplot(data=data_clean_z, color='lightcoral', y='z', x='subClass')\n",
    "plt.ylim(0,1)\n",
    "plt.title('Redshift: Data Frame sin Outliers')\n",
    "plt.ylabel('z')\n",
    "plt.xlabel('subClass')\n",
    "plt.xticks(rotation=45)\n",
    "seaborn.despine()"
   ]
  },
  {
   "cell_type": "markdown",
   "metadata": {},
   "source": [
    "**NOTA:**      \n",
    "* Decidimos no descartar los outliers detectados en la variable **z**(redshift).\n",
    "* Buscaremos outliers en las variables referentes a las distintas bandas de las dos magnitudes **modelMag** y **petroMag**"
   ]
  },
  {
   "cell_type": "code",
   "execution_count": 35,
   "metadata": {},
   "outputs": [
    {
     "name": "stdout",
     "output_type": "stream",
     "text": [
      "Filas removidas 69\n"
     ]
    }
   ],
   "source": [
    "# TERCER PASO: \n",
    "# B) Buscamos los outliers de las variables de las magnitudes\n",
    "\n",
    "# B1) Filtramos el valor atípico -9999 de las variables correspondientes a las bandas r,u,g,z,i calculadas con petroMag\n",
    "filter_petro=(data_join.petroMag_r!=-9999) & (data_join.petroMag_u!=-9999) & (data_join.petroMag_g!=-9999)  & (data_join.petroMag_z!=-9999) & (data_join.petroMag_i!=-9999)\n",
    "data_clean_9999=data_join[(filter_petro)]\n",
    "\n",
    "print(\"Filas removidas\", len(data_join) - len(data_clean_9999))"
   ]
  },
  {
   "cell_type": "code",
   "execution_count": 36,
   "metadata": {},
   "outputs": [
    {
     "name": "stdout",
     "output_type": "stream",
     "text": [
      "Filas removidas 2\n"
     ]
    }
   ],
   "source": [
    "# B2) Filtramos el valor atípico -9999 de las variables correspondientes a las bandas r,u,g,z,i calculadas con modelMag\n",
    "filter_model=(data_join.modelMag_r!=-9999) & (data_join.modelMag_u!=-9999) & (data_join.modelMag_g!=-9999)  & (data_join.modelMag_z!=-9999) & (data_join.modelMag_i!=-9999)\n",
    "data_clean_9999_2=data_join[(filter_model)]\n",
    "\n",
    "print(\"Filas removidas\", len(data_clean_9999) - len(data_clean_9999_2))\n",
    "\n",
    "data_clean=data_clean_9999_2"
   ]
  },
  {
   "cell_type": "code",
   "execution_count": 41,
   "metadata": {},
   "outputs": [
    {
     "name": "stdout",
     "output_type": "stream",
     "text": [
      "Filas removidas 11115\n"
     ]
    }
   ],
   "source": [
    "# B3) Filtramos los valores que se encuentren a más-menos 3 desviaciones estándares de la media\n",
    "\n",
    "data_clean_mag = clean_outliers(data_clean, \"petroMag_r\")\n",
    "data_clean_mag = clean_outliers(data_clean, \"petroMag_g\")\n",
    "data_clean_mag = clean_outliers(data_clean, \"petroMag_u\")\n",
    "data_clean_mag = clean_outliers(data_clean, \"petroMag_z\")\n",
    "data_clean_mag = clean_outliers(data_clean, \"petroMag_i\")\n",
    "data_clean_mag = clean_outliers(data_clean, \"modelMag_r\")\n",
    "data_clean_mag = clean_outliers(data_clean, \"modelMag_g\")\n",
    "data_clean_mag = clean_outliers(data_clean, \"modelMag_u\")\n",
    "data_clean_mag = clean_outliers(data_clean, \"modelMag_z\")\n",
    "data_clean_mag = clean_outliers(data_clean, \"modelMag_i\")\n",
    "\n",
    "print(\"Filas removidas\", len(data_clean) - len(data_clean_mag))"
   ]
  },
  {
   "cell_type": "code",
   "execution_count": 64,
   "metadata": {},
   "outputs": [
    {
     "data": {
      "text/plain": [
       "(8, 40)"
      ]
     },
     "execution_count": 64,
     "metadata": {},
     "output_type": "execute_result"
    },
    {
     "data": {
      "image/png": "[encoded data removed]",
      "text/plain": [
       "<Figure size 1080x1080 with 4 Axes>"
      ]
     },
     "metadata": {
      "needs_background": "light"
     },
     "output_type": "display_data"
    }
   ],
   "source": [
    "# Gráfico boxplot para identificar outlaiers en las variables correspondientes a las bandas r,u,g,z,i calculadas con petroMag\n",
    "\n",
    "plt.figure (figsize=(15,15))\n",
    "\n",
    "plt.subplot(221)\n",
    "plt1=pd.DataFrame(data=data_join, columns=['petroMag_r','petroMag_g','petroMag_u','petroMag_z','petroMag_i'])\n",
    "seaborn.boxplot(x=\"variable\", y=\"value\", data=pd.melt(plt1))\n",
    "plt.title('Data Frame Completo, Bandas petroMag')\n",
    "plt.ylim(8,40)\n",
    "\n",
    "plt.subplot(222)\n",
    "plt2=pd.DataFrame(data=data_clean_mag, columns=['petroMag_r','petroMag_g','petroMag_u','petroMag_z','petroMag_i'])\n",
    "seaborn.boxplot(x=\"variable\", y=\"value\", data=pd.melt(plt2))\n",
    "plt.title('Data Frame Filtrado, Bandas petroMag')\n",
    "plt.ylim(8,40)\n",
    "\n",
    "plt.subplot(223)\n",
    "plt3=pd.DataFrame(data=data_join, columns=['modelMag_r','modelMag_g','modelMag_u','modelMag_z','modelMag_i'])\n",
    "seaborn.boxplot(x=\"variable\", y=\"value\", data=pd.melt(plt3))\n",
    "plt.title('Data Frame Completo, Bandas modelMag')\n",
    "plt.ylim(8,40)\n",
    "\n",
    "plt.subplot(224)\n",
    "plt4=pd.DataFrame(data=data_clean_mag, columns=['modelMag_r','modelMag_g','modelMag_u','modelMag_z','modelMag_i'])\n",
    "seaborn.boxplot(x=\"variable\", y=\"value\", data=pd.melt(plt4))\n",
    "plt.title('Data Frame Filtrado, Bandas modelMag')\n",
    "plt.ylim(8,40)\n"
   ]
  },
  {
   "cell_type": "code",
   "execution_count": 65,
   "metadata": {},
   "outputs": [
    {
     "data": {
      "text/plain": [
       "(852878, 41)"
      ]
     },
     "execution_count": 65,
     "metadata": {},
     "output_type": "execute_result"
    }
   ],
   "source": [
    "data_clean_mag.shape"
   ]
  },
  {
   "cell_type": "code",
   "execution_count": 67,
   "metadata": {},
   "outputs": [
    {
     "name": "stdout",
     "output_type": "stream",
     "text": [
      "Filas removidas 11186\n"
     ]
    }
   ],
   "source": [
    "print(\"Filas removidas\", len(data_join) - len(data_clean_mag))"
   ]
  },
  {
   "cell_type": "markdown",
   "metadata": {},
   "source": [
    "**NOTA:**      \n",
    "* Decidimos filtrar los outliers detectados en las variables correspondientes a las distintas bandas de las dos magnitudes **modelMag** y **petroMag**\n",
    "* Se removieron 71 registros con el valor atípico -9999\n",
    "* Se removieron 11.115 registros con el criterio de distancia de más-menos 3 desviaciones estándares de la media\n",
    "* En total se removieron 11.186 registros\n",
    "* El dataset a utilizar será: **data_clean_mag** con 852.878 registros"
   ]
  },
  {
   "cell_type": "markdown",
   "metadata": {},
   "source": [
    "### **1.5)** Considerando el objetivo pricipal de la mentoría, cuáles creen que serían las variables más importantes a considerar?"
   ]
  },
  {
   "cell_type": "markdown",
   "metadata": {},
   "source": [
    "**NOTA:** Las variables más importantes a considerar en este estudio serían las magnitudes de las galaxias, en las distintas bandas fotométricas, así como la posicion angular en el cielo de las mismas y el redshift obtenido a partir de la espectroscopia."
   ]
  },
  {
   "cell_type": "markdown",
   "metadata": {},
   "source": [
    "### **1.6)** Implementar herramientas en pos de la reproducibilidad de resultados.\n",
    "**NOTA:** Para asegurar la reproducibilidad de los resultados, optamos por crear un contenedor en **DOCKER**. Detallaremos todos los requisitos en el **Dockerfile**."
   ]
  },
  {
   "cell_type": "markdown",
   "metadata": {},
   "source": [
    "---------------------------------------------------"
   ]
  },
  {
   "cell_type": "markdown",
   "metadata": {},
   "source": [
    "# **Resolución Punto 2 - Análisis estadístico**\n",
    "\n",
    "### **2.1)** Nos ha contado el especialista que del proceso de adquisición de los mismos se asegura que los datos son correctos y/o completos para aquellos objetos que tienen Magnitudes Pretosian en la banda r entre 14.5 y 17.77. Incluyan esta selección en su análisis."
   ]
  },
  {
   "cell_type": "code",
   "execution_count": 68,
   "metadata": {},
   "outputs": [],
   "source": [
    "# VERO: Yo no eliminaria esos registros porque nuestro objetivo no es clasificar la forma de la galaxia sino el redshift\n",
    "\n",
    "# hay que modificar estas funciones con la nueva nomenclatura\n",
    "\n",
    "filter_zoo=(data_join.spiral==0) & (data_join.elliptical==0) & (data_join.uncertain==0) \n",
    "data_2=data_join[(filter_mag)&(filter_zoo)]\n",
    "data_2.shape"
   ]
  },
  {
   "cell_type": "code",
   "execution_count": 71,
   "metadata": {},
   "outputs": [],
   "source": [
    "f = plt.figure(figsize=(10,6))\n",
    "ax = f.add_subplot(111)\n",
    "seaborn.scatterplot(data_join.z[(filter_mag)&(filter_zoo)],data_join.petroMag_r[(filter_mag) & (filter_zoo)] )"
   ]
  },
  {
   "cell_type": "markdown",
   "metadata": {},
   "source": [
    "A partir del grafico anterior podemos observar que la distribucion de las magnitudes a medida \n",
    "que el redshift aumenta el rango de valores disminuye. Esto es porque a medida que el redshift aumenta \n",
    "las galaxias más débiles no se observan. "
   ]
  },
  {
   "cell_type": "code",
   "execution_count": null,
   "metadata": {},
   "outputs": [],
   "source": [
    "df_filter = data_2[ (df['petroMag_r'] >= 14.5) & (df['petroMag_r'] <= 17.77) ]\n",
    "print(data_2.shape)\n",
    "print(df_filter.shape)\n",
    "\n",
    "print(\"Filas removidas con este constraint: %d\"%(data_2.shape[0]-df_filter.shape[0]))"
   ]
  },
  {
   "cell_type": "code",
   "execution_count": null,
   "metadata": {},
   "outputs": [],
   "source": [
    "df_filter"
   ]
  },
  {
   "cell_type": "code",
   "execution_count": null,
   "metadata": {},
   "outputs": [],
   "source": [
    "f = plt.figure(figsize=(10,6))\n",
    "ax = f.add_subplot(111)\n",
    "seaborn.scatterplot(df_filter.z,df_filter.petroMag_r)"
   ]
  },
  {
   "cell_type": "markdown",
   "metadata": {},
   "source": [
    "A partir del grafico anterior podemos observar que para z<0.1 una galaxia de magnitud 15.5, \n",
    "puede observarse. Sin embargo a medida que aumenta el redshift una galaxia de dicha magnitud \n",
    "es mas dificil de observar. "
   ]
  },
  {
   "cell_type": "markdown",
   "metadata": {},
   "source": [
    "### **2.2)** Explorar la base de datos en búsqueda de datos repetidos, en caso de hallarlos elegir la estrategia para su limpieza."
   ]
  },
  {
   "cell_type": "code",
   "execution_count": null,
   "metadata": {},
   "outputs": [],
   "source": [
    "duplicated_df = df_filter[df_filter.duplicated()]\n",
    "duplicated_df"
   ]
  },
  {
   "cell_type": "markdown",
   "metadata": {},
   "source": [
    "### **2.3)** Dado que los datos son recolectados a través de mapeos sucesivos del cielo es posible que una galaxia sea observada más de una vez, y en cada observación se le asigne un ID diferente. Propongan una idea para defectar la base de datos de este problema.\n",
    "* **Extra**: el especialista en datos no confía en objetos que tengan una separación angular con otro objeto menor a 1\" de arco. Intenten limpiar los datos empleando este criterio."
   ]
  },
  {
   "cell_type": "code",
   "execution_count": null,
   "metadata": {},
   "outputs": [],
   "source": [
    "#----Determinacion de distancia angular-----------------------------------------\n",
    "def ang_sep(lon1, lat1, lon2, lat2):\n",
    "    \"\"\"\n",
    "    Angular separation between two points on a sphere\n",
    "\n",
    "    Parameters\n",
    "    ----------\n",
    "    lon1, lat1, lon2, lat2 : Angle, Quantity or float\n",
    "        Longitude and latitude of the two points.  Quantities should be in\n",
    "        angular units; floats in deg\n",
    "\n",
    "    Returns\n",
    "    -------\n",
    "    angular separation : Quantity or float\n",
    "        Type depends on input; Quantity in angular units, or float in deg\n",
    "\n",
    "    Notes\n",
    "    -----\n",
    "    The angular separation is calculated using the Vincenty formula [1]_,\n",
    "    which is slightly more complex and computationally expensive than\n",
    "    some alternatives, but is stable at at all distances, including the\n",
    "    poles and antipodes.\n",
    "\n",
    "    .. [1] http://en.wikipedia.org/wiki/Great-circle_distance\n",
    "    \"\"\"\n",
    "    \n",
    "    sdlon = np.sin(np.deg2rad(lon2) - np.deg2rad(lon1))\n",
    "    cdlon = np.cos(np.deg2rad(lon2) - np.deg2rad(lon1))\n",
    "    slat1 = np.sin(np.deg2rad(lat1))\n",
    "    slat2 = np.sin(np.deg2rad(lat2))\n",
    "    clat1 = np.cos(np.deg2rad(lat1))\n",
    "    clat2 = np.cos(np.deg2rad(lat2))\n",
    "    num1 = clat2 * sdlon\n",
    "    num2 = clat1 * slat2 - slat1 * clat2 * cdlon\n",
    "    denominator = slat1 * slat2 + clat1 * clat2 * cdlon\n",
    "    sep = np.arctan2(np.sqrt(num1 ** 2 + num2 ** 2), denominator)\n",
    "#    return np.rad2deg(sep)\n",
    "    return sep"
   ]
  },
  {
   "cell_type": "code",
   "execution_count": null,
   "metadata": {},
   "outputs": [],
   "source": [
    "## Este codigo tarda mucho tiempo ,no correr con todos los datos.\n",
    "ind_l=[]\n",
    "for i in range(len(df_filter)):\n",
    "    sep=ang_sep(df_filter.ra[df_filter.index[i]], df_filter.dec[df_filter.index[i]],df_filter.ra, df_filter.dec )\n",
    "    ind=df_filter.index[np.where(sep<1./3600.)]\n",
    "    for j in range(len(ind)): \n",
    "        if df_filter.index[i]!=ind[j]: # aca podemos agregar que ademas ese indice no este ya en la lista\n",
    "            ind_l.append(ind[j])"
   ]
  },
  {
   "cell_type": "code",
   "execution_count": null,
   "metadata": {},
   "outputs": [],
   "source": [
    "num=np.asarray(ind_l)\n",
    "num=np.unique(num)\n",
    "len(num)"
   ]
  },
  {
   "cell_type": "code",
   "execution_count": null,
   "metadata": {},
   "outputs": [],
   "source": [
    "print(\"Numero de galaxias que estan a menos de 1'' con respecto a otra: %d\"%(num.shape))"
   ]
  },
  {
   "cell_type": "markdown",
   "metadata": {},
   "source": [
    "Saco las galaxias duplicadas del catálogo"
   ]
  },
  {
   "cell_type": "code",
   "execution_count": null,
   "metadata": {},
   "outputs": [],
   "source": [
    "for i in range(len(ind)):\n",
    "    b=ind[i]==df_filter.index\n",
    "    b=np.logical_not(b)\n",
    "    df_filter=df_filter[b]"
   ]
  },
  {
   "cell_type": "markdown",
   "metadata": {},
   "source": [
    "### **2.4)** Propongan una estrategia para tratar los datos faltantes (en algunas columnas los datos faltantes fueron sustituidos por valores extremos). Quitar o imputar?. Calcular los estadísticos de las distribuciones resultantes.\n"
   ]
  },
  {
   "cell_type": "code",
   "execution_count": null,
   "metadata": {},
   "outputs": [],
   "source": []
  },
  {
   "cell_type": "markdown",
   "metadata": {},
   "source": [
    "### **2.5)** Añadir los campos con los colores calculados tanto para magnitudes petrosian como magnitudes model.\n"
   ]
  },
  {
   "cell_type": "code",
   "execution_count": null,
   "metadata": {},
   "outputs": [],
   "source": [
    "df['modelColor_ug'] = df['modelMag_u'] - df['modelMag_g']\n",
    "df['modelColor_gr'] = df['modelMag_g'] - df['modelMag_r']\n",
    "df['modelColor_ri'] = df['modelMag_r'] - df['modelMag_i']\n",
    "df['modelColor_iz'] = df['modelMag_i'] - df['modelMag_z']\n",
    "df['petroColor_ug'] = df['petroMag_u'] - df['petroMag_g']\n",
    "df['petroColor_gr'] = df['petroMag_g'] - df['petroMag_r']\n",
    "df['petroColor_ri'] = df['petroMag_r'] - df['petroMag_i']\n",
    "df['petroColor_iz'] = df['petroMag_i'] - df['petroMag_z']"
   ]
  },
  {
   "cell_type": "markdown",
   "metadata": {},
   "source": [
    "### **2.6)** En función de las correlaciones observadas en el práctico anterior, y con respecto a nuestra variable objetivo, propongan qué variables se podría excluir del dataset. \n"
   ]
  },
  {
   "cell_type": "code",
   "execution_count": null,
   "metadata": {},
   "outputs": [],
   "source": []
  },
  {
   "cell_type": "markdown",
   "metadata": {},
   "source": [
    "### **2.7)** Guardar el dataset \"limpio\" y generar un archivo README que contenga todos los pasos implementados en la curación de los datos.\n"
   ]
  },
  {
   "cell_type": "code",
   "execution_count": null,
   "metadata": {},
   "outputs": [],
   "source": []
  },
  {
   "cell_type": "markdown",
   "metadata": {},
   "source": [
    "### **2.8)** Armen un contenedor de docker con las versiones exactas de todas las bibliotecas utilizadas."
   ]
  },
  {
   "cell_type": "code",
   "execution_count": null,
   "metadata": {},
   "outputs": [],
   "source": []
  }
 ],
 "metadata": {
  "kernelspec": {
   "display_name": "Python 3",
   "language": "python",
   "name": "python3"
  },
  "language_info": {
   "codemirror_mode": {
    "name": "ipython",
    "version": 3
   },
   "file_extension": ".py",
   "mimetype": "text/x-python",
   "name": "python",
   "nbconvert_exporter": "python",
   "pygments_lexer": "ipython3",
   "version": "3.6.10"
  }
 },
 "nbformat": 4,
 "nbformat_minor": 4
}
